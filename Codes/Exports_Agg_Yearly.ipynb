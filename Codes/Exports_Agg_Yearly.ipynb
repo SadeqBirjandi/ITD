{
 "cells": [
  {
   "cell_type": "code",
   "execution_count": 1,
   "metadata": {},
   "outputs": [],
   "source": [
    "import pandas as pd\n",
    "import numpy as np\n",
    "import os"
   ]
  },
  {
   "cell_type": "code",
   "execution_count": 2,
   "metadata": {},
   "outputs": [],
   "source": [
    "os.chdir(\"C:\\TradeGroup\")\n",
    "my_wd = os.getcwd()\n",
    "new_directory = my_wd"
   ]
  },
  {
   "cell_type": "code",
   "execution_count": 4,
   "metadata": {},
   "outputs": [],
   "source": [
    "year = 1388\n",
    "\n",
    "baseyear=1380\n",
    "for year in range(1380,1381):\n",
    "\n",
    "    my_data_exp = pd.read_excel(f'{my_wd}/Data/Cleaned_Data/Y{year}Exports.xlsx')\n",
    "\n",
    "    my_data_imp = pd.read_excel(f'{my_wd}/Data/Cleaned_Data/Y{year}Imports.xlsx')\n",
    "\n",
    "    my_data_exp = my_data_exp.dropna(axis=0)\n",
    "\n",
    "    my_data_imp = my_data_imp.dropna(axis=0)\n",
    "\n",
    "\n",
    "\n",
    "\n",
    "    Trade = pd.DataFrame({'Year': [year], 'Exp_D':[my_data_exp['Dollars'].sum()],'Exp_W':[my_data_exp['Weight'].sum()/1000],'Imp_D':my_data_imp['Dollars'].sum(),\n",
    "                          'Imp_W':[my_data_imp['Weight'].sum()/1000]})\n",
    "    Trade['Exp_Price'] = Trade['Exp_D']/Trade['Exp_W']\n",
    "    Trade['Imp_Price'] = Trade['Imp_D']/Trade['Imp_W']\n",
    "\n",
    "\n",
    "    if year == baseyear:\n",
    "        Trade_Series = Trade\n",
    "    else:\n",
    "        Trade_Series = pd.concat([Trade_Series,Trade])    \n",
    "\n",
    "\n"
   ]
  },
  {
   "cell_type": "code",
   "execution_count": 26,
   "metadata": {},
   "outputs": [],
   "source": [
    "Trade_Series.to_excel(f'{my_wd}/Data/Indices/Yearly_Agg_TS.xlsx', index=False)"
   ]
  }
 ],
 "metadata": {
  "kernelspec": {
   "display_name": "Python 3",
   "language": "python",
   "name": "python3"
  },
  "language_info": {
   "codemirror_mode": {
    "name": "ipython",
    "version": 3
   },
   "file_extension": ".py",
   "mimetype": "text/x-python",
   "name": "python",
   "nbconvert_exporter": "python",
   "pygments_lexer": "ipython3",
   "version": "3.11.3"
  }
 },
 "nbformat": 4,
 "nbformat_minor": 2
}
