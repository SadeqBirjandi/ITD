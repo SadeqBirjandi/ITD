{
 "cells": [
  {
   "cell_type": "code",
   "execution_count": 23,
   "metadata": {},
   "outputs": [],
   "source": [
    "import pandas as pd\n",
    "import numpy as np\n",
    "import os\n",
    "import openpyxl\n",
    "import xlrd"
   ]
  },
  {
   "cell_type": "code",
   "execution_count": 24,
   "metadata": {},
   "outputs": [],
   "source": [
    "os.chdir(\"C:\\TradeGroup\")\n",
    "my_wd = os.getcwd()\n",
    "new_directory = my_wd\n",
    "folder_path = r\"C:/TradeGroup/Reports/All_Countries\"\n"
   ]
  },
  {
   "cell_type": "code",
   "execution_count": 29,
   "metadata": {},
   "outputs": [],
   "source": [
    "country = \"Iraq\"\n",
    "Iraq_Imports = pd.read_excel(f'{my_wd}/Data/Indices/Trademap_{country}Imports_2023.xlsx')\n",
    "\n",
    "df = pd.read_excel(f'{folder_path}/{country}_Data.xlsx')\n",
    "\n",
    "\n",
    "Iran_Exports = pd.read_excel(f'{my_wd}/Data/Indices/Trademap_IranExports_2022.xlsx')\n",
    "Iran_Exports['Code'] = Iran_Exports['Code'].str.replace(\"'\",\"\").astype('int')\n"
   ]
  },
  {
   "cell_type": "code",
   "execution_count": 32,
   "metadata": {},
   "outputs": [
    {
     "name": "stderr",
     "output_type": "stream",
     "text": [
      "C:\\Users\\msbirjandi\\AppData\\Local\\Temp\\ipykernel_15416\\3281397277.py:5: SettingWithCopyWarning: \n",
      "A value is trying to be set on a copy of a slice from a DataFrame\n",
      "\n",
      "See the caveats in the documentation: https://pandas.pydata.org/pandas-docs/stable/user_guide/indexing.html#returning-a-view-versus-a-copy\n",
      "  Iraq_Imports_2014_1.rename(columns={\"Code\":\"Tcode\"},inplace=True)\n",
      "C:\\Users\\msbirjandi\\AppData\\Local\\Temp\\ipykernel_15416\\3281397277.py:6: SettingWithCopyWarning: \n",
      "A value is trying to be set on a copy of a slice from a DataFrame\n",
      "\n",
      "See the caveats in the documentation: https://pandas.pydata.org/pandas-docs/stable/user_guide/indexing.html#returning-a-view-versus-a-copy\n",
      "  Iraq_Imports_2014_2.rename(columns={\"Product code\":\"Tcode\"},inplace=True)\n"
     ]
    }
   ],
   "source": [
    "Iraq_Imports_2014_1 = Iraq_Imports[['Code','Imported value in 2014']]\n",
    "Iraq_Imports_2014_2 = df[['Product code','Imports_from_World_2014','Iran_Exports_to_World_2014']]\n",
    "Iran_Exports = Iran_Exports[['Code','Exported value in 2014']]\n",
    "\n",
    "Iraq_Imports_2014_1.rename(columns={\"Code\":\"Tcode\"},inplace=True)\n",
    "Iraq_Imports_2014_2.rename(columns={\"Product code\":\"Tcode\"},inplace=True)\n",
    "\n",
    "Iran_Exports.rename(columns={\"Code\":\"Tcode\"},inplace=True)\n",
    "\n",
    "\n",
    "Iraq_Imports_2014 = Iraq_Imports_2014_1.merge(Iraq_Imports_2014_2,on='Tcode', how='outer')\n",
    "\n",
    "Iraq_Imports_2014.fillna(0,inplace=True)\n",
    "Iraq_Imports_2014['Diff'] = Iraq_Imports_2014['Imports_from_World_2014'] - Iraq_Imports_2014['Imported value in 2014']\n",
    "\n",
    "#Iraq_Imports_2014.to_excel(f'{my_wd}/Data/Indices/{country}Imports_2014_Test.xlsx',index=False)\n",
    "\n"
   ]
  },
  {
   "cell_type": "code",
   "execution_count": 37,
   "metadata": {},
   "outputs": [],
   "source": [
    "Iran_Check = Iraq_Imports_2014_2.merge(Iran_Exports,on='Tcode',how='outer')\n",
    "Iran_Check.fillna(0,inplace=True)\n",
    "Iran_Check['Diff'] = Iran_Check['Iran_Exports_to_World_2014'] - Iran_Check['Exported value in 2014']\n",
    "Iran_Check.to_excel(f'{my_wd}/Data/Indices/IranExports_2014_Test.xlsx',index=False)\n"
   ]
  }
 ],
 "metadata": {
  "kernelspec": {
   "display_name": "Python 3",
   "language": "python",
   "name": "python3"
  },
  "language_info": {
   "codemirror_mode": {
    "name": "ipython",
    "version": 3
   },
   "file_extension": ".py",
   "mimetype": "text/x-python",
   "name": "python",
   "nbconvert_exporter": "python",
   "pygments_lexer": "ipython3",
   "version": "3.11.3"
  }
 },
 "nbformat": 4,
 "nbformat_minor": 2
}
