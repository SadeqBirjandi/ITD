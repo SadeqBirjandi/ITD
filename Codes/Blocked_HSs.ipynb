{
 "cells": [
  {
   "cell_type": "code",
   "execution_count": 2,
   "metadata": {},
   "outputs": [],
   "source": [
    "import pandas as pd\n",
    "import numpy as np\n",
    "import os"
   ]
  },
  {
   "cell_type": "code",
   "execution_count": 3,
   "metadata": {},
   "outputs": [],
   "source": [
    "os.chdir(\"C:\\TradeGroup\")\n",
    "my_wd = os.getcwd()\n",
    "new_directory = my_wd"
   ]
  },
  {
   "cell_type": "code",
   "execution_count": 5,
   "metadata": {},
   "outputs": [
    {
     "data": {
      "text/plain": [
       "array([22041000, 22086000, 34012090, ..., 95042020, 95049020, 95063210],\n",
       "      dtype=int64)"
      ]
     },
     "execution_count": 5,
     "metadata": {},
     "output_type": "execute_result"
    }
   ],
   "source": [
    "Blocked_Codes_Report = pd.read_excel(f'{my_wd}/Reports/Blocked_Codes.xlsx',sheet_name= \"Sheet1\")\n",
    "Codes_Mamnoo = Blocked_Codes_Report.loc[Blocked_Codes_Report['Blocked_Type'] == \"Blocked\", 'Tcode'].unique()\n",
    "Codes_Mamnoo"
   ]
  },
  {
   "cell_type": "code",
   "execution_count": 6,
   "metadata": {},
   "outputs": [],
   "source": [
    "Blocked_Codes_Report = pd.read_excel(f'{my_wd}/Reports/Blocked_Codes.xlsx',sheet_name= \"Sheet1\")\n",
    "Codes_Mamnoo = Blocked_Codes_Report.loc[Blocked_Codes_Report['Blocked_Type'] == \"Blocked\", 'Tcode'].unique()\n",
    "year=1402\n",
    "for year in range(1390,1403):\n",
    "    Imports = pd.read_excel(f'{my_wd}/Data/Cleaned_Data/Y{year}Imports.xlsx')\n",
    "\n",
    "    #Imports_new = Imports.merge(Blocked_Codes_Report,on=\"Tcode\",how=\"inner\")\n",
    "    Imports_new = Imports[Imports['Tcode'].isin(Codes_Mamnoo)]\n",
    "\n",
    "    Imports_new.to_excel(f'{my_wd}/Reports/VaredatMamnooe{year}.xlsx',index=False)\n",
    "\n",
    "    Imports_new_agg_Tcode = Imports_new.groupby('Tcode').agg(\n",
    "        Tdesc= ('Tdesc','first'),\n",
    "        Dollars = ('Dollars','sum'),\n",
    "        Weight = ('Weight','sum')\n",
    "       # Year = ('Year',year)\n",
    "\n",
    "    ).reset_index()\n",
    "\n",
    "\n",
    "    Imports_new_agg_Custom = Imports_new.groupby('Custom').agg(\n",
    "        Dollars = ('Dollars','sum'),\n",
    "        Weight = ('Weight','sum')\n",
    "       # Year = ('Year',year)\n",
    "\n",
    "    ).reset_index()\n",
    "\n",
    "\n",
    "    Dollars_Sum = Imports_new_agg_Tcode['Dollars'].sum()\n",
    "    Weight_Sum = Imports_new_agg_Tcode['Weight'].sum()\n",
    "\n",
    "    Imports_new_agg_Tcode.rename(columns={'Dollars':f'Dollars_{year}','Weight':f'Weight_{year}'},inplace=True)\n",
    "\n",
    "    Imports_new_agg_Custom.rename(columns={'Dollars':f'Dollars_{year}','Weight':f'Weight_{year}'},inplace=True)\n",
    "\n",
    "\n",
    "\n",
    "\n",
    "\n",
    "    Datas_df = {'Year':[year],'Dollars':[Dollars_Sum], 'Weight':[Weight_Sum]}\n",
    "\n",
    "    Total_Mamnooe = pd.DataFrame(data=Datas_df)\n",
    "\n",
    "    if year == 1390:\n",
    "        Imports_new_agg_Tcode_Series = Imports_new_agg_Tcode\n",
    "        Imports_new_agg_Custom_Series = Imports_new_agg_Custom\n",
    "        Total_Mamnooe_Series = Total_Mamnooe\n",
    "    else:\n",
    "        Imports_new_agg_Tcode_Series = Imports_new_agg_Tcode_Series.merge(Imports_new_agg_Tcode,on=['Tcode','Tdesc'],how='outer')\n",
    "        Imports_new_agg_Custom_Series = Imports_new_agg_Custom_Series.merge(Imports_new_agg_Custom,on=['Custom'],how='outer')        \n",
    "        Total_Mamnooe_Series = pd.concat([Total_Mamnooe_Series,Total_Mamnooe])\n",
    "\n",
    "\n",
    "\n"
   ]
  },
  {
   "cell_type": "code",
   "execution_count": 7,
   "metadata": {},
   "outputs": [],
   "source": [
    "Total_Mamnooe_Series.to_excel(f'{my_wd}/Reports/VaredatMamnooe_Series_Sheet1.xlsx',index=False)\n",
    "\n",
    "Imports_new_agg_Tcode_Series = Imports_new_agg_Tcode_Series.fillna(0)\n",
    "Imports_new_agg_Custom_Series = Imports_new_agg_Custom_Series.fillna(0)\n",
    "\n",
    "Imports_new_agg_Tcode_Series.to_excel(f'{my_wd}/Reports/Tcode_Mamnooe_Series_Sheet1.xlsx',index=False)\n",
    "\n",
    "\n",
    "Imports_new_agg_Custom_Series.to_excel(f'{my_wd}/Reports/Custom_Mamnooe_Series_Sheet1.xlsx',index=False)\n",
    "\n",
    "\n"
   ]
  },
  {
   "cell_type": "code",
   "execution_count": 8,
   "metadata": {},
   "outputs": [
    {
     "data": {
      "text/html": [
       "<div>\n",
       "<style scoped>\n",
       "    .dataframe tbody tr th:only-of-type {\n",
       "        vertical-align: middle;\n",
       "    }\n",
       "\n",
       "    .dataframe tbody tr th {\n",
       "        vertical-align: top;\n",
       "    }\n",
       "\n",
       "    .dataframe thead th {\n",
       "        text-align: right;\n",
       "    }\n",
       "</style>\n",
       "<table border=\"1\" class=\"dataframe\">\n",
       "  <thead>\n",
       "    <tr style=\"text-align: right;\">\n",
       "      <th></th>\n",
       "      <th>Tcode</th>\n",
       "      <th>Tdesc</th>\n",
       "      <th>Dollars_1390</th>\n",
       "      <th>Weight_1390</th>\n",
       "      <th>Dollars_1391</th>\n",
       "      <th>Weight_1391</th>\n",
       "      <th>Dollars_1392</th>\n",
       "      <th>Weight_1392</th>\n",
       "      <th>Dollars_1393</th>\n",
       "      <th>Weight_1393</th>\n",
       "      <th>...</th>\n",
       "      <th>Dollars_1398</th>\n",
       "      <th>Weight_1398</th>\n",
       "      <th>Dollars_1399</th>\n",
       "      <th>Weight_1399</th>\n",
       "      <th>Dollars_1400</th>\n",
       "      <th>Weight_1400</th>\n",
       "      <th>Dollars_1401</th>\n",
       "      <th>Weight_1401</th>\n",
       "      <th>Dollars_1402</th>\n",
       "      <th>Weight_1402</th>\n",
       "    </tr>\n",
       "  </thead>\n",
       "  <tbody>\n",
       "  </tbody>\n",
       "</table>\n",
       "<p>0 rows × 28 columns</p>\n",
       "</div>"
      ],
      "text/plain": [
       "Empty DataFrame\n",
       "Columns: [Tcode, Tdesc, Dollars_1390, Weight_1390, Dollars_1391, Weight_1391, Dollars_1392, Weight_1392, Dollars_1393, Weight_1393, Dollars_1394, Weight_1394, Dollars_1395, Weight_1395, Dollars_1396, Weight_1396, Dollars_1397, Weight_1397, Dollars_1398, Weight_1398, Dollars_1399, Weight_1399, Dollars_1400, Weight_1400, Dollars_1401, Weight_1401, Dollars_1402, Weight_1402]\n",
       "Index: []\n",
       "\n",
       "[0 rows x 28 columns]"
      ]
     },
     "execution_count": 8,
     "metadata": {},
     "output_type": "execute_result"
    }
   ],
   "source": [
    "import_unique_codes = Imports_new_agg_Tcode_Series[~Imports_new_agg_Tcode_Series['Tcode'].isin(Codes_Mamnoo)]\n",
    "\n",
    "import_unique_codes"
   ]
  },
  {
   "cell_type": "code",
   "execution_count": 9,
   "metadata": {},
   "outputs": [],
   "source": [
    "Codes_Mamnoo_series = pd.Series(Codes_Mamnoo)\n",
    "\n",
    "Codes_Mamnoo_series.to_excel(f'{my_wd}/Reports/Cosdes_Mamnoo_Unique_Sheet1.xlsx',index=False)"
   ]
  },
  {
   "cell_type": "code",
   "execution_count": 10,
   "metadata": {},
   "outputs": [],
   "source": [
    "TCodes_Mamnoo_series = pd.Series(Imports_new_agg_Tcode_Series['Tcode'].unique())\n",
    "TCodes_Mamnoo_series.to_excel(f'{my_wd}/Reports/TCosdes_Mamnoo_Unique_Sheet1.xlsx',index=False)"
   ]
  }
 ],
 "metadata": {
  "kernelspec": {
   "display_name": "Python 3",
   "language": "python",
   "name": "python3"
  },
  "language_info": {
   "codemirror_mode": {
    "name": "ipython",
    "version": 3
   },
   "file_extension": ".py",
   "mimetype": "text/x-python",
   "name": "python",
   "nbconvert_exporter": "python",
   "pygments_lexer": "ipython3",
   "version": "3.11.3"
  }
 },
 "nbformat": 4,
 "nbformat_minor": 2
}
