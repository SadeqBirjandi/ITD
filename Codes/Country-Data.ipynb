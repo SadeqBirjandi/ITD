{
 "cells": [
  {
   "cell_type": "code",
   "execution_count": 2,
   "metadata": {},
   "outputs": [],
   "source": [
    "import pandas as pd\n",
    "import numpy as np\n",
    "import os\n",
    "import openpyxl"
   ]
  },
  {
   "cell_type": "code",
   "execution_count": 3,
   "metadata": {},
   "outputs": [],
   "source": [
    "new_directory = \"C:\\TradeGroup\"\n",
    "os.chdir(new_directory)\n",
    "my_wd = new_directory"
   ]
  },
  {
   "cell_type": "code",
   "execution_count": 4,
   "metadata": {},
   "outputs": [
    {
     "name": "stdout",
     "output_type": "stream",
     "text": [
      "Already Exists\n"
     ]
    }
   ],
   "source": [
    "def create_folder(folder_path):\n",
    "    if not os.path.exists(f'{new_directory}/{folder_path}'):\n",
    "        os.makedirs(f'{new_directory}/{folder_path}')\n",
    "    else:\n",
    "        print(f'Already Exists')\n",
    "\n",
    "create_folder('Data/Country_Data')"
   ]
  },
  {
   "cell_type": "code",
   "execution_count": 11,
   "metadata": {},
   "outputs": [],
   "source": [
    "\n",
    "for year in range(1371,1403):\n",
    "    exports_file_path = f\"{my_wd}/Data/Cleaned_Data/Y{year}Exports.xlsx\"\n",
    "    imports_file_path = f\"{my_wd}/Data/Cleaned_Data/Y{year}Imports.xlsx\"\n",
    "    #if year!=1394:\n",
    "    Exports = pd.read_excel(exports_file_path)\n",
    "    Imports = pd.read_excel(imports_file_path)\n",
    "    #if year != 1394:\n",
    "    Country_Exports = Exports.groupby('Country').agg(\n",
    "        Weight_Exp=('Weight', 'sum'),\n",
    "        Rials_Exp=('Rials', 'sum'),\n",
    "        Dollars_Exp=('Dollars', 'sum')\n",
    "      ).reset_index()\n",
    "\n",
    "    Country_Imports = Imports.groupby('Country').agg(\n",
    "    Weight_Imp=('Weight', 'sum'),\n",
    "    Rials_Imp=('Rials', 'sum'),\n",
    "    Dollars_Imp=('Dollars', 'sum')\n",
    "    ).reset_index()\n",
    "    if year!=1370:\n",
    "     Country_Trade = pd.merge(Country_Exports, Country_Imports, on='Country', how='outer')\n",
    "    else:\n",
    "      Country_Trade=Country_Imports \n",
    "    Country_Trade['Year'] = year\n",
    "    Country_Trade.fillna(0, inplace=True)\n",
    "\n",
    "    Country_Trade['Exp_Share']=100*round(Country_Trade['Dollars_Exp']/Country_Trade['Dollars_Exp'].sum(),ndigits=5)\n",
    "\n",
    "    Country_Trade['Imp_Share']=100*round(Country_Trade['Dollars_Imp']/Country_Trade['Dollars_Imp'].sum(),ndigits=5)\n",
    "\n",
    "\n",
    "    Country_Trade['Trade_Volume']=Country_Trade['Dollars_Exp']+Country_Trade['Dollars_Imp']\n",
    "    Country_Trade['Trade_Balance']=Country_Trade['Dollars_Exp']-Country_Trade['Dollars_Imp']\n",
    "    \n",
    "    Country_Trade['Trade_Volume_Share']=100*round(Country_Trade['Trade_Volume']/Country_Trade['Trade_Volume'].sum(),ndigits=5)\n",
    "\n",
    "\n",
    "    Country_Trade.to_excel(f\"{my_wd}/Data/Country_Data/Y{year}CountryTrade.xlsx\", index=False)\n"
   ]
  }
 ],
 "metadata": {
  "kernelspec": {
   "display_name": "Python 3",
   "language": "python",
   "name": "python3"
  },
  "language_info": {
   "codemirror_mode": {
    "name": "ipython",
    "version": 3
   },
   "file_extension": ".py",
   "mimetype": "text/x-python",
   "name": "python",
   "nbconvert_exporter": "python",
   "pygments_lexer": "ipython3",
   "version": "3.11.3"
  },
  "orig_nbformat": 4
 },
 "nbformat": 4,
 "nbformat_minor": 2
}
