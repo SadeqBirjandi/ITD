{
 "cells": [
  {
   "cell_type": "code",
   "execution_count": 1,
   "metadata": {},
   "outputs": [],
   "source": [
    "import pandas as pd\n",
    "import numpy as np\n",
    "import os"
   ]
  },
  {
   "cell_type": "code",
   "execution_count": 2,
   "metadata": {},
   "outputs": [
    {
     "name": "stdout",
     "output_type": "stream",
     "text": [
      "Already Exists\n"
     ]
    }
   ],
   "source": [
    "# Set the working directory\n",
    "os.chdir(\"C:\\TradeGroup\")\n",
    "my_wd = os.getcwd()\n",
    "new_directory = my_wd\n",
    "\n",
    "def create_folder(folder_path):\n",
    "    if not os.path.exists(f'{new_directory}/{folder_path}'):\n",
    "        os.makedirs(f'{new_directory}/{folder_path}')\n",
    "    else:\n",
    "        print(f'Already Exists')\n",
    "\n",
    "create_folder('Data/Indices')"
   ]
  },
  {
   "cell_type": "code",
   "execution_count": 3,
   "metadata": {},
   "outputs": [],
   "source": [
    "Iran_08_Exports_Country = pd.read_excel(f'{my_wd}/Data/Indices/Iran_08_Exports_by_Country.xlsx')\n",
    "\n",
    "\n",
    "\n",
    "\n",
    "Iran_08_Exports_Country.columns=Iran_08_Exports_Country.columns.str.replace(\"Exported value in \",\"\")\n",
    "\n",
    "Iran_08_Exports_Country.columns=Iran_08_Exports_Country.columns.str.replace(\"Importers\",\"Country\")\n",
    "\n",
    "\n",
    "Iran_08_Exports_Country.columns = Iran_08_Exports_Country.columns[0:1].tolist() + [col + '_Iran_Food_Exports' for col in Iran_08_Exports_Country.columns[1:]]\n"
   ]
  },
  {
   "cell_type": "code",
   "execution_count": 4,
   "metadata": {},
   "outputs": [],
   "source": [
    "Iran_Totall_Exports_Country = pd.read_excel(f'{my_wd}/Data/Indices/Iran_All_Exports_by_Country.xlsx')\n",
    "\n",
    "Iran_Totall_Exports_Country.columns=Iran_Totall_Exports_Country.columns.str.replace(\"Exported value in \",\"\")\n",
    "\n",
    "Iran_Totall_Exports_Country.columns=Iran_Totall_Exports_Country.columns.str.replace(\"Importers\",\"Country\")\n",
    "\n",
    "\n",
    "Iran_Totall_Exports_Country.columns = Iran_Totall_Exports_Country.columns[0:1].tolist() + [col + '_Iran_Total_Exports' for col in Iran_Totall_Exports_Country.columns[1:]]\n"
   ]
  },
  {
   "cell_type": "code",
   "execution_count": 5,
   "metadata": {},
   "outputs": [],
   "source": [
    "Country_Food_Imports = pd.read_excel(f'{my_wd}/Data/Indices/World_08_Imports_by_Country - Copy.xlsx')\n",
    "\n",
    "Country_Food_Imports.columns=Country_Food_Imports.columns.str.replace(\"Imported value in \",\"\")\n",
    "\n",
    "Country_Food_Imports.columns=Country_Food_Imports.columns.str.replace(\"Importers\",\"Country\")\n",
    "\n",
    "\n",
    "Country_Food_Imports.columns = Country_Food_Imports.columns[0:1].tolist() + [col + '_Country_Food_Imports' for col in Country_Food_Imports.columns[1:]]\n"
   ]
  },
  {
   "cell_type": "code",
   "execution_count": 6,
   "metadata": {},
   "outputs": [],
   "source": [
    "Country_Food_Exports = pd.read_excel(f'{my_wd}/Data/Indices/World_08_Exports_by_Country.xlsx')\n",
    "\n",
    "Country_Food_Exports.columns=Country_Food_Exports.columns.str.replace(\"Exported value in \",\"\")\n",
    "\n",
    "Country_Food_Exports.columns=Country_Food_Exports.columns.str.replace(\"Exporters\",\"Country\")\n",
    "\n",
    "\n",
    "Country_Food_Exports.columns = Country_Food_Exports.columns[0:1].tolist() + [col + '_Total_Food_Exports' for col in Country_Food_Exports.columns[1:]]\n",
    "\n",
    "\n",
    "Country_Food_Exports_New=pd.DataFrame(Country_Food_Exports['Country'])\n",
    "for year in range(2014,2023):\n",
    "    Country_Food_Exports_New[f'Total_Food_Exports_{year}'] = Country_Food_Exports[f'{year}_Total_Food_Exports'].sum()\n",
    "    "
   ]
  },
  {
   "cell_type": "code",
   "execution_count": 7,
   "metadata": {},
   "outputs": [],
   "source": [
    "All_Export_Imports = Iran_08_Exports_Country.merge(Iran_Totall_Exports_Country,on=\"Country\")\n",
    "\n",
    "All_Export_Imports = All_Export_Imports.merge(Country_Food_Imports, on=\"Country\")\n",
    "\n",
    "All_Export_Imports = All_Export_Imports.merge(Country_Food_Exports_New, on=\"Country\")\n",
    "\n",
    "\n",
    "for year in range(2014,2023):\n",
    "    \n",
    "    All_Export_Imports[f'Food_Share_of_Exports_{year}']= All_Export_Imports[f'{year}_Iran_Food_Exports']/All_Export_Imports[f'{year}_Iran_Total_Exports']\n",
    "    All_Export_Imports[f'Food_Share_of_Imports_{year}']= All_Export_Imports[f'{year}_Country_Food_Imports']/All_Export_Imports[f'Total_Food_Exports_{year}']\n",
    "    All_Export_Imports[f'Trade_Intensity_Index_{year}']= All_Export_Imports[f'Food_Share_of_Exports_{year}'] / All_Export_Imports[f'Food_Share_of_Imports_{year}']\n",
    "\n",
    "All_Export_Imports\n",
    "\n",
    "All_Export_Imports.to_excel(f'{my_wd}\\Data\\Indices\\Trade_Intesity_Index.xlsx',index=False)"
   ]
  },
  {
   "cell_type": "code",
   "execution_count": 9,
   "metadata": {},
   "outputs": [],
   "source": [
    "countries = ['Afghanistan', 'Azerbaijan', 'Bahrain', 'Iraq','Kazakhstan','Kuwait','Kyrgyzstan',\n",
    "             'Oman','Pakistan','Qatar','Russian Federation','Saudi Arabia','Türkiye','Turkmenistan',\n",
    "             'United Arab Emirates','China','India','Indonesia',\"Syrian Arab Republic\"]\n",
    "Trade_Intensity = All_Export_Imports[All_Export_Imports['Country'].isin(countries)]\n",
    "Trade_Intensity.to_excel(f'{my_wd}\\Data\\Indices\\Trade_Intesity_Index_New.xlsx',index=False)"
   ]
  }
 ],
 "metadata": {
  "kernelspec": {
   "display_name": "Python 3",
   "language": "python",
   "name": "python3"
  },
  "language_info": {
   "codemirror_mode": {
    "name": "ipython",
    "version": 3
   },
   "file_extension": ".py",
   "mimetype": "text/x-python",
   "name": "python",
   "nbconvert_exporter": "python",
   "pygments_lexer": "ipython3",
   "version": "3.11.3"
  }
 },
 "nbformat": 4,
 "nbformat_minor": 2
}
