{
 "cells": [
  {
   "cell_type": "code",
   "execution_count": 2,
   "metadata": {},
   "outputs": [],
   "source": [
    "import os\n",
    "import pandas as pd\n",
    "\n",
    "# Set the working directory\n",
    "os.chdir(\"C:\\TradeGroup\")\n",
    "my_wd = os.getcwd()\n",
    "new_directory = my_wd\n"
   ]
  },
  {
   "cell_type": "code",
   "execution_count": 4,
   "metadata": {},
   "outputs": [],
   "source": [
    "baseyear=1390\n",
    "HS8Sharp = pd.read_excel(f\"{my_wd}/Data/HS_Data/HS8_TimeSeries_SahrpDeclines_2Periods.xlsx\")\n",
    "for year in range(1390,1403):\n",
    "    Imports=pd.read_excel(f\"{my_wd}/Data/Cleaned_Data/Y{year}Imports.xlsx\")\n",
    "    Imports_Names=Imports[['Tcode','Tdesc']].drop_duplicates().rename(columns={\"Tcode\":\"HS8\"})\n",
    "    if year==baseyear:\n",
    "        Imports_Names_Series= Imports_Names\n",
    "    else:\n",
    "        Imports_Names_Series=pd.concat([Imports_Names_Series,Imports_Names],axis=0,ignore_index=True)  \n",
    "\n",
    "#Imports_Names_Series_Final=Imports_Names_Series.dropna().drop_duplicates(subset=['HS8'])\n"
   ]
  },
  {
   "cell_type": "code",
   "execution_count": 5,
   "metadata": {},
   "outputs": [],
   "source": [
    "Imports_Names_Series_Final=Imports_Names_Series.dropna().drop_duplicates(subset=['HS8'])\n",
    "Imports_Names_Series_Final.to_excel(f\"{my_wd}/Codes_Desc_HS8.xlsx\", index=False)"
   ]
  },
  {
   "cell_type": "code",
   "execution_count": 38,
   "metadata": {},
   "outputs": [],
   "source": [
    "HS8Sharp_Tdesc=Imports_Names_Series_Final.merge(HS8Sharp[HS8Sharp['SharpDeclineColumn']!=1390],on=\"HS8\",how=\"right\")\n",
    "HS8Sharp_Tdesc\n",
    "HS8Sharp_Tdesc.to_excel(f\"{my_wd}/Data/HS_Data/HS8_TimeSeries_SahrpDeclines_2Periods_WithNames.xlsx\", index=False)\n"
   ]
  },
  {
   "cell_type": "code",
   "execution_count": 7,
   "metadata": {},
   "outputs": [],
   "source": [
    "HS8Sharp_All_Periods = pd.read_excel(f\"{my_wd}/Data/HS_Data/HS8_TimeSeries_SahrpDeclines_All_Periods.xlsx\")\n",
    "HS8Sharp_All_Periods_descs=Imports_Names_Series_Final.merge(HS8Sharp_All_Periods[HS8Sharp_All_Periods['SharpDeclineColumn']!=1390],on=\"HS8\",how=\"right\")\n",
    "HS8Sharp_All_Periods_descs.to_excel(f\"{my_wd}/Data/HS_Data/HS8_TimeSeries_SahrpDeclines_All_Periods_WithNames.xlsx\", index=False)"
   ]
  }
 ],
 "metadata": {
  "kernelspec": {
   "display_name": "Python 3",
   "language": "python",
   "name": "python3"
  },
  "language_info": {
   "codemirror_mode": {
    "name": "ipython",
    "version": 3
   },
   "file_extension": ".py",
   "mimetype": "text/x-python",
   "name": "python",
   "nbconvert_exporter": "python",
   "pygments_lexer": "ipython3",
   "version": "3.11.3"
  }
 },
 "nbformat": 4,
 "nbformat_minor": 2
}
