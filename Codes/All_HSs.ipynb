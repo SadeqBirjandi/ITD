{
 "cells": [
  {
   "cell_type": "code",
   "execution_count": 1,
   "metadata": {},
   "outputs": [],
   "source": [
    "import pandas as pd\n",
    "import numpy as np\n",
    "import os"
   ]
  },
  {
   "cell_type": "code",
   "execution_count": 2,
   "metadata": {},
   "outputs": [
    {
     "name": "stdout",
     "output_type": "stream",
     "text": [
      "Already Exists\n"
     ]
    }
   ],
   "source": [
    "os.chdir(\"C:\\TradeGroup\")\n",
    "my_wd = os.getcwd()\n",
    "new_directory = my_wd\n",
    "\n",
    "def create_folder(folder_path):\n",
    "    if not os.path.exists(f'{new_directory}/{folder_path}'):\n",
    "        os.makedirs(f'{new_directory}/{folder_path}')\n",
    "    else:\n",
    "        print(f'Already Exists')\n",
    "\n",
    "create_folder('Data/Indices')"
   ]
  },
  {
   "cell_type": "code",
   "execution_count": 3,
   "metadata": {},
   "outputs": [],
   "source": [
    "All_HSs = pd.read_excel('C:\\TradeGroup\\Reports\\AllHSs.xlsx')"
   ]
  },
  {
   "cell_type": "code",
   "execution_count": 15,
   "metadata": {},
   "outputs": [
    {
     "data": {
      "text/plain": [
       "6687"
      ]
     },
     "execution_count": 15,
     "metadata": {},
     "output_type": "execute_result"
    }
   ],
   "source": [
    "All_HSs['HS6']=All_HSs['HS12'].astype('str').str.slice(0,-6)\n",
    "All_HSs['HS8']=All_HSs['HS12'].astype('str').str.slice(0,-4)\n",
    "\n",
    "All_HSs_New = All_HSs[['HS12','HS6','HS8']]\n",
    "\n",
    "\n",
    "len(All_HSs_New['HS6'].unique())"
   ]
  },
  {
   "cell_type": "code",
   "execution_count": 20,
   "metadata": {},
   "outputs": [],
   "source": [
    "All_HSs_Iran = pd.read_excel('C:\\TradeGroup\\Reports\\All_HSs_Iran.xlsx')"
   ]
  },
  {
   "cell_type": "code",
   "execution_count": 24,
   "metadata": {},
   "outputs": [
    {
     "data": {
      "text/plain": [
       "5622"
      ]
     },
     "execution_count": 24,
     "metadata": {},
     "output_type": "execute_result"
    }
   ],
   "source": [
    "All_HSs_Iran['HS6']=All_HSs_Iran['HS8'].astype('str').str.slice(0,-2)\n",
    "\n",
    "len(All_HSs_Iran['HS6'].unique())\n"
   ]
  },
  {
   "cell_type": "code",
   "execution_count": 22,
   "metadata": {},
   "outputs": [
    {
     "data": {
      "text/html": [
       "<div>\n",
       "<style scoped>\n",
       "    .dataframe tbody tr th:only-of-type {\n",
       "        vertical-align: middle;\n",
       "    }\n",
       "\n",
       "    .dataframe tbody tr th {\n",
       "        vertical-align: top;\n",
       "    }\n",
       "\n",
       "    .dataframe thead th {\n",
       "        text-align: right;\n",
       "    }\n",
       "</style>\n",
       "<table border=\"1\" class=\"dataframe\">\n",
       "  <thead>\n",
       "    <tr style=\"text-align: right;\">\n",
       "      <th></th>\n",
       "      <th>HS8</th>\n",
       "      <th>شرح کد تعرفه</th>\n",
       "      <th>حقوق ورودی</th>\n",
       "      <th>حقوق گمرکی</th>\n",
       "      <th>سود بازرگانی</th>\n",
       "      <th>شرح لاتین کد تعرفه</th>\n",
       "      <th>سال کد تعرفه</th>\n",
       "    </tr>\n",
       "  </thead>\n",
       "  <tbody>\n",
       "    <tr>\n",
       "      <th>0</th>\n",
       "      <td>17011300</td>\n",
       "      <td>ـ ـ از نیشکر</td>\n",
       "      <td>1</td>\n",
       "      <td>1</td>\n",
       "      <td>0</td>\n",
       "      <td>-- Cane suger</td>\n",
       "      <td>1401</td>\n",
       "    </tr>\n",
       "    <tr>\n",
       "      <th>1</th>\n",
       "      <td>1022110</td>\n",
       "      <td>ـ ـ ـ گاو شيري</td>\n",
       "      <td>1</td>\n",
       "      <td>1</td>\n",
       "      <td>0</td>\n",
       "      <td>--- Milk cow</td>\n",
       "      <td>1401</td>\n",
       "    </tr>\n",
       "    <tr>\n",
       "      <th>2</th>\n",
       "      <td>1022120</td>\n",
       "      <td>ـ ـ ـ گاو گوشتی</td>\n",
       "      <td>1</td>\n",
       "      <td>1</td>\n",
       "      <td>0</td>\n",
       "      <td>--- Beef cattle</td>\n",
       "      <td>1401</td>\n",
       "    </tr>\n",
       "    <tr>\n",
       "      <th>3</th>\n",
       "      <td>1022130</td>\n",
       "      <td>--- گاو دو منظوره (شیری و گوشتی)</td>\n",
       "      <td>1</td>\n",
       "      <td>1</td>\n",
       "      <td>0</td>\n",
       "      <td>--- Dual-purpose cattle</td>\n",
       "      <td>1401</td>\n",
       "    </tr>\n",
       "    <tr>\n",
       "      <th>4</th>\n",
       "      <td>1022140</td>\n",
       "      <td>--- گاو نر مولد نژاد (شیری، گوشتی، دو منظوره)</td>\n",
       "      <td>1</td>\n",
       "      <td>1</td>\n",
       "      <td>0</td>\n",
       "      <td>---Breeding bull (daing, beef-purpose)</td>\n",
       "      <td>1401</td>\n",
       "    </tr>\n",
       "    <tr>\n",
       "      <th>...</th>\n",
       "      <td>...</td>\n",
       "      <td>...</td>\n",
       "      <td>...</td>\n",
       "      <td>...</td>\n",
       "      <td>...</td>\n",
       "      <td>...</td>\n",
       "      <td>...</td>\n",
       "    </tr>\n",
       "    <tr>\n",
       "      <th>8854</th>\n",
       "      <td>87037090</td>\n",
       "      <td>--- ساير</td>\n",
       "      <td>95</td>\n",
       "      <td>4</td>\n",
       "      <td>91</td>\n",
       "      <td>--- Other</td>\n",
       "      <td>1401</td>\n",
       "    </tr>\n",
       "    <tr>\n",
       "      <th>8855</th>\n",
       "      <td>50010000</td>\n",
       "      <td>پيله كرم ابريشم مناسب براي بازكردن.</td>\n",
       "      <td>هنگام ترخیص از 15 اردیبهشت لغایت 15 تیر، 5 درص...</td>\n",
       "      <td>4</td>\n",
       "      <td>0</td>\n",
       "      <td>Silk-worm cocoons suitable for reeling.</td>\n",
       "      <td>1401</td>\n",
       "    </tr>\n",
       "    <tr>\n",
       "      <th>8856</th>\n",
       "      <td>8052100</td>\n",
       "      <td>ـ ـ نارنگی­ها (شامل تنجرین­ها وسان سوماک)</td>\n",
       "      <td>هنگام ترخیص از اول بهمن ماه لغایت  31 اردیبهشت...</td>\n",
       "      <td>4</td>\n",
       "      <td>6</td>\n",
       "      <td>-- Mandarins (including tangerines and satsumas)</td>\n",
       "      <td>1401</td>\n",
       "    </tr>\n",
       "    <tr>\n",
       "      <th>8857</th>\n",
       "      <td>8052200</td>\n",
       "      <td>ـ ـ کلمانتین­ها</td>\n",
       "      <td>هنگام ترخیص از اول بهمن ماه لغایت  31 اردیبهشت...</td>\n",
       "      <td>4</td>\n",
       "      <td>6</td>\n",
       "      <td>-- clementines</td>\n",
       "      <td>1401</td>\n",
       "    </tr>\n",
       "    <tr>\n",
       "      <th>8858</th>\n",
       "      <td>8052900</td>\n",
       "      <td>ـ ـ ساير</td>\n",
       "      <td>هنگام ترخیص از اول بهمن ماه لغایت  31 اردیبهشت...</td>\n",
       "      <td>4</td>\n",
       "      <td>6</td>\n",
       "      <td>-- Other</td>\n",
       "      <td>1401</td>\n",
       "    </tr>\n",
       "  </tbody>\n",
       "</table>\n",
       "<p>8859 rows × 7 columns</p>\n",
       "</div>"
      ],
      "text/plain": [
       "           HS8                                   شرح کد تعرفه  \\\n",
       "0     17011300                                   ـ ـ از نیشکر   \n",
       "1      1022110                                 ـ ـ ـ گاو شيري   \n",
       "2      1022120                                ـ ـ ـ گاو گوشتی   \n",
       "3      1022130               --- گاو دو منظوره (شیری و گوشتی)   \n",
       "4      1022140  --- گاو نر مولد نژاد (شیری، گوشتی، دو منظوره)   \n",
       "...        ...                                            ...   \n",
       "8854  87037090                                       --- ساير   \n",
       "8855  50010000            پيله كرم ابريشم مناسب براي بازكردن.   \n",
       "8856   8052100      ـ ـ نارنگی­ها (شامل تنجرین­ها وسان سوماک)   \n",
       "8857   8052200                                ـ ـ کلمانتین­ها   \n",
       "8858   8052900                                       ـ ـ ساير   \n",
       "\n",
       "                                             حقوق ورودی  حقوق گمرکی  \\\n",
       "0                                                     1           1   \n",
       "1                                                     1           1   \n",
       "2                                                     1           1   \n",
       "3                                                     1           1   \n",
       "4                                                     1           1   \n",
       "...                                                 ...         ...   \n",
       "8854                                                 95           4   \n",
       "8855  هنگام ترخیص از 15 اردیبهشت لغایت 15 تیر، 5 درص...           4   \n",
       "8856  هنگام ترخیص از اول بهمن ماه لغایت  31 اردیبهشت...           4   \n",
       "8857  هنگام ترخیص از اول بهمن ماه لغایت  31 اردیبهشت...           4   \n",
       "8858  هنگام ترخیص از اول بهمن ماه لغایت  31 اردیبهشت...           4   \n",
       "\n",
       "      سود بازرگانی                                شرح لاتین کد تعرفه  \\\n",
       "0                0                                     -- Cane suger   \n",
       "1                0                                      --- Milk cow   \n",
       "2                0                                   --- Beef cattle   \n",
       "3                0                           --- Dual-purpose cattle   \n",
       "4                0            ---Breeding bull (daing, beef-purpose)   \n",
       "...            ...                                               ...   \n",
       "8854            91                                         --- Other   \n",
       "8855             0        Silk-worm cocoons suitable for reeling.      \n",
       "8856             6  -- Mandarins (including tangerines and satsumas)   \n",
       "8857             6                                    -- clementines   \n",
       "8858             6                                          -- Other   \n",
       "\n",
       "      سال کد تعرفه  \n",
       "0             1401  \n",
       "1             1401  \n",
       "2             1401  \n",
       "3             1401  \n",
       "4             1401  \n",
       "...            ...  \n",
       "8854          1401  \n",
       "8855          1401  \n",
       "8856          1401  \n",
       "8857          1401  \n",
       "8858          1401  \n",
       "\n",
       "[8859 rows x 7 columns]"
      ]
     },
     "execution_count": 22,
     "metadata": {},
     "output_type": "execute_result"
    }
   ],
   "source": [
    "All_HSs_Iran"
   ]
  }
 ],
 "metadata": {
  "kernelspec": {
   "display_name": "Python 3",
   "language": "python",
   "name": "python3"
  },
  "language_info": {
   "codemirror_mode": {
    "name": "ipython",
    "version": 3
   },
   "file_extension": ".py",
   "mimetype": "text/x-python",
   "name": "python",
   "nbconvert_exporter": "python",
   "pygments_lexer": "ipython3",
   "version": "3.11.3"
  }
 },
 "nbformat": 4,
 "nbformat_minor": 2
}
