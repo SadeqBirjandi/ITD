{
 "cells": [
  {
   "cell_type": "code",
   "execution_count": 1,
   "metadata": {},
   "outputs": [],
   "source": [
    "import pandas as pd\n",
    "import numpy as np\n",
    "import os"
   ]
  },
  {
   "cell_type": "code",
   "execution_count": 13,
   "metadata": {},
   "outputs": [],
   "source": [
    "D1400 = pd.read_excel(f\"C:/TradeGroup/Reports/1400_CCI.xlsx\")\n",
    "D1401 = pd.read_excel(f\"C:/TradeGroup/Reports/1401_CCI.xlsx\")\n",
    "D1402 = pd.read_excel(f\"C:/TradeGroup/Reports/1402_CCI.xlsx\")\n"
   ]
  },
  {
   "cell_type": "code",
   "execution_count": 14,
   "metadata": {},
   "outputs": [
    {
     "data": {
      "text/html": [
       "<div>\n",
       "<style scoped>\n",
       "    .dataframe tbody tr th:only-of-type {\n",
       "        vertical-align: middle;\n",
       "    }\n",
       "\n",
       "    .dataframe tbody tr th {\n",
       "        vertical-align: top;\n",
       "    }\n",
       "\n",
       "    .dataframe thead th {\n",
       "        text-align: right;\n",
       "    }\n",
       "</style>\n",
       "<table border=\"1\" class=\"dataframe\">\n",
       "  <thead>\n",
       "    <tr style=\"text-align: right;\">\n",
       "      <th></th>\n",
       "      <th>Type</th>\n",
       "      <th>HSCode</th>\n",
       "    </tr>\n",
       "  </thead>\n",
       "  <tbody>\n",
       "    <tr>\n",
       "      <th>0</th>\n",
       "      <td>سرمایه ای</td>\n",
       "      <td>1012100</td>\n",
       "    </tr>\n",
       "    <tr>\n",
       "      <th>1</th>\n",
       "      <td>واسطه ای</td>\n",
       "      <td>1022900</td>\n",
       "    </tr>\n",
       "    <tr>\n",
       "      <th>2</th>\n",
       "      <td>واسطه ای</td>\n",
       "      <td>1051140</td>\n",
       "    </tr>\n",
       "    <tr>\n",
       "      <th>3</th>\n",
       "      <td>واسطه ای</td>\n",
       "      <td>1061390</td>\n",
       "    </tr>\n",
       "    <tr>\n",
       "      <th>4</th>\n",
       "      <td>واسطه ای</td>\n",
       "      <td>1069020</td>\n",
       "    </tr>\n",
       "    <tr>\n",
       "      <th>...</th>\n",
       "      <td>...</td>\n",
       "      <td>...</td>\n",
       "    </tr>\n",
       "    <tr>\n",
       "      <th>26661</th>\n",
       "      <td>واسطه ای</td>\n",
       "      <td>98871192</td>\n",
       "    </tr>\n",
       "    <tr>\n",
       "      <th>26662</th>\n",
       "      <td>واسطه ای</td>\n",
       "      <td>98871196</td>\n",
       "    </tr>\n",
       "    <tr>\n",
       "      <th>26663</th>\n",
       "      <td>سرمایه ای</td>\n",
       "      <td>98871230</td>\n",
       "    </tr>\n",
       "    <tr>\n",
       "      <th>26664</th>\n",
       "      <td>سرمایه ای</td>\n",
       "      <td>98871240</td>\n",
       "    </tr>\n",
       "    <tr>\n",
       "      <th>26665</th>\n",
       "      <td>سرمایه ای</td>\n",
       "      <td>98871290</td>\n",
       "    </tr>\n",
       "  </tbody>\n",
       "</table>\n",
       "<p>26666 rows × 2 columns</p>\n",
       "</div>"
      ],
      "text/plain": [
       "            Type    HSCode\n",
       "0      سرمایه ای   1012100\n",
       "1       واسطه ای   1022900\n",
       "2       واسطه ای   1051140\n",
       "3       واسطه ای   1061390\n",
       "4       واسطه ای   1069020\n",
       "...          ...       ...\n",
       "26661   واسطه ای  98871192\n",
       "26662   واسطه ای  98871196\n",
       "26663  سرمایه ای  98871230\n",
       "26664  سرمایه ای  98871240\n",
       "26665  سرمایه ای  98871290\n",
       "\n",
       "[26666 rows x 2 columns]"
      ]
     },
     "execution_count": 14,
     "metadata": {},
     "output_type": "execute_result"
    }
   ],
   "source": [
    "D1402"
   ]
  },
  {
   "cell_type": "code",
   "execution_count": 22,
   "metadata": {},
   "outputs": [],
   "source": [
    "DTot = pd.concat([D1400,D1401,D1402])\n",
    "\n",
    "DTot_uniqe = DTot.groupby(\"HSCode\").agg(\n",
    "   CCI = ('Type','first')\n",
    ").reset_index()\n",
    "\n",
    "DTot_uniqe.to_excel(f\"C:/TradeGroup/Reports/CCI_Codes_HS8.xlsx\",index=False)"
   ]
  }
 ],
 "metadata": {
  "kernelspec": {
   "display_name": "Python 3",
   "language": "python",
   "name": "python3"
  },
  "language_info": {
   "codemirror_mode": {
    "name": "ipython",
    "version": 3
   },
   "file_extension": ".py",
   "mimetype": "text/x-python",
   "name": "python",
   "nbconvert_exporter": "python",
   "pygments_lexer": "ipython3",
   "version": "3.11.3"
  }
 },
 "nbformat": 4,
 "nbformat_minor": 2
}
