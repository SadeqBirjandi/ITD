{
 "cells": [
  {
   "cell_type": "code",
   "execution_count": 1,
   "metadata": {},
   "outputs": [],
   "source": [
    "import pandas as pd\n",
    "import numpy as np\n",
    "import os"
   ]
  },
  {
   "cell_type": "code",
   "execution_count": 2,
   "metadata": {},
   "outputs": [],
   "source": [
    "os.chdir(\"C:\\TradeGroup\")\n",
    "my_wd = os.getcwd()\n",
    "new_directory = my_wd"
   ]
  },
  {
   "cell_type": "code",
   "execution_count": 3,
   "metadata": {},
   "outputs": [],
   "source": [
    "Continents = ['Americas','Africa','Europe','Asia','Oceania']\n",
    "\n",
    "for continent in Continents:\n",
    "    Imported_Data = pd.read_excel(f'{my_wd}/Data/{continent}_HS4.xlsx')\n",
    "    Imported_Data=Imported_Data.dropna(axis=0).drop_duplicates()\n",
    "    if continent == \"Americas\":\n",
    "        Imported_Data_World = Imported_Data\n",
    "    else:\n",
    "        Imported_Data_World = pd.concat([Imported_Data_World,Imported_Data])    \n",
    "\n",
    "     \n",
    "Imported_Data_World = Imported_Data_World.drop_duplicates()"
   ]
  },
  {
   "cell_type": "code",
   "execution_count": 4,
   "metadata": {},
   "outputs": [],
   "source": [
    "Imported_Data_World.to_excel(f'{my_wd}/Data/HS4sunique.xlsx',index=False)"
   ]
  },
  {
   "cell_type": "code",
   "execution_count": 5,
   "metadata": {},
   "outputs": [
    {
     "data": {
      "text/html": [
       "<div>\n",
       "<style scoped>\n",
       "    .dataframe tbody tr th:only-of-type {\n",
       "        vertical-align: middle;\n",
       "    }\n",
       "\n",
       "    .dataframe tbody tr th {\n",
       "        vertical-align: top;\n",
       "    }\n",
       "\n",
       "    .dataframe thead th {\n",
       "        text-align: right;\n",
       "    }\n",
       "</style>\n",
       "<table border=\"1\" class=\"dataframe\">\n",
       "  <thead>\n",
       "    <tr style=\"text-align: right;\">\n",
       "      <th></th>\n",
       "      <th>HS4_F</th>\n",
       "      <th>HS4</th>\n",
       "    </tr>\n",
       "  </thead>\n",
       "  <tbody>\n",
       "    <tr>\n",
       "      <th>0</th>\n",
       "      <td>اسب ها</td>\n",
       "      <td>101</td>\n",
       "    </tr>\n",
       "    <tr>\n",
       "      <th>1</th>\n",
       "      <td>گاو</td>\n",
       "      <td>102</td>\n",
       "    </tr>\n",
       "    <tr>\n",
       "      <th>2</th>\n",
       "      <td>گراز</td>\n",
       "      <td>103</td>\n",
       "    </tr>\n",
       "    <tr>\n",
       "      <th>3</th>\n",
       "      <td>گوسفند</td>\n",
       "      <td>104</td>\n",
       "    </tr>\n",
       "    <tr>\n",
       "      <th>4</th>\n",
       "      <td>مرغ</td>\n",
       "      <td>105</td>\n",
       "    </tr>\n",
       "    <tr>\n",
       "      <th>...</th>\n",
       "      <td>...</td>\n",
       "      <td>...</td>\n",
       "    </tr>\n",
       "    <tr>\n",
       "      <th>1211</th>\n",
       "      <td>مجسمه ها</td>\n",
       "      <td>9703</td>\n",
       "    </tr>\n",
       "    <tr>\n",
       "      <th>1212</th>\n",
       "      <td>تمبر پستی یا درآمدی</td>\n",
       "      <td>9704</td>\n",
       "    </tr>\n",
       "    <tr>\n",
       "      <th>1213</th>\n",
       "      <td>قطعات کلکسیونر</td>\n",
       "      <td>9705</td>\n",
       "    </tr>\n",
       "    <tr>\n",
       "      <th>1214</th>\n",
       "      <td>عتیقه بیش از 100 سال</td>\n",
       "      <td>9706</td>\n",
       "    </tr>\n",
       "    <tr>\n",
       "      <th>1215</th>\n",
       "      <td>کالاها بر اساس نوع مشخص نشده اند</td>\n",
       "      <td>9999</td>\n",
       "    </tr>\n",
       "  </tbody>\n",
       "</table>\n",
       "<p>1216 rows × 2 columns</p>\n",
       "</div>"
      ],
      "text/plain": [
       "                                 HS4_F   HS4\n",
       "0                               اسب ها   101\n",
       "1                                  گاو   102\n",
       "2                                 گراز   103\n",
       "3                               گوسفند   104\n",
       "4                                  مرغ   105\n",
       "...                                ...   ...\n",
       "1211                          مجسمه ها  9703\n",
       "1212               تمبر پستی یا درآمدی  9704\n",
       "1213                    قطعات کلکسیونر  9705\n",
       "1214              عتیقه بیش از 100 سال  9706\n",
       "1215  کالاها بر اساس نوع مشخص نشده اند  9999\n",
       "\n",
       "[1216 rows x 2 columns]"
      ]
     },
     "execution_count": 5,
     "metadata": {},
     "output_type": "execute_result"
    }
   ],
   "source": [
    "HSs_Farsi = pd.read_excel(f'{my_wd}/Data/HS4_Farsi.xlsx')\n",
    "\n",
    "HSs_Farsi['HS4'] = pd.to_numeric(HSs_Farsi['HS4'], errors='coerce')\n",
    "HSs_Farsi = HSs_Farsi.dropna(axis=0)\n",
    "HSs_Farsi"
   ]
  },
  {
   "cell_type": "code",
   "execution_count": 6,
   "metadata": {},
   "outputs": [],
   "source": [
    "Imported_Data_World_Merged = Imported_Data_World.merge(HSs_Farsi,on=\"HS4\", how=\"outer\")\n",
    "Imported_Data_World_Merged.to_excel(f\"C:/TradeGroup/Data/Dashboard/4HSs_Complete.xlsx\", index=False)"
   ]
  }
 ],
 "metadata": {
  "kernelspec": {
   "display_name": "Python 3",
   "language": "python",
   "name": "python3"
  },
  "language_info": {
   "codemirror_mode": {
    "name": "ipython",
    "version": 3
   },
   "file_extension": ".py",
   "mimetype": "text/x-python",
   "name": "python",
   "nbconvert_exporter": "python",
   "pygments_lexer": "ipython3",
   "version": "3.11.3"
  }
 },
 "nbformat": 4,
 "nbformat_minor": 2
}
