{
 "cells": [
  {
   "cell_type": "code",
   "execution_count": null,
   "metadata": {},
   "outputs": [],
   "source": [
    "import os\n",
    "\n",
    "# Get the text to search for\n",
    "string_to_search = input(\"IranTrade\")\n",
    "\n",
    "# List all files in the current directory\n",
    "all_files = [f for f in os.listdir('C:/TradeGroup/Codes/') if os.path.isfile(f)]\n",
    "\n",
    "# Iterate through each file\n",
    "for current_file in all_files:\n",
    "    print(f\"Reading {current_file}\")\n",
    "    if current_file.endswith(\".py\"):  # Filter only Python files (you can adjust the extension)\n",
    "        with open(current_file) as f:\n",
    "            for line in f:\n",
    "                if string_to_search in line:\n",
    "                    print(f\"Found in file: {current_file}\")\n",
    "                    print(f\"Line: {line.strip()}\")"
   ]
  }
 ],
 "metadata": {
  "language_info": {
   "name": "python"
  }
 },
 "nbformat": 4,
 "nbformat_minor": 2
}
