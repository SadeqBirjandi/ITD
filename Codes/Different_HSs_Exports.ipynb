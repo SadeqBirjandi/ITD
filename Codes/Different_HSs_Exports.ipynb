{
 "cells": [
  {
   "cell_type": "code",
   "execution_count": 7,
   "metadata": {},
   "outputs": [],
   "source": [
    "import pandas as pd\n",
    "import numpy as np\n",
    "import os\n",
    "os.chdir(\"C:\\TradeGroup\")\n",
    "my_wd = os.getcwd()\n",
    "new_directory = my_wd\n",
    "year = 1398\n",
    "exports_file_path = f\"{my_wd}/Data/Cleaned_Data/Y{year}Exports.xlsx\"\n"
   ]
  },
  {
   "cell_type": "code",
   "execution_count": 19,
   "metadata": {},
   "outputs": [],
   "source": [
    "for year in range(1383,1404):\n",
    "    exports_file_path = f\"{my_wd}/Data/Cleaned_Data/Y{year}Exports.xlsx\"\n",
    "    Exports = pd.read_excel(exports_file_path)\n",
    "\n",
    "    UniqueHS8=Exports['Tcode'].nunique()\n",
    "\n",
    "    Exports['HS6']= Exports['Tcode']//100\n",
    "    \n",
    "    UniqueHS6=Exports['HS6'].nunique()\n",
    "\n",
    "    my_data= {'Year': year , 'HS6': UniqueHS6 , 'HS8': UniqueHS8}\n",
    "\n",
    "\n",
    "    Uniques = pd.DataFrame(my_data, index=range(year,year+1) )\n",
    "    \n",
    "\n",
    "\n",
    "    if year == 1383:\n",
    "        Uniques_Series = Uniques\n",
    "\n",
    "    else:\n",
    "        Uniques_Series = pd.concat([Uniques_Series, Uniques])    \n"
   ]
  },
  {
   "cell_type": "code",
   "execution_count": 21,
   "metadata": {},
   "outputs": [],
   "source": [
    "Uniques_Series.to_excel(f'{my_wd}\\Data\\Indices\\HSs_different.xlsx',index=False)"
   ]
  }
 ],
 "metadata": {
  "kernelspec": {
   "display_name": "Python 3",
   "language": "python",
   "name": "python3"
  },
  "language_info": {
   "codemirror_mode": {
    "name": "ipython",
    "version": 3
   },
   "file_extension": ".py",
   "mimetype": "text/x-python",
   "name": "python",
   "nbconvert_exporter": "python",
   "pygments_lexer": "ipython3",
   "version": "3.11.3"
  }
 },
 "nbformat": 4,
 "nbformat_minor": 2
}
