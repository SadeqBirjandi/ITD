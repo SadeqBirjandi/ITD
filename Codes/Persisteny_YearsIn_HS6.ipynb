{
 "cells": [
  {
   "cell_type": "code",
   "execution_count": 2,
   "metadata": {},
   "outputs": [],
   "source": [
    "import pandas as pd\n",
    "import numpy as np\n",
    "import os"
   ]
  },
  {
   "cell_type": "code",
   "execution_count": 14,
   "metadata": {},
   "outputs": [
    {
     "name": "stdout",
     "output_type": "stream",
     "text": [
      "Already Exists\n"
     ]
    }
   ],
   "source": [
    "os.chdir(\"C:\\TradeGroup\")\n",
    "my_wd = os.getcwd()\n",
    "new_directory = my_wd\n",
    "\n",
    "def create_folder(folder_path):\n",
    "    if not os.path.exists(f'{new_directory}/{folder_path}'):\n",
    "        os.makedirs(f'{new_directory}/{folder_path}')\n",
    "    else:\n",
    "        print(f'Already Exists')\n",
    "\n",
    "create_folder('Data/Indices')"
   ]
  },
  {
   "cell_type": "code",
   "execution_count": 15,
   "metadata": {},
   "outputs": [],
   "source": [
    "baseyear = 1392\n",
    "for year in range(1392,1403):\n",
    "    \n",
    "    Data = pd.read_excel(f\"{my_wd}/Data/Cleaned_Data/Y{year}Exports.xlsx\")\n",
    "    Data = Data.dropna(subset=['Tcode'])\n",
    "    colname = f'Dollars_Exp_{year}'\n",
    "    Data['HS6']=Data['Tcode']//100\n",
    "\n",
    "    Data_HS6 = Data.groupby('HS6').agg(\n",
    "    Dollars = (f'Dollars','sum')\n",
    "    ).reset_index()\n",
    "\n",
    "    Data_HS6.columns = Data_HS6.columns.str.replace(\"Dollars\", f\"Dollars_Exp_{year}\")\n",
    "    Data_HS6[f'Sign_{year}']=np.where(Data_HS6[f\"Dollars_Exp_{year}\"]>10000,1,0)\n",
    "\n",
    "    if year == baseyear:\n",
    "        Data_HS6_Series = Data_HS6\n",
    "    else:\n",
    "        Data_HS6_Series = Data_HS6_Series.merge(Data_HS6,on='HS6',how=\"outer\")    \n",
    "\n",
    "\n",
    "    \n",
    "\n",
    "\n",
    "   "
   ]
  },
  {
   "cell_type": "code",
   "execution_count": 19,
   "metadata": {},
   "outputs": [],
   "source": [
    "Data_HS6_Series = Data_HS6_Series.fillna(0)\n",
    "\n",
    "Data_HS6_Series['Persistency'] = Data_HS6_Series['Sign_1392']\n",
    "\n",
    "for year in range(1393,1403):\n",
    "    Data_HS6_Series['Persistency'] = Data_HS6_Series['Persistency'] + Data_HS6_Series[f'Sign_{year}']\n",
    "\n"
   ]
  },
  {
   "cell_type": "code",
   "execution_count": 21,
   "metadata": {},
   "outputs": [],
   "source": [
    "Unique_Persistency_HS6  = Data_HS6_Series.groupby('Persistency').agg(\n",
    "    Count = (\"HS6\",'count')\n",
    "    ).reset_index()\n",
    "Unique_Persistency_HS6.to_excel(f'{my_wd}/Data/Indices/Persistency_HS6_YearsIn.xlsx',index = False)\n"
   ]
  },
  {
   "cell_type": "code",
   "execution_count": 18,
   "metadata": {},
   "outputs": [
    {
     "data": {
      "text/html": [
       "<div>\n",
       "<style scoped>\n",
       "    .dataframe tbody tr th:only-of-type {\n",
       "        vertical-align: middle;\n",
       "    }\n",
       "\n",
       "    .dataframe tbody tr th {\n",
       "        vertical-align: top;\n",
       "    }\n",
       "\n",
       "    .dataframe thead th {\n",
       "        text-align: right;\n",
       "    }\n",
       "</style>\n",
       "<table border=\"1\" class=\"dataframe\">\n",
       "  <thead>\n",
       "    <tr style=\"text-align: right;\">\n",
       "      <th></th>\n",
       "      <th>Persistency</th>\n",
       "      <th>Count</th>\n",
       "    </tr>\n",
       "  </thead>\n",
       "  <tbody>\n",
       "    <tr>\n",
       "      <th>0</th>\n",
       "      <td>0.0</td>\n",
       "      <td>782</td>\n",
       "    </tr>\n",
       "    <tr>\n",
       "      <th>1</th>\n",
       "      <td>1.0</td>\n",
       "      <td>620</td>\n",
       "    </tr>\n",
       "    <tr>\n",
       "      <th>2</th>\n",
       "      <td>2.0</td>\n",
       "      <td>333</td>\n",
       "    </tr>\n",
       "    <tr>\n",
       "      <th>3</th>\n",
       "      <td>3.0</td>\n",
       "      <td>279</td>\n",
       "    </tr>\n",
       "    <tr>\n",
       "      <th>4</th>\n",
       "      <td>4.0</td>\n",
       "      <td>279</td>\n",
       "    </tr>\n",
       "    <tr>\n",
       "      <th>5</th>\n",
       "      <td>5.0</td>\n",
       "      <td>261</td>\n",
       "    </tr>\n",
       "    <tr>\n",
       "      <th>6</th>\n",
       "      <td>6.0</td>\n",
       "      <td>214</td>\n",
       "    </tr>\n",
       "    <tr>\n",
       "      <th>7</th>\n",
       "      <td>7.0</td>\n",
       "      <td>203</td>\n",
       "    </tr>\n",
       "    <tr>\n",
       "      <th>8</th>\n",
       "      <td>8.0</td>\n",
       "      <td>234</td>\n",
       "    </tr>\n",
       "    <tr>\n",
       "      <th>9</th>\n",
       "      <td>9.0</td>\n",
       "      <td>254</td>\n",
       "    </tr>\n",
       "    <tr>\n",
       "      <th>10</th>\n",
       "      <td>10.0</td>\n",
       "      <td>1165</td>\n",
       "    </tr>\n",
       "  </tbody>\n",
       "</table>\n",
       "</div>"
      ],
      "text/plain": [
       "    Persistency  Count\n",
       "0           0.0    782\n",
       "1           1.0    620\n",
       "2           2.0    333\n",
       "3           3.0    279\n",
       "4           4.0    279\n",
       "5           5.0    261\n",
       "6           6.0    214\n",
       "7           7.0    203\n",
       "8           8.0    234\n",
       "9           9.0    254\n",
       "10         10.0   1165"
      ]
     },
     "execution_count": 18,
     "metadata": {},
     "output_type": "execute_result"
    }
   ],
   "source": [
    "Unique_Persistency_HS6"
   ]
  }
 ],
 "metadata": {
  "kernelspec": {
   "display_name": "Python 3",
   "language": "python",
   "name": "python3"
  },
  "language_info": {
   "codemirror_mode": {
    "name": "ipython",
    "version": 3
   },
   "file_extension": ".py",
   "mimetype": "text/x-python",
   "name": "python",
   "nbconvert_exporter": "python",
   "pygments_lexer": "ipython3",
   "version": "3.11.3"
  }
 },
 "nbformat": 4,
 "nbformat_minor": 2
}
