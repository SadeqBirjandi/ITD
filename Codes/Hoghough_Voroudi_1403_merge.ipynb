{
 "cells": [
  {
   "cell_type": "code",
   "execution_count": 1,
   "metadata": {},
   "outputs": [],
   "source": [
    "import pandas as pd\n",
    "import numpy as np\n",
    "import os"
   ]
  },
  {
   "cell_type": "code",
   "execution_count": 2,
   "metadata": {},
   "outputs": [],
   "source": [
    "os.chdir(\"C:\\TradeGroup\")\n",
    "my_wd = os.getcwd()\n",
    "new_directory = my_wd"
   ]
  },
  {
   "cell_type": "code",
   "execution_count": 4,
   "metadata": {},
   "outputs": [],
   "source": [
    "HV1403_Q1 = pd.read_excel(f'C:/TradeGroup/Reports/Nerkh_Tarefe_Part2_Renamed.xlsx',sheet_name=\"1403_03\")\n",
    "HV1403_Q2 = pd.read_excel(f'C:/TradeGroup/Reports/Nerkh_Tarefe_1403_Q2.xlsx')"
   ]
  },
  {
   "cell_type": "code",
   "execution_count": 8,
   "metadata": {},
   "outputs": [],
   "source": [
    "HV1403Q1Q1 = pd.concat([HV1403_Q1,HV1403_Q2])\n",
    "\n",
    "HV1403 = HV1403Q1Q1.groupby('Tcode').sum()\n",
    "\n",
    "HV1403.to_excel(f'C:/TradeGroup/Reports/Nerkh_Tarefe_1403_Q1Q2.xlsx')"
   ]
  }
 ],
 "metadata": {
  "kernelspec": {
   "display_name": "Python 3",
   "language": "python",
   "name": "python3"
  },
  "language_info": {
   "codemirror_mode": {
    "name": "ipython",
    "version": 3
   },
   "file_extension": ".py",
   "mimetype": "text/x-python",
   "name": "python",
   "nbconvert_exporter": "python",
   "pygments_lexer": "ipython3",
   "version": "3.11.3"
  }
 },
 "nbformat": 4,
 "nbformat_minor": 2
}
