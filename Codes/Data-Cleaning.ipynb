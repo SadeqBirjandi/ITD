{
 "cells": [
  {
   "cell_type": "code",
   "execution_count": 1,
   "metadata": {},
   "outputs": [],
   "source": [
    "import pandas as pd\n",
    "import numpy as np\n",
    "import openpyxl\n",
    "import os\n",
    "import pathlib"
   ]
  },
  {
   "cell_type": "code",
   "execution_count": 2,
   "metadata": {},
   "outputs": [],
   "source": [
    "new_directory = \"C:\\TradeGroup\"\n",
    "os.chdir(new_directory)\n",
    "my_wd = new_directory"
   ]
  },
  {
   "cell_type": "code",
   "execution_count": 3,
   "metadata": {},
   "outputs": [],
   "source": [
    "def create_folder(folder_path):\n",
    "    if not os.path.exists(f'{new_directory}/{folder_path}'):\n",
    "        os.makedirs(f'{new_directory}/{folder_path}')\n",
    "    else:\n",
    "        print(f'Already Exists')"
   ]
  },
  {
   "cell_type": "code",
   "execution_count": 4,
   "metadata": {},
   "outputs": [
    {
     "name": "stdout",
     "output_type": "stream",
     "text": [
      "Already Exists\n"
     ]
    }
   ],
   "source": [
    "file_path = f\"{new_directory}/Trade_MetaData.xlsx\"\n",
    "# Read the Excel file into a pandas DataFrame\n",
    "ColNames = pd.read_excel(file_path, sheet_name=\"ColNames\")\n",
    "create_folder('Data/Cleaned_Data')\n"
   ]
  },
  {
   "cell_type": "code",
   "execution_count": 5,
   "metadata": {},
   "outputs": [],
   "source": [
    "for year in range(1402,1403):\n",
    "    ImpCols = ColNames[(ColNames['Year']==year) & (ColNames['IX']=='Imp')]\n",
    "    ImpCols = ImpCols.dropna(axis=1)\n",
    "    ExpCols = ColNames[(ColNames['Year']==year) & (ColNames['IX']=='Exp')]\n",
    "    ExpCols = ExpCols.dropna(axis=1)\n",
    "\n",
    "    if (year >= 1397 and year<1402) or year == 1391 or year == 1390 or year < 1389:\n",
    "       Imports = pd.read_excel(f\"{new_directory}/Data/RawData/Imp{year}.xlsx\", skiprows=1)\n",
    "       Exports = pd.read_excel(f\"{new_directory}/Data/RawData/Exp{year}.xlsx\", skiprows=1)\n",
    "    elif year == 1396:\n",
    "       Imports1 = pd.read_excel(f\"{my_wd}/Data/RawData/Imp{year}.xlsx\", skiprows=1, sheet_name=\"imp\")\n",
    "       Imports2 = pd.read_excel(f\"{my_wd}/Data/RawData/Imp{year}.xlsx\", skiprows=1, sheet_name=\"imp1\")\n",
    "       Imports = pd.concat([Imports1, Imports2], ignore_index=True)\n",
    "       Exports = pd.read_excel(f\"{my_wd}/Data/RawData/Exp{year}.xlsx\", skiprows=1)\n",
    "    elif year in [1395, 1393, 1392]:\n",
    "       Imports1 = pd.read_excel(f\"{my_wd}/Data/RawData/Imp{year}.xlsx\", skiprows=1, sheet_name=\"customs-country-tariff-i\")\n",
    "       Imports2 = pd.read_excel(f\"{my_wd}/Data/RawData/Imp{year}.xlsx\", skiprows=1, sheet_name=\"customs-country-tariff-i_4\")\n",
    "       Imports = pd.concat([Imports1, Imports2], ignore_index=True)\n",
    "       Exports = pd.read_excel(f\"{my_wd}/Data/RawData/Exp{year}.xlsx\", skiprows=1)\n",
    "    elif year == 1394:\n",
    "       Imports1 = pd.read_excel(f\"{my_wd}/Data/RawData/Imp{year}.xlsx\", skiprows=1, sheet_name=\"1\")\n",
    "       Imports2 = pd.read_excel(f\"{my_wd}/Data/RawData/Imp{year}.xlsx\", skiprows=1, sheet_name=\"2\")\n",
    "       Imports = pd.concat([Imports1, Imports2], ignore_index=True)\n",
    "       Exports = pd.read_excel(f\"{my_wd}/Data/RawData/Exp{year}.xlsx\",skiprows=1) \n",
    "    elif year == 1389:\n",
    "       Imports1 = pd.read_excel(f\"{my_wd}/Data/RawData/Imp{year}.xlsx\", skiprows=1, sheet_name=\"import1\")\n",
    "       Imports2 = pd.read_excel(f\"{my_wd}/Data/RawData/Imp{year}.xlsx\", skiprows=1, sheet_name=\"import2\")\n",
    "       Imports = pd.concat([Imports1, Imports2], ignore_index=True)\n",
    "       Exports = pd.read_excel(f\"{my_wd}/Data/RawData/Exp{year}.xlsx\", skiprows=1)\n",
    "    elif year==1402:\n",
    "       Imports = pd.read_excel(f\"{new_directory}/Data/RawData/Imp{year}08first.xlsx\", skiprows=1,sheet_name=\"Stats\")\n",
    "       Exports = pd.read_excel(f\"{new_directory}/Data/RawData/Exp{year}08first.xlsx\", skiprows=1,sheet_name=\"Stats\") \n",
    "       \n",
    "    Imports.columns = ImpCols.iloc[0, 2:].tolist()\n",
    "    Exports.columns = ExpCols.iloc[0, 2:].tolist()\n",
    "    \n",
    "\n",
    "    Imports= Imports.dropna(subset=['Tcode'])\n",
    "    EXports= Exports.dropna(subset=['Tcode'])\n",
    "\n",
    "\n",
    "    Exports.to_excel(f\"{my_wd}/Data/Cleaned_Data/Y{year}Exports.xlsx\", index=False)\n",
    "    Imports.to_excel(f\"{my_wd}/Data/Cleaned_Data/Y{year}Imports.xlsx\", index=False)\n",
    "    "
   ]
  }
 ],
 "metadata": {
  "kernelspec": {
   "display_name": "Python 3",
   "language": "python",
   "name": "python3"
  },
  "language_info": {
   "codemirror_mode": {
    "name": "ipython",
    "version": 3
   },
   "file_extension": ".py",
   "mimetype": "text/x-python",
   "name": "python",
   "nbconvert_exporter": "python",
   "pygments_lexer": "ipython3",
   "version": "3.11.3"
  },
  "orig_nbformat": 4
 },
 "nbformat": 4,
 "nbformat_minor": 2
}
