{
 "cells": [
  {
   "cell_type": "code",
   "execution_count": 2,
   "metadata": {},
   "outputs": [],
   "source": [
    "import pandas as pd\n",
    "import numpy as np\n",
    "import os"
   ]
  },
  {
   "cell_type": "code",
   "execution_count": 3,
   "metadata": {},
   "outputs": [],
   "source": [
    "os.chdir(\"C:\\TradeGroup\")\n",
    "my_wd = os.getcwd()\n",
    "new_directory = my_wd"
   ]
  },
  {
   "cell_type": "code",
   "execution_count": 4,
   "metadata": {},
   "outputs": [],
   "source": [
    "Continents = ['America','Africa','Europe','Asia','Oceania']\n",
    "\n",
    "for continent in Continents:\n",
    "    Imported_Data = pd.read_excel(f'{my_wd}/Data/{continent}_HS6s.xlsx')\n",
    "    Imported_Data=Imported_Data.dropna(axis=0).drop_duplicates()\n",
    "    if continent == \"America\":\n",
    "        Imported_Data_World = Imported_Data\n",
    "    else:\n",
    "        Imported_Data_World = pd.concat([Imported_Data_World,Imported_Data])    \n",
    "\n",
    "     \n",
    "Imported_Data_World = Imported_Data_World.drop_duplicates()"
   ]
  },
  {
   "cell_type": "code",
   "execution_count": 5,
   "metadata": {},
   "outputs": [],
   "source": [
    "Imported_Data_World.to_excel(f'{my_wd}/Data/HS6sunique.xlsx')"
   ]
  },
  {
   "cell_type": "code",
   "execution_count": 18,
   "metadata": {},
   "outputs": [
    {
     "data": {
      "text/html": [
       "<div>\n",
       "<style scoped>\n",
       "    .dataframe tbody tr th:only-of-type {\n",
       "        vertical-align: middle;\n",
       "    }\n",
       "\n",
       "    .dataframe tbody tr th {\n",
       "        vertical-align: top;\n",
       "    }\n",
       "\n",
       "    .dataframe thead th {\n",
       "        text-align: right;\n",
       "    }\n",
       "</style>\n",
       "<table border=\"1\" class=\"dataframe\">\n",
       "  <thead>\n",
       "    <tr style=\"text-align: right;\">\n",
       "      <th></th>\n",
       "      <th>Name_F</th>\n",
       "      <th>HS6</th>\n",
       "      <th>Sector_F</th>\n",
       "    </tr>\n",
       "  </thead>\n",
       "  <tbody>\n",
       "    <tr>\n",
       "      <th>0</th>\n",
       "      <td>اسب های اصیل</td>\n",
       "      <td>10111</td>\n",
       "      <td>کشاورزی</td>\n",
       "    </tr>\n",
       "    <tr>\n",
       "      <th>1</th>\n",
       "      <td>اسب، نه اصیل</td>\n",
       "      <td>10119</td>\n",
       "      <td>کشاورزی</td>\n",
       "    </tr>\n",
       "    <tr>\n",
       "      <th>2</th>\n",
       "      <td>اسب دیگر</td>\n",
       "      <td>10120</td>\n",
       "      <td>کشاورزی</td>\n",
       "    </tr>\n",
       "    <tr>\n",
       "      <th>3</th>\n",
       "      <td>گاو، اصیل</td>\n",
       "      <td>10210</td>\n",
       "      <td>کشاورزی</td>\n",
       "    </tr>\n",
       "    <tr>\n",
       "      <th>4</th>\n",
       "      <td>گاو، اصیل نیست</td>\n",
       "      <td>10290</td>\n",
       "      <td>کشاورزی</td>\n",
       "    </tr>\n",
       "    <tr>\n",
       "      <th>...</th>\n",
       "      <td>...</td>\n",
       "      <td>...</td>\n",
       "      <td>...</td>\n",
       "    </tr>\n",
       "    <tr>\n",
       "      <th>4610</th>\n",
       "      <td>پارچه بافته شده &lt;85٪ مصنوعی و پنبه،&gt; 170 گرم د...</td>\n",
       "      <td>551439</td>\n",
       "      <td>منسوجات</td>\n",
       "    </tr>\n",
       "    <tr>\n",
       "      <th>4611</th>\n",
       "      <td>ضایعات / ضایعات پلاتین</td>\n",
       "      <td>711220</td>\n",
       "      <td>سنگ</td>\n",
       "    </tr>\n",
       "    <tr>\n",
       "      <th>4612</th>\n",
       "      <td>نورد سرد آهن/فولاد غیر آلیاژی، مسطح، وزنی &gt; 60...</td>\n",
       "      <td>720944</td>\n",
       "      <td>فلزات</td>\n",
       "    </tr>\n",
       "    <tr>\n",
       "      <th>4613</th>\n",
       "      <td>نورد مسطح آهن/فولاد غیر آلیاژی، وزن کمتر از 60...</td>\n",
       "      <td>721149</td>\n",
       "      <td>فلزات</td>\n",
       "    </tr>\n",
       "    <tr>\n",
       "      <th>4614</th>\n",
       "      <td>هورمون های قدامی هیپوفیز</td>\n",
       "      <td>293710</td>\n",
       "      <td>مواد شیمیایی</td>\n",
       "    </tr>\n",
       "  </tbody>\n",
       "</table>\n",
       "<p>4615 rows × 3 columns</p>\n",
       "</div>"
      ],
      "text/plain": [
       "                                                 Name_F     HS6      Sector_F\n",
       "0                                          اسب های اصیل   10111       کشاورزی\n",
       "1                                          اسب، نه اصیل   10119       کشاورزی\n",
       "2                                              اسب دیگر   10120       کشاورزی\n",
       "3                                             گاو، اصیل   10210       کشاورزی\n",
       "4                                        گاو، اصیل نیست   10290       کشاورزی\n",
       "...                                                 ...     ...           ...\n",
       "4610  پارچه بافته شده <85٪ مصنوعی و پنبه،> 170 گرم د...  551439       منسوجات\n",
       "4611                             ضایعات / ضایعات پلاتین  711220           سنگ\n",
       "4612  نورد سرد آهن/فولاد غیر آلیاژی، مسطح، وزنی > 60...  720944         فلزات\n",
       "4613  نورد مسطح آهن/فولاد غیر آلیاژی، وزن کمتر از 60...  721149         فلزات\n",
       "4614                           هورمون های قدامی هیپوفیز  293710  مواد شیمیایی\n",
       "\n",
       "[4615 rows x 3 columns]"
      ]
     },
     "execution_count": 18,
     "metadata": {},
     "output_type": "execute_result"
    }
   ],
   "source": [
    "HSs_Farsi = pd.read_excel(f'{my_wd}/Data/HS6_Farsi.xlsx')\n",
    "\n",
    "HSs_Farsi['HS6'] = pd.to_numeric(HSs_Farsi['HS6'], errors='coerce')\n",
    "HSs_Farsi = HSs_Farsi.dropna(axis=0)\n",
    "HSs_Farsi"
   ]
  },
  {
   "cell_type": "code",
   "execution_count": 20,
   "metadata": {},
   "outputs": [],
   "source": [
    "Imported_Data_World_Merged = Imported_Data_World.merge(HSs_Farsi,on=\"HS6\", how=\"outer\")\n",
    "Imported_Data_World_Merged.to_excel(f\"C:/TradeGroup/Data/Dashboard/6HSs_Complete.xlsx\", index=False)"
   ]
  }
 ],
 "metadata": {
  "kernelspec": {
   "display_name": "Python 3",
   "language": "python",
   "name": "python3"
  },
  "language_info": {
   "codemirror_mode": {
    "name": "ipython",
    "version": 3
   },
   "file_extension": ".py",
   "mimetype": "text/x-python",
   "name": "python",
   "nbconvert_exporter": "python",
   "pygments_lexer": "ipython3",
   "version": "3.11.3"
  }
 },
 "nbformat": 4,
 "nbformat_minor": 2
}
