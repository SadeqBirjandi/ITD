{
 "cells": [
  {
   "cell_type": "code",
   "execution_count": 2,
   "metadata": {},
   "outputs": [],
   "source": [
    "import pandas as pd\n",
    "import numpy as np\n",
    "import os"
   ]
  },
  {
   "cell_type": "code",
   "execution_count": 3,
   "metadata": {},
   "outputs": [
    {
     "name": "stdout",
     "output_type": "stream",
     "text": [
      "Already Exists\n"
     ]
    }
   ],
   "source": [
    "# Set the working directory\n",
    "os.chdir(\"C:\\TradeGroup\")\n",
    "my_wd = os.getcwd()\n",
    "new_directory = my_wd\n",
    "\n",
    "def create_folder(folder_path):\n",
    "    if not os.path.exists(f'{new_directory}/{folder_path}'):\n",
    "        os.makedirs(f'{new_directory}/{folder_path}')\n",
    "    else:\n",
    "        print(f'Already Exists')\n",
    "\n",
    "create_folder('Data/Indices')"
   ]
  },
  {
   "cell_type": "code",
   "execution_count": 5,
   "metadata": {},
   "outputs": [],
   "source": [
    "Iran_Exports = pd.read_excel(f'{my_wd}/Data/Indices/Trademap_IranExports_2022.xlsx')\n",
    "Iran_Exports['Code'] = Iran_Exports['Code'].str.replace(\"'\",\"\").astype('int')\n",
    "#Iran_Exports['Code'] = Iran_Exports['Code'].astype(\"int\")\n",
    "\n",
    "remaining_columns = Iran_Exports.columns[2:]\n",
    "\n",
    "\n",
    "remaining_columns=remaining_columns.str.replace(\"Exported value in \",\"\")\n",
    "\n",
    "Iran_Exports.columns=Iran_Exports.columns.str.replace(\"Exported value in \",\"\")\n",
    "Iran_Exports['HS4'] = Iran_Exports['Code']//100\n",
    "\n",
    "Iran_Exports = Iran_Exports[(Iran_Exports['HS4']!=9999) & (Iran_Exports['HS4']!=2709) & (Iran_Exports['HS4']!=2710) & (Iran_Exports['HS4']!=2711) ]\n",
    "\n",
    "Iran_Exports.columns = Iran_Exports.columns[0:2].tolist() + [col + '_Iran_Exports' for col in Iran_Exports.columns[2:]]"
   ]
  },
  {
   "cell_type": "code",
   "execution_count": 6,
   "metadata": {},
   "outputs": [],
   "source": [
    "new_columns = [f'Share_{year}' for year in Iran_Exports.columns[2:]]\n",
    "Share_Iran = pd.DataFrame(columns=['Code'] + new_columns)\n",
    "Share_Iran['Code']=Iran_Exports['Code']\n",
    "\n",
    "for year in range(2003,2023):\n",
    "    Share_Iran[f'Share_{year}_Iran_Exports']=Iran_Exports[f'{year}_Iran_Exports']/(Iran_Exports[f'{year}_Iran_Exports'].sum())   \n"
   ]
  },
  {
   "cell_type": "code",
   "execution_count": 7,
   "metadata": {},
   "outputs": [
    {
     "name": "stdout",
     "output_type": "stream",
     "text": [
      "China_Imports\n",
      "Turkey_Imports\n",
      "Russia_Imports\n",
      "SKorea_Imports\n",
      "Iraq_Imports\n",
      "Indonasia_Imports\n"
     ]
    }
   ],
   "source": [
    "Countries = ['China','Turkey','Russia','SKorea','Iraq', 'Indonasia']\n",
    "Iran_TCI=pd.DataFrame({\"Country\": Countries})\n",
    "\n",
    "for country in Countries:\n",
    "    Country_Imports=f'{country}_Imports'\n",
    "    Share_Country=f'Share_{country}'\n",
    "    Share_Country_Iran_Merged=f'Share_{country}_Iran_Merged'\n",
    "    Share_diffs= f'{country}_Share_diff'\n",
    "    print(Country_Imports)\n",
    "\n",
    "    globals()[Country_Imports]=pd.read_excel(f'{my_wd}/Data/Indices/Trademap_{country}Imports_2023.xlsx')\n",
    "    \n",
    "    globals()[Country_Imports]['Code'] = globals()[Country_Imports]['Code'].str.replace(\"'\",\"\").astype('int')\n",
    "    #globals()[Country_Imports]['Code'] = globals()[Country_Imports]['Code'].astype(\"int\")\n",
    "    \n",
    "    remaining_columns = globals()[Country_Imports].columns[1:]\n",
    "    remaining_columns=remaining_columns.str.replace(\"Imported value in \",\"\")\n",
    "\n",
    "    globals()[Country_Imports].columns=globals()[Country_Imports].columns.str.replace(\"Imported value in \",\"\")\n",
    "\n",
    "\n",
    "    globals()[Country_Imports]['HS4'] = globals()[Country_Imports]['Code']//100\n",
    "\n",
    "    globals()[Country_Imports] = globals()[Country_Imports][(globals()[Country_Imports]['HS4']!=9999) &\n",
    "                                                             (globals()[Country_Imports]['HS4']!=2709) &\n",
    "                                                             (globals()[Country_Imports]['HS4']!=92710) &\n",
    "                                                            (globals()[Country_Imports]['HS4']!=2711)]\n",
    "\n",
    "    globals()[Country_Imports] = globals()[Country_Imports][globals()[Country_Imports]['Code']!=999999]\n",
    "\n",
    "    globals()[Country_Imports].columns = globals()[Country_Imports].columns[0:1].tolist() + [col + f'_{country}_Imports' for col in globals()[Country_Imports].columns[1:]]\n",
    "\n",
    "    new_columns = [f'Share_{year}' for year in globals()[Country_Imports].columns[1:]]\n",
    "    globals()[Share_Country] = pd.DataFrame(columns=['Code'] + new_columns)\n",
    "    globals()[Share_Country]['Code']=globals()[Country_Imports]['Code']\n",
    "\n",
    "    globals()[Share_diffs]=pd.DataFrame()\n",
    "\n",
    "    if country != \"Iraq\":\n",
    "\n",
    "        for year in range(2004,2023):\n",
    "            globals()[Share_Country][f'Share_{year}_{country}_Imports']=globals()[Country_Imports][f'{year}_{country}_Imports']/(globals()[Country_Imports][f'{year}_{country}_Imports'].sum()) \n",
    "        \n",
    "        globals()[Share_Country_Iran_Merged]=Share_Iran.merge(globals()[Share_Country],on=['Code'],how='outer')\n",
    "        #.fillna(0)\n",
    "\n",
    "        globals()[Share_diffs]['Code']= globals()[Share_Country_Iran_Merged]['Code']\n",
    "\n",
    "        for year in range (2009,2023):\n",
    "            \n",
    "            globals()[Share_diffs][f'diff_{year}']=abs(globals()[Share_Country_Iran_Merged][f'Share_{year}_{country}_Imports']-globals()[Share_Country_Iran_Merged][f'Share_{year}_Iran_Exports'])/2\n",
    "\n",
    "            TCI_Year=100*(1-((globals()[Share_diffs][f'diff_{year}'].sum())))\n",
    "\n",
    "            Iran_TCI.loc[Iran_TCI['Country']==country,f'{year}']=TCI_Year\n",
    "        \n",
    "\n",
    "\n",
    "    else:\n",
    "        for year in range(2014,2023):\n",
    "            globals()[Share_Country][f'Share_{year}_{country}_Imports']=globals()[Country_Imports][f'{year}_{country}_Imports']/(globals()[Country_Imports][f'{year}_{country}_Imports'].sum()) \n",
    "        \n",
    "        globals()[Share_Country_Iran_Merged]=Share_Iran.merge(globals()[Share_Country],on=['Code'],how='outer')\n",
    "        #.fillna(0)\n",
    "\n",
    "        globals()[Share_diffs]['Code']= globals()[Share_Country_Iran_Merged]['Code']\n",
    "\n",
    "        for year in range (2014,2023):\n",
    "            \n",
    "            globals()[Share_diffs][f'diff_{year}']=abs(globals()[Share_Country_Iran_Merged][f'Share_{year}_{country}_Imports']-globals()[Share_Country_Iran_Merged][f'Share_{year}_Iran_Exports'])/2\n",
    "            \n",
    "            TCI_Year=100*(1-((globals()[Share_diffs][f'diff_{year}'].sum())))\n",
    "\n",
    "            Iran_TCI.loc[Iran_TCI['Country']==country,f'{year}']=TCI_Year"
   ]
  },
  {
   "cell_type": "code",
   "execution_count": 9,
   "metadata": {},
   "outputs": [],
   "source": [
    "Iran_TCI.to_excel(f'{my_wd}\\Data\\Indices\\Iran_TCI_Oilless.xlsx',index=False)\n",
    "#Iran_TCI"
   ]
  }
 ],
 "metadata": {
  "kernelspec": {
   "display_name": "Python 3",
   "language": "python",
   "name": "python3"
  },
  "language_info": {
   "codemirror_mode": {
    "name": "ipython",
    "version": 3
   },
   "file_extension": ".py",
   "mimetype": "text/x-python",
   "name": "python",
   "nbconvert_exporter": "python",
   "pygments_lexer": "ipython3",
   "version": "3.11.3"
  }
 },
 "nbformat": 4,
 "nbformat_minor": 2
}
