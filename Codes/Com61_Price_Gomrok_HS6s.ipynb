{
 "cells": [
  {
   "cell_type": "code",
   "execution_count": 1,
   "metadata": {},
   "outputs": [],
   "source": [
    "import pandas as pd\n",
    "import numpy as np\n",
    "import os"
   ]
  },
  {
   "cell_type": "code",
   "execution_count": 15,
   "metadata": {},
   "outputs": [
    {
     "name": "stdout",
     "output_type": "stream",
     "text": [
      "1389\n"
     ]
    },
    {
     "name": "stderr",
     "output_type": "stream",
     "text": [
      "C:\\Users\\msbirjandi\\AppData\\Local\\Temp\\ipykernel_12336\\726640475.py:27: SettingWithCopyWarning: \n",
      "A value is trying to be set on a copy of a slice from a DataFrame.\n",
      "Try using .loc[row_indexer,col_indexer] = value instead\n",
      "\n",
      "See the caveats in the documentation: https://pandas.pydata.org/pandas-docs/stable/user_guide/indexing.html#returning-a-view-versus-a-copy\n",
      "  Exports_Iran_HS6_Limited['HS4_Final']=Exports_Iran_HS6_Limited['HS6']//100\n"
     ]
    },
    {
     "name": "stdout",
     "output_type": "stream",
     "text": [
      "1389_completed\n",
      "1390\n"
     ]
    },
    {
     "name": "stderr",
     "output_type": "stream",
     "text": [
      "C:\\Users\\msbirjandi\\AppData\\Local\\Temp\\ipykernel_12336\\726640475.py:27: SettingWithCopyWarning: \n",
      "A value is trying to be set on a copy of a slice from a DataFrame.\n",
      "Try using .loc[row_indexer,col_indexer] = value instead\n",
      "\n",
      "See the caveats in the documentation: https://pandas.pydata.org/pandas-docs/stable/user_guide/indexing.html#returning-a-view-versus-a-copy\n",
      "  Exports_Iran_HS6_Limited['HS4_Final']=Exports_Iran_HS6_Limited['HS6']//100\n"
     ]
    },
    {
     "name": "stdout",
     "output_type": "stream",
     "text": [
      "1390_completed\n",
      "1391\n"
     ]
    },
    {
     "name": "stderr",
     "output_type": "stream",
     "text": [
      "C:\\Users\\msbirjandi\\AppData\\Local\\Temp\\ipykernel_12336\\726640475.py:27: SettingWithCopyWarning: \n",
      "A value is trying to be set on a copy of a slice from a DataFrame.\n",
      "Try using .loc[row_indexer,col_indexer] = value instead\n",
      "\n",
      "See the caveats in the documentation: https://pandas.pydata.org/pandas-docs/stable/user_guide/indexing.html#returning-a-view-versus-a-copy\n",
      "  Exports_Iran_HS6_Limited['HS4_Final']=Exports_Iran_HS6_Limited['HS6']//100\n"
     ]
    },
    {
     "name": "stdout",
     "output_type": "stream",
     "text": [
      "1391_completed\n",
      "1392\n"
     ]
    },
    {
     "name": "stderr",
     "output_type": "stream",
     "text": [
      "C:\\Users\\msbirjandi\\AppData\\Local\\Temp\\ipykernel_12336\\726640475.py:27: SettingWithCopyWarning: \n",
      "A value is trying to be set on a copy of a slice from a DataFrame.\n",
      "Try using .loc[row_indexer,col_indexer] = value instead\n",
      "\n",
      "See the caveats in the documentation: https://pandas.pydata.org/pandas-docs/stable/user_guide/indexing.html#returning-a-view-versus-a-copy\n",
      "  Exports_Iran_HS6_Limited['HS4_Final']=Exports_Iran_HS6_Limited['HS6']//100\n"
     ]
    },
    {
     "name": "stdout",
     "output_type": "stream",
     "text": [
      "1392_completed\n",
      "1393\n"
     ]
    },
    {
     "name": "stderr",
     "output_type": "stream",
     "text": [
      "C:\\Users\\msbirjandi\\AppData\\Local\\Temp\\ipykernel_12336\\726640475.py:27: SettingWithCopyWarning: \n",
      "A value is trying to be set on a copy of a slice from a DataFrame.\n",
      "Try using .loc[row_indexer,col_indexer] = value instead\n",
      "\n",
      "See the caveats in the documentation: https://pandas.pydata.org/pandas-docs/stable/user_guide/indexing.html#returning-a-view-versus-a-copy\n",
      "  Exports_Iran_HS6_Limited['HS4_Final']=Exports_Iran_HS6_Limited['HS6']//100\n"
     ]
    },
    {
     "name": "stdout",
     "output_type": "stream",
     "text": [
      "1393_completed\n",
      "1394\n"
     ]
    },
    {
     "name": "stderr",
     "output_type": "stream",
     "text": [
      "C:\\Users\\msbirjandi\\AppData\\Local\\Temp\\ipykernel_12336\\726640475.py:27: SettingWithCopyWarning: \n",
      "A value is trying to be set on a copy of a slice from a DataFrame.\n",
      "Try using .loc[row_indexer,col_indexer] = value instead\n",
      "\n",
      "See the caveats in the documentation: https://pandas.pydata.org/pandas-docs/stable/user_guide/indexing.html#returning-a-view-versus-a-copy\n",
      "  Exports_Iran_HS6_Limited['HS4_Final']=Exports_Iran_HS6_Limited['HS6']//100\n"
     ]
    },
    {
     "name": "stdout",
     "output_type": "stream",
     "text": [
      "1394_completed\n",
      "1395\n"
     ]
    },
    {
     "name": "stderr",
     "output_type": "stream",
     "text": [
      "C:\\Users\\msbirjandi\\AppData\\Local\\Temp\\ipykernel_12336\\726640475.py:27: SettingWithCopyWarning: \n",
      "A value is trying to be set on a copy of a slice from a DataFrame.\n",
      "Try using .loc[row_indexer,col_indexer] = value instead\n",
      "\n",
      "See the caveats in the documentation: https://pandas.pydata.org/pandas-docs/stable/user_guide/indexing.html#returning-a-view-versus-a-copy\n",
      "  Exports_Iran_HS6_Limited['HS4_Final']=Exports_Iran_HS6_Limited['HS6']//100\n"
     ]
    },
    {
     "name": "stdout",
     "output_type": "stream",
     "text": [
      "1395_completed\n",
      "1396\n"
     ]
    },
    {
     "name": "stderr",
     "output_type": "stream",
     "text": [
      "C:\\Users\\msbirjandi\\AppData\\Local\\Temp\\ipykernel_12336\\726640475.py:27: SettingWithCopyWarning: \n",
      "A value is trying to be set on a copy of a slice from a DataFrame.\n",
      "Try using .loc[row_indexer,col_indexer] = value instead\n",
      "\n",
      "See the caveats in the documentation: https://pandas.pydata.org/pandas-docs/stable/user_guide/indexing.html#returning-a-view-versus-a-copy\n",
      "  Exports_Iran_HS6_Limited['HS4_Final']=Exports_Iran_HS6_Limited['HS6']//100\n"
     ]
    },
    {
     "name": "stdout",
     "output_type": "stream",
     "text": [
      "1396_completed\n",
      "1397\n"
     ]
    },
    {
     "name": "stderr",
     "output_type": "stream",
     "text": [
      "C:\\Users\\msbirjandi\\AppData\\Local\\Temp\\ipykernel_12336\\726640475.py:27: SettingWithCopyWarning: \n",
      "A value is trying to be set on a copy of a slice from a DataFrame.\n",
      "Try using .loc[row_indexer,col_indexer] = value instead\n",
      "\n",
      "See the caveats in the documentation: https://pandas.pydata.org/pandas-docs/stable/user_guide/indexing.html#returning-a-view-versus-a-copy\n",
      "  Exports_Iran_HS6_Limited['HS4_Final']=Exports_Iran_HS6_Limited['HS6']//100\n"
     ]
    },
    {
     "name": "stdout",
     "output_type": "stream",
     "text": [
      "1397_completed\n",
      "1398\n"
     ]
    },
    {
     "name": "stderr",
     "output_type": "stream",
     "text": [
      "C:\\Users\\msbirjandi\\AppData\\Local\\Temp\\ipykernel_12336\\726640475.py:27: SettingWithCopyWarning: \n",
      "A value is trying to be set on a copy of a slice from a DataFrame.\n",
      "Try using .loc[row_indexer,col_indexer] = value instead\n",
      "\n",
      "See the caveats in the documentation: https://pandas.pydata.org/pandas-docs/stable/user_guide/indexing.html#returning-a-view-versus-a-copy\n",
      "  Exports_Iran_HS6_Limited['HS4_Final']=Exports_Iran_HS6_Limited['HS6']//100\n"
     ]
    },
    {
     "name": "stdout",
     "output_type": "stream",
     "text": [
      "1398_completed\n",
      "1399\n"
     ]
    },
    {
     "name": "stderr",
     "output_type": "stream",
     "text": [
      "C:\\Users\\msbirjandi\\AppData\\Local\\Temp\\ipykernel_12336\\726640475.py:27: SettingWithCopyWarning: \n",
      "A value is trying to be set on a copy of a slice from a DataFrame.\n",
      "Try using .loc[row_indexer,col_indexer] = value instead\n",
      "\n",
      "See the caveats in the documentation: https://pandas.pydata.org/pandas-docs/stable/user_guide/indexing.html#returning-a-view-versus-a-copy\n",
      "  Exports_Iran_HS6_Limited['HS4_Final']=Exports_Iran_HS6_Limited['HS6']//100\n"
     ]
    },
    {
     "name": "stdout",
     "output_type": "stream",
     "text": [
      "1399_completed\n",
      "1400\n"
     ]
    },
    {
     "name": "stderr",
     "output_type": "stream",
     "text": [
      "C:\\Users\\msbirjandi\\AppData\\Local\\Temp\\ipykernel_12336\\726640475.py:27: SettingWithCopyWarning: \n",
      "A value is trying to be set on a copy of a slice from a DataFrame.\n",
      "Try using .loc[row_indexer,col_indexer] = value instead\n",
      "\n",
      "See the caveats in the documentation: https://pandas.pydata.org/pandas-docs/stable/user_guide/indexing.html#returning-a-view-versus-a-copy\n",
      "  Exports_Iran_HS6_Limited['HS4_Final']=Exports_Iran_HS6_Limited['HS6']//100\n"
     ]
    },
    {
     "name": "stdout",
     "output_type": "stream",
     "text": [
      "1400_completed\n",
      "1401\n"
     ]
    },
    {
     "name": "stderr",
     "output_type": "stream",
     "text": [
      "C:\\Users\\msbirjandi\\AppData\\Local\\Temp\\ipykernel_12336\\726640475.py:27: SettingWithCopyWarning: \n",
      "A value is trying to be set on a copy of a slice from a DataFrame.\n",
      "Try using .loc[row_indexer,col_indexer] = value instead\n",
      "\n",
      "See the caveats in the documentation: https://pandas.pydata.org/pandas-docs/stable/user_guide/indexing.html#returning-a-view-versus-a-copy\n",
      "  Exports_Iran_HS6_Limited['HS4_Final']=Exports_Iran_HS6_Limited['HS6']//100\n"
     ]
    },
    {
     "name": "stdout",
     "output_type": "stream",
     "text": [
      "1401_completed\n",
      "1402\n",
      "1402_completed\n"
     ]
    },
    {
     "name": "stderr",
     "output_type": "stream",
     "text": [
      "C:\\Users\\msbirjandi\\AppData\\Local\\Temp\\ipykernel_12336\\726640475.py:27: SettingWithCopyWarning: \n",
      "A value is trying to be set on a copy of a slice from a DataFrame.\n",
      "Try using .loc[row_indexer,col_indexer] = value instead\n",
      "\n",
      "See the caveats in the documentation: https://pandas.pydata.org/pandas-docs/stable/user_guide/indexing.html#returning-a-view-versus-a-copy\n",
      "  Exports_Iran_HS6_Limited['HS4_Final']=Exports_Iran_HS6_Limited['HS6']//100\n"
     ]
    }
   ],
   "source": [
    "year = 1401\n",
    "baseyear=1389\n",
    "\n",
    "os.chdir(\"C:\\TradeGroup\")\n",
    "my_wd = os.getcwd()\n",
    "new_directory = my_wd\n",
    "Wanted_Codes=pd.read_excel(f'{my_wd}\\MrFamilMohammadi.xlsx')\n",
    "HS6s=pd.read_excel(f'{my_wd}\\MrFamilMohammadiHS6.xlsx')\n",
    "\n",
    "for year in range(1389,1403):\n",
    "    print(year)\n",
    "    Exports_Iran=pd.read_excel(f'{my_wd}\\Data\\Cleaned_Data\\Y{year}Exports.xlsx')\n",
    "    Exports_Iran=Exports_Iran[Exports_Iran['Tcode'].notnull()]\n",
    "\n",
    "\n",
    "    Exports_Iran['HS6']=Exports_Iran['Tcode']//100\n",
    "\n",
    "    Exports_Iran_HS6=Exports_Iran.groupby(\"HS6\").agg(\n",
    "        TDesc=(\"Tdesc\",\"first\"),\n",
    "        Weight=(\"Weight\",\"sum\"),\n",
    "        Rials=(\"Rials\",\"sum\"),\n",
    "        Dollars=(\"Dollars\",\"sum\")\n",
    "        ).reset_index()\n",
    "\n",
    "    Exports_Iran_HS6_Limited = Exports_Iran_HS6[Exports_Iran_HS6['HS6'].isin(HS6s['HS6'])]\n",
    "\n",
    "    Exports_Iran_HS6_Limited['HS4_Final']=Exports_Iran_HS6_Limited['HS6']//100\n",
    "    Exports_Iran_HS6_Limited.loc[Exports_Iran_HS6_Limited[\"HS6\"]==80610,\"HS4_Final\"]=8061\n",
    "    Exports_Iran_HS6_Limited.loc[Exports_Iran_HS6_Limited[\"HS6\"]==80620,\"HS4_Final\"]=8062\n",
    "\n",
    "    Exports_Limited=Wanted_Codes.merge(Exports_Iran_HS6_Limited,on=\"HS4_Final\",how=\"left\")\n",
    "\n",
    "    Exports_Limited[f'Price_{year}']=Exports_Limited['Dollars']/Exports_Limited['Weight']\n",
    "    Exports_Limited_New=Exports_Limited[[\"Group\",\"Comm\",\"HS4_Final\",\"HS6\",f'Price_{year}']]\n",
    "\n",
    "    if year==baseyear:\n",
    "        Exports_Limited_New_Series=Exports_Limited_New\n",
    "    else:\n",
    "        Exports_Limited_New_Series=Exports_Limited_New_Series.merge(Exports_Limited_New,on=[\"Group\",\"Comm\",\"HS4_Final\",\"HS6\"],how=\"outer\")   \n",
    "    \n",
    "    Exports_Limited.to_excel(f'{my_wd}\\Wanted_Data\\Com61_{year}_HS6s.xlsx',index=False)\n",
    "    print(f'{year}_completed')\n",
    "    \n",
    "Exports_Limited_New_Series.to_excel(f'{my_wd}\\Wanted_Data\\Com61_Series_HS6s.xlsx',index=False)\n",
    "\n"
   ]
  },
  {
   "cell_type": "code",
   "execution_count": 17,
   "metadata": {},
   "outputs": [
    {
     "data": {
      "text/html": [
       "<div>\n",
       "<style scoped>\n",
       "    .dataframe tbody tr th:only-of-type {\n",
       "        vertical-align: middle;\n",
       "    }\n",
       "\n",
       "    .dataframe tbody tr th {\n",
       "        vertical-align: top;\n",
       "    }\n",
       "\n",
       "    .dataframe thead th {\n",
       "        text-align: right;\n",
       "    }\n",
       "</style>\n",
       "<table border=\"1\" class=\"dataframe\">\n",
       "  <thead>\n",
       "    <tr style=\"text-align: right;\">\n",
       "      <th></th>\n",
       "      <th>Group</th>\n",
       "      <th>Comm</th>\n",
       "      <th>HS6_NotFinal</th>\n",
       "      <th>HS4_Final</th>\n",
       "      <th>HS6</th>\n",
       "      <th>TDesc</th>\n",
       "      <th>Weight</th>\n",
       "      <th>Rials</th>\n",
       "      <th>Dollars</th>\n",
       "      <th>Price</th>\n",
       "      <th>Price_1401</th>\n",
       "    </tr>\n",
       "  </thead>\n",
       "  <tbody>\n",
       "    <tr>\n",
       "      <th>0</th>\n",
       "      <td>میوه خشکبار</td>\n",
       "      <td>پسته</td>\n",
       "      <td>80250</td>\n",
       "      <td>802</td>\n",
       "      <td>80251.0</td>\n",
       "      <td>پسته ها با پوست تازه يا خشك</td>\n",
       "      <td>43990269</td>\n",
       "      <td>75079482287322</td>\n",
       "      <td>265705498</td>\n",
       "      <td>6.040097</td>\n",
       "      <td>6.040097</td>\n",
       "    </tr>\n",
       "    <tr>\n",
       "      <th>1</th>\n",
       "      <td>میوه خشکبار</td>\n",
       "      <td>خرما</td>\n",
       "      <td>80410</td>\n",
       "      <td>804</td>\n",
       "      <td>80410.0</td>\n",
       "      <td>خرما مضافتي تازه يا خشك كرده</td>\n",
       "      <td>374199920</td>\n",
       "      <td>96255667737126</td>\n",
       "      <td>323817781</td>\n",
       "      <td>0.865360</td>\n",
       "      <td>0.865360</td>\n",
       "    </tr>\n",
       "    <tr>\n",
       "      <th>2</th>\n",
       "      <td>میوه خشکبار</td>\n",
       "      <td>هندوانه</td>\n",
       "      <td>80719</td>\n",
       "      <td>807</td>\n",
       "      <td>80711.0</td>\n",
       "      <td>هندوا نه، تازه</td>\n",
       "      <td>908309276</td>\n",
       "      <td>52166899093452</td>\n",
       "      <td>199259905</td>\n",
       "      <td>0.219375</td>\n",
       "      <td>0.219375</td>\n",
       "    </tr>\n",
       "    <tr>\n",
       "      <th>3</th>\n",
       "      <td>میوه خشکبار</td>\n",
       "      <td>مویز</td>\n",
       "      <td>80620</td>\n",
       "      <td>8062</td>\n",
       "      <td>80620.0</td>\n",
       "      <td>کاشمري سبز بي دانه (انگور خشک کرده)</td>\n",
       "      <td>123681044</td>\n",
       "      <td>64330772904927</td>\n",
       "      <td>219466080</td>\n",
       "      <td>1.774452</td>\n",
       "      <td>1.774452</td>\n",
       "    </tr>\n",
       "    <tr>\n",
       "      <th>4</th>\n",
       "      <td>میوه خشکبار</td>\n",
       "      <td>انگور</td>\n",
       "      <td>80610</td>\n",
       "      <td>8061</td>\n",
       "      <td>80610.0</td>\n",
       "      <td>انگور تازه</td>\n",
       "      <td>23985928</td>\n",
       "      <td>2802641965239</td>\n",
       "      <td>10099914</td>\n",
       "      <td>0.421077</td>\n",
       "      <td>0.421077</td>\n",
       "    </tr>\n",
       "    <tr>\n",
       "      <th>...</th>\n",
       "      <td>...</td>\n",
       "      <td>...</td>\n",
       "      <td>...</td>\n",
       "      <td>...</td>\n",
       "      <td>...</td>\n",
       "      <td>...</td>\n",
       "      <td>...</td>\n",
       "      <td>...</td>\n",
       "      <td>...</td>\n",
       "      <td>...</td>\n",
       "      <td>...</td>\n",
       "    </tr>\n",
       "    <tr>\n",
       "      <th>56</th>\n",
       "      <td>کاغذ و مقوا</td>\n",
       "      <td>کارتن</td>\n",
       "      <td>481910</td>\n",
       "      <td>4819</td>\n",
       "      <td>481910.0</td>\n",
       "      <td>کارتن، قوطي، جعبه ا زکاغذ يا مقوا ي موج دا ر</td>\n",
       "      <td>69940251</td>\n",
       "      <td>12476049421975</td>\n",
       "      <td>44688377</td>\n",
       "      <td>0.638951</td>\n",
       "      <td>0.638951</td>\n",
       "    </tr>\n",
       "    <tr>\n",
       "      <th>57</th>\n",
       "      <td>چوب</td>\n",
       "      <td>تخته فیبر</td>\n",
       "      <td>441112</td>\n",
       "      <td>4411</td>\n",
       "      <td>441114.0</td>\n",
       "      <td>تخته فيبر تراكمي متوسط (mdf) باضخامت بيش از 9 ...</td>\n",
       "      <td>90726416</td>\n",
       "      <td>10756695604897</td>\n",
       "      <td>40124232</td>\n",
       "      <td>0.442255</td>\n",
       "      <td>0.442255</td>\n",
       "    </tr>\n",
       "    <tr>\n",
       "      <th>58</th>\n",
       "      <td>نساجی</td>\n",
       "      <td>کنف پنبه</td>\n",
       "      <td>630510</td>\n",
       "      <td>6305</td>\n",
       "      <td>630533.0</td>\n",
       "      <td>ساير، به دست آمده از نوار يا اشكال همانند از پ...</td>\n",
       "      <td>64255729</td>\n",
       "      <td>23095226655609</td>\n",
       "      <td>81654773</td>\n",
       "      <td>1.270778</td>\n",
       "      <td>1.270778</td>\n",
       "    </tr>\n",
       "    <tr>\n",
       "      <th>59</th>\n",
       "      <td>مبل</td>\n",
       "      <td>مبل چوب</td>\n",
       "      <td>940300</td>\n",
       "      <td>9403</td>\n",
       "      <td>940360.0</td>\n",
       "      <td>ساير مبل هاي چوبي به غير از صنايع دستي</td>\n",
       "      <td>12832513</td>\n",
       "      <td>10132386877160</td>\n",
       "      <td>36262852</td>\n",
       "      <td>2.825857</td>\n",
       "      <td>2.825857</td>\n",
       "    </tr>\n",
       "    <tr>\n",
       "      <th>60</th>\n",
       "      <td>رنگ و پوشش</td>\n",
       "      <td>رنگ</td>\n",
       "      <td>320810</td>\n",
       "      <td>3208</td>\n",
       "      <td>320890.0</td>\n",
       "      <td>سايررنگ ها و ورني ها بر اساس ساير پليمرهاي سنت...</td>\n",
       "      <td>9903461</td>\n",
       "      <td>4520766365507</td>\n",
       "      <td>15988739</td>\n",
       "      <td>1.614460</td>\n",
       "      <td>1.614460</td>\n",
       "    </tr>\n",
       "  </tbody>\n",
       "</table>\n",
       "<p>61 rows × 11 columns</p>\n",
       "</div>"
      ],
      "text/plain": [
       "          Group       Comm  HS6_NotFinal  HS4_Final       HS6  \\\n",
       "0   میوه خشکبار       پسته         80250        802   80251.0   \n",
       "1   میوه خشکبار       خرما         80410        804   80410.0   \n",
       "2   میوه خشکبار    هندوانه         80719        807   80711.0   \n",
       "3   میوه خشکبار       مویز         80620       8062   80620.0   \n",
       "4   میوه خشکبار      انگور         80610       8061   80610.0   \n",
       "..          ...        ...           ...        ...       ...   \n",
       "56  کاغذ و مقوا      کارتن        481910       4819  481910.0   \n",
       "57          چوب  تخته فیبر        441112       4411  441114.0   \n",
       "58        نساجی   کنف پنبه        630510       6305  630533.0   \n",
       "59          مبل    مبل چوب        940300       9403  940360.0   \n",
       "60   رنگ و پوشش        رنگ        320810       3208  320890.0   \n",
       "\n",
       "                                                TDesc     Weight  \\\n",
       "0                         پسته ها با پوست تازه يا خشك   43990269   \n",
       "1                        خرما مضافتي تازه يا خشك كرده  374199920   \n",
       "2                                      هندوا نه، تازه  908309276   \n",
       "3                 کاشمري سبز بي دانه (انگور خشک کرده)  123681044   \n",
       "4                                          انگور تازه   23985928   \n",
       "..                                                ...        ...   \n",
       "56       کارتن، قوطي، جعبه ا زکاغذ يا مقوا ي موج دا ر   69940251   \n",
       "57  تخته فيبر تراكمي متوسط (mdf) باضخامت بيش از 9 ...   90726416   \n",
       "58  ساير، به دست آمده از نوار يا اشكال همانند از پ...   64255729   \n",
       "59             ساير مبل هاي چوبي به غير از صنايع دستي   12832513   \n",
       "60  سايررنگ ها و ورني ها بر اساس ساير پليمرهاي سنت...    9903461   \n",
       "\n",
       "             Rials    Dollars     Price  Price_1401  \n",
       "0   75079482287322  265705498  6.040097    6.040097  \n",
       "1   96255667737126  323817781  0.865360    0.865360  \n",
       "2   52166899093452  199259905  0.219375    0.219375  \n",
       "3   64330772904927  219466080  1.774452    1.774452  \n",
       "4    2802641965239   10099914  0.421077    0.421077  \n",
       "..             ...        ...       ...         ...  \n",
       "56  12476049421975   44688377  0.638951    0.638951  \n",
       "57  10756695604897   40124232  0.442255    0.442255  \n",
       "58  23095226655609   81654773  1.270778    1.270778  \n",
       "59  10132386877160   36262852  2.825857    2.825857  \n",
       "60   4520766365507   15988739  1.614460    1.614460  \n",
       "\n",
       "[61 rows x 11 columns]"
      ]
     },
     "execution_count": 17,
     "metadata": {},
     "output_type": "execute_result"
    }
   ],
   "source": [
    "#Exports_Limited=Wanted_Codes.merge(Exports_Iran_HS6_Limited,on=\"HS4_Final\",how=\"left\")\n",
    "Exports_Limited[f'Price_{year}']=Exports_Limited['Dollars']/Exports_Limited['Weight']\n",
    "Exports_Limited"
   ]
  },
  {
   "cell_type": "code",
   "execution_count": 9,
   "metadata": {},
   "outputs": [
    {
     "data": {
      "text/html": [
       "<div>\n",
       "<style scoped>\n",
       "    .dataframe tbody tr th:only-of-type {\n",
       "        vertical-align: middle;\n",
       "    }\n",
       "\n",
       "    .dataframe tbody tr th {\n",
       "        vertical-align: top;\n",
       "    }\n",
       "\n",
       "    .dataframe thead th {\n",
       "        text-align: right;\n",
       "    }\n",
       "</style>\n",
       "<table border=\"1\" class=\"dataframe\">\n",
       "  <thead>\n",
       "    <tr style=\"text-align: right;\">\n",
       "      <th></th>\n",
       "      <th>Group</th>\n",
       "      <th>Comm</th>\n",
       "      <th>HS4_Final</th>\n",
       "      <th>HS6</th>\n",
       "      <th>TDesc</th>\n",
       "      <th>Price_1390</th>\n",
       "    </tr>\n",
       "  </thead>\n",
       "  <tbody>\n",
       "    <tr>\n",
       "      <th>0</th>\n",
       "      <td>میوه خشکبار</td>\n",
       "      <td>پسته</td>\n",
       "      <td>802</td>\n",
       "      <td>NaN</td>\n",
       "      <td>NaN</td>\n",
       "      <td>NaN</td>\n",
       "    </tr>\n",
       "    <tr>\n",
       "      <th>1</th>\n",
       "      <td>میوه خشکبار</td>\n",
       "      <td>خرما</td>\n",
       "      <td>804</td>\n",
       "      <td>80410.0</td>\n",
       "      <td>خرمامضافتي تازه ياخشك كرده</td>\n",
       "      <td>1.406784</td>\n",
       "    </tr>\n",
       "    <tr>\n",
       "      <th>2</th>\n",
       "      <td>میوه خشکبار</td>\n",
       "      <td>هندوانه</td>\n",
       "      <td>807</td>\n",
       "      <td>80711.0</td>\n",
       "      <td>هندوا نه , تازه</td>\n",
       "      <td>0.254605</td>\n",
       "    </tr>\n",
       "    <tr>\n",
       "      <th>3</th>\n",
       "      <td>میوه خشکبار</td>\n",
       "      <td>مویز</td>\n",
       "      <td>8062</td>\n",
       "      <td>80620.0</td>\n",
       "      <td>تيزا بي دا نه  دا ر( ا نگورخشک  کرده  )</td>\n",
       "      <td>2.417749</td>\n",
       "    </tr>\n",
       "    <tr>\n",
       "      <th>4</th>\n",
       "      <td>میوه خشکبار</td>\n",
       "      <td>انگور</td>\n",
       "      <td>8061</td>\n",
       "      <td>80610.0</td>\n",
       "      <td>ا نگور تازه</td>\n",
       "      <td>1.388221</td>\n",
       "    </tr>\n",
       "    <tr>\n",
       "      <th>...</th>\n",
       "      <td>...</td>\n",
       "      <td>...</td>\n",
       "      <td>...</td>\n",
       "      <td>...</td>\n",
       "      <td>...</td>\n",
       "      <td>...</td>\n",
       "    </tr>\n",
       "    <tr>\n",
       "      <th>56</th>\n",
       "      <td>کاغذ و مقوا</td>\n",
       "      <td>کارتن</td>\n",
       "      <td>4819</td>\n",
       "      <td>481910.0</td>\n",
       "      <td>کارتن  ,قوطي ,جعبه  ا زکاغذيامقوا ي  موج دا ر</td>\n",
       "      <td>0.844687</td>\n",
       "    </tr>\n",
       "    <tr>\n",
       "      <th>57</th>\n",
       "      <td>چوب</td>\n",
       "      <td>تخته فیبر</td>\n",
       "      <td>4411</td>\n",
       "      <td>441114.0</td>\n",
       "      <td>تخته فيبرتراكمي متوسط (mdf)باضخامت بيش از 9ميل...</td>\n",
       "      <td>0.726358</td>\n",
       "    </tr>\n",
       "    <tr>\n",
       "      <th>58</th>\n",
       "      <td>نساجی</td>\n",
       "      <td>کنف پنبه</td>\n",
       "      <td>6305</td>\n",
       "      <td>630533.0</td>\n",
       "      <td>جوال وکيسه براي بسته بندي کالا,از نوار پلي اتي...</td>\n",
       "      <td>3.058294</td>\n",
       "    </tr>\n",
       "    <tr>\n",
       "      <th>59</th>\n",
       "      <td>مبل</td>\n",
       "      <td>مبل چوب</td>\n",
       "      <td>9403</td>\n",
       "      <td>940360.0</td>\n",
       "      <td>ساير مبلهاي چوبي بغيراز صنايع دستي</td>\n",
       "      <td>3.215113</td>\n",
       "    </tr>\n",
       "    <tr>\n",
       "      <th>60</th>\n",
       "      <td>رنگ و پوشش</td>\n",
       "      <td>رنگ</td>\n",
       "      <td>3208</td>\n",
       "      <td>320890.0</td>\n",
       "      <td>سايررنگهاوورني هابرا ساس ساير پليمرهاي  سنتيتي...</td>\n",
       "      <td>3.426122</td>\n",
       "    </tr>\n",
       "  </tbody>\n",
       "</table>\n",
       "<p>61 rows × 6 columns</p>\n",
       "</div>"
      ],
      "text/plain": [
       "          Group       Comm  HS4_Final       HS6  \\\n",
       "0   میوه خشکبار       پسته        802       NaN   \n",
       "1   میوه خشکبار       خرما        804   80410.0   \n",
       "2   میوه خشکبار    هندوانه        807   80711.0   \n",
       "3   میوه خشکبار       مویز       8062   80620.0   \n",
       "4   میوه خشکبار      انگور       8061   80610.0   \n",
       "..          ...        ...        ...       ...   \n",
       "56  کاغذ و مقوا      کارتن       4819  481910.0   \n",
       "57          چوب  تخته فیبر       4411  441114.0   \n",
       "58        نساجی   کنف پنبه       6305  630533.0   \n",
       "59          مبل    مبل چوب       9403  940360.0   \n",
       "60   رنگ و پوشش        رنگ       3208  320890.0   \n",
       "\n",
       "                                                TDesc  Price_1390  \n",
       "0                                                 NaN         NaN  \n",
       "1                         خرمامضافتي تازه ياخشك كرده     1.406784  \n",
       "2                                     هندوا نه , تازه    0.254605  \n",
       "3             تيزا بي دا نه  دا ر( ا نگورخشک  کرده  )    2.417749  \n",
       "4                                         ا نگور تازه    1.388221  \n",
       "..                                                ...         ...  \n",
       "56      کارتن  ,قوطي ,جعبه  ا زکاغذيامقوا ي  موج دا ر    0.844687  \n",
       "57  تخته فيبرتراكمي متوسط (mdf)باضخامت بيش از 9ميل...    0.726358  \n",
       "58  جوال وکيسه براي بسته بندي کالا,از نوار پلي اتي...    3.058294  \n",
       "59                ساير مبلهاي چوبي بغيراز صنايع دستي     3.215113  \n",
       "60  سايررنگهاوورني هابرا ساس ساير پليمرهاي  سنتيتي...    3.426122  \n",
       "\n",
       "[61 rows x 6 columns]"
      ]
     },
     "execution_count": 9,
     "metadata": {},
     "output_type": "execute_result"
    }
   ],
   "source": [
    "Exports_Limited_New"
   ]
  },
  {
   "cell_type": "code",
   "execution_count": 10,
   "metadata": {},
   "outputs": [
    {
     "ename": "KeyError",
     "evalue": "'HS4_Final'",
     "output_type": "error",
     "traceback": [
      "\u001b[1;31m---------------------------------------------------------------------------\u001b[0m",
      "\u001b[1;31mKeyError\u001b[0m                                  Traceback (most recent call last)",
      "\u001b[1;32m~\\AppData\\Local\\Temp\\ipykernel_10840\\2986676505.py\u001b[0m in \u001b[0;36m?\u001b[1;34m()\u001b[0m\n\u001b[1;32m----> 1\u001b[1;33m \u001b[0mExports_Limited\u001b[0m\u001b[1;33m=\u001b[0m\u001b[0mWanted_Codes\u001b[0m\u001b[1;33m.\u001b[0m\u001b[0mmerge\u001b[0m\u001b[1;33m(\u001b[0m\u001b[0mExports_Iran_HS6_Limited\u001b[0m\u001b[1;33m,\u001b[0m\u001b[0mon\u001b[0m\u001b[1;33m=\u001b[0m\u001b[1;34m\"HS4_Final\"\u001b[0m\u001b[1;33m,\u001b[0m\u001b[0mhow\u001b[0m\u001b[1;33m=\u001b[0m\u001b[1;34m\"left\"\u001b[0m\u001b[1;33m)\u001b[0m\u001b[1;33m\u001b[0m\u001b[1;33m\u001b[0m\u001b[0m\n\u001b[0m\u001b[0;32m      2\u001b[0m \u001b[0mExports_Limited\u001b[0m\u001b[1;33m\u001b[0m\u001b[1;33m\u001b[0m\u001b[0m\n",
      "\u001b[1;32mc:\\Users\\msbirjandi\\AppData\\Local\\Programs\\Python\\Python311\\Lib\\site-packages\\pandas\\core\\frame.py\u001b[0m in \u001b[0;36m?\u001b[1;34m(self, right, how, on, left_on, right_on, left_index, right_index, sort, suffixes, copy, indicator, validate)\u001b[0m\n\u001b[0;32m  10483\u001b[0m         \u001b[0mvalidate\u001b[0m\u001b[1;33m:\u001b[0m \u001b[0mMergeValidate\u001b[0m \u001b[1;33m|\u001b[0m \u001b[1;32mNone\u001b[0m \u001b[1;33m=\u001b[0m \u001b[1;32mNone\u001b[0m\u001b[1;33m,\u001b[0m\u001b[1;33m\u001b[0m\u001b[1;33m\u001b[0m\u001b[0m\n\u001b[0;32m  10484\u001b[0m     ) -> DataFrame:\n\u001b[0;32m  10485\u001b[0m         \u001b[1;32mfrom\u001b[0m \u001b[0mpandas\u001b[0m\u001b[1;33m.\u001b[0m\u001b[0mcore\u001b[0m\u001b[1;33m.\u001b[0m\u001b[0mreshape\u001b[0m\u001b[1;33m.\u001b[0m\u001b[0mmerge\u001b[0m \u001b[1;32mimport\u001b[0m \u001b[0mmerge\u001b[0m\u001b[1;33m\u001b[0m\u001b[1;33m\u001b[0m\u001b[0m\n\u001b[0;32m  10486\u001b[0m \u001b[1;33m\u001b[0m\u001b[0m\n\u001b[1;32m> 10487\u001b[1;33m         return merge(\n\u001b[0m\u001b[0;32m  10488\u001b[0m             \u001b[0mself\u001b[0m\u001b[1;33m,\u001b[0m\u001b[1;33m\u001b[0m\u001b[1;33m\u001b[0m\u001b[0m\n\u001b[0;32m  10489\u001b[0m             \u001b[0mright\u001b[0m\u001b[1;33m,\u001b[0m\u001b[1;33m\u001b[0m\u001b[1;33m\u001b[0m\u001b[0m\n\u001b[0;32m  10490\u001b[0m             \u001b[0mhow\u001b[0m\u001b[1;33m=\u001b[0m\u001b[0mhow\u001b[0m\u001b[1;33m,\u001b[0m\u001b[1;33m\u001b[0m\u001b[1;33m\u001b[0m\u001b[0m\n",
      "\u001b[1;32mc:\\Users\\msbirjandi\\AppData\\Local\\Programs\\Python\\Python311\\Lib\\site-packages\\pandas\\core\\reshape\\merge.py\u001b[0m in \u001b[0;36m?\u001b[1;34m(left, right, how, on, left_on, right_on, left_index, right_index, sort, suffixes, copy, indicator, validate)\u001b[0m\n\u001b[0;32m    165\u001b[0m             \u001b[0mvalidate\u001b[0m\u001b[1;33m=\u001b[0m\u001b[0mvalidate\u001b[0m\u001b[1;33m,\u001b[0m\u001b[1;33m\u001b[0m\u001b[1;33m\u001b[0m\u001b[0m\n\u001b[0;32m    166\u001b[0m             \u001b[0mcopy\u001b[0m\u001b[1;33m=\u001b[0m\u001b[0mcopy\u001b[0m\u001b[1;33m,\u001b[0m\u001b[1;33m\u001b[0m\u001b[1;33m\u001b[0m\u001b[0m\n\u001b[0;32m    167\u001b[0m         )\n\u001b[0;32m    168\u001b[0m     \u001b[1;32melse\u001b[0m\u001b[1;33m:\u001b[0m\u001b[1;33m\u001b[0m\u001b[1;33m\u001b[0m\u001b[0m\n\u001b[1;32m--> 169\u001b[1;33m         op = _MergeOperation(\n\u001b[0m\u001b[0;32m    170\u001b[0m             \u001b[0mleft_df\u001b[0m\u001b[1;33m,\u001b[0m\u001b[1;33m\u001b[0m\u001b[1;33m\u001b[0m\u001b[0m\n\u001b[0;32m    171\u001b[0m             \u001b[0mright_df\u001b[0m\u001b[1;33m,\u001b[0m\u001b[1;33m\u001b[0m\u001b[1;33m\u001b[0m\u001b[0m\n\u001b[0;32m    172\u001b[0m             \u001b[0mhow\u001b[0m\u001b[1;33m=\u001b[0m\u001b[0mhow\u001b[0m\u001b[1;33m,\u001b[0m\u001b[1;33m\u001b[0m\u001b[1;33m\u001b[0m\u001b[0m\n",
      "\u001b[1;32mc:\\Users\\msbirjandi\\AppData\\Local\\Programs\\Python\\Python311\\Lib\\site-packages\\pandas\\core\\reshape\\merge.py\u001b[0m in \u001b[0;36m?\u001b[1;34m(self, left, right, how, on, left_on, right_on, left_index, right_index, sort, suffixes, indicator, validate)\u001b[0m\n\u001b[0;32m    787\u001b[0m             \u001b[0mself\u001b[0m\u001b[1;33m.\u001b[0m\u001b[0mright_join_keys\u001b[0m\u001b[1;33m,\u001b[0m\u001b[1;33m\u001b[0m\u001b[1;33m\u001b[0m\u001b[0m\n\u001b[0;32m    788\u001b[0m             \u001b[0mself\u001b[0m\u001b[1;33m.\u001b[0m\u001b[0mjoin_names\u001b[0m\u001b[1;33m,\u001b[0m\u001b[1;33m\u001b[0m\u001b[1;33m\u001b[0m\u001b[0m\n\u001b[0;32m    789\u001b[0m             \u001b[0mleft_drop\u001b[0m\u001b[1;33m,\u001b[0m\u001b[1;33m\u001b[0m\u001b[1;33m\u001b[0m\u001b[0m\n\u001b[0;32m    790\u001b[0m             \u001b[0mright_drop\u001b[0m\u001b[1;33m,\u001b[0m\u001b[1;33m\u001b[0m\u001b[1;33m\u001b[0m\u001b[0m\n\u001b[1;32m--> 791\u001b[1;33m         ) = self._get_merge_keys()\n\u001b[0m\u001b[0;32m    792\u001b[0m \u001b[1;33m\u001b[0m\u001b[0m\n\u001b[0;32m    793\u001b[0m         \u001b[1;32mif\u001b[0m \u001b[0mleft_drop\u001b[0m\u001b[1;33m:\u001b[0m\u001b[1;33m\u001b[0m\u001b[1;33m\u001b[0m\u001b[0m\n\u001b[0;32m    794\u001b[0m             \u001b[0mself\u001b[0m\u001b[1;33m.\u001b[0m\u001b[0mleft\u001b[0m \u001b[1;33m=\u001b[0m \u001b[0mself\u001b[0m\u001b[1;33m.\u001b[0m\u001b[0mleft\u001b[0m\u001b[1;33m.\u001b[0m\u001b[0m_drop_labels_or_levels\u001b[0m\u001b[1;33m(\u001b[0m\u001b[0mleft_drop\u001b[0m\u001b[1;33m)\u001b[0m\u001b[1;33m\u001b[0m\u001b[1;33m\u001b[0m\u001b[0m\n",
      "\u001b[1;32mc:\\Users\\msbirjandi\\AppData\\Local\\Programs\\Python\\Python311\\Lib\\site-packages\\pandas\\core\\reshape\\merge.py\u001b[0m in \u001b[0;36m?\u001b[1;34m(self)\u001b[0m\n\u001b[0;32m   1265\u001b[0m                         \u001b[1;31m# Then we're either Hashable or a wrong-length arraylike,\u001b[0m\u001b[1;33m\u001b[0m\u001b[1;33m\u001b[0m\u001b[0m\n\u001b[0;32m   1266\u001b[0m                         \u001b[1;31m#  the latter of which will raise\u001b[0m\u001b[1;33m\u001b[0m\u001b[1;33m\u001b[0m\u001b[0m\n\u001b[0;32m   1267\u001b[0m                         \u001b[0mrk\u001b[0m \u001b[1;33m=\u001b[0m \u001b[0mcast\u001b[0m\u001b[1;33m(\u001b[0m\u001b[0mHashable\u001b[0m\u001b[1;33m,\u001b[0m \u001b[0mrk\u001b[0m\u001b[1;33m)\u001b[0m\u001b[1;33m\u001b[0m\u001b[1;33m\u001b[0m\u001b[0m\n\u001b[0;32m   1268\u001b[0m                         \u001b[1;32mif\u001b[0m \u001b[0mrk\u001b[0m \u001b[1;32mis\u001b[0m \u001b[1;32mnot\u001b[0m \u001b[1;32mNone\u001b[0m\u001b[1;33m:\u001b[0m\u001b[1;33m\u001b[0m\u001b[1;33m\u001b[0m\u001b[0m\n\u001b[1;32m-> 1269\u001b[1;33m                             \u001b[0mright_keys\u001b[0m\u001b[1;33m.\u001b[0m\u001b[0mappend\u001b[0m\u001b[1;33m(\u001b[0m\u001b[0mright\u001b[0m\u001b[1;33m.\u001b[0m\u001b[0m_get_label_or_level_values\u001b[0m\u001b[1;33m(\u001b[0m\u001b[0mrk\u001b[0m\u001b[1;33m)\u001b[0m\u001b[1;33m)\u001b[0m\u001b[1;33m\u001b[0m\u001b[1;33m\u001b[0m\u001b[0m\n\u001b[0m\u001b[0;32m   1270\u001b[0m                         \u001b[1;32melse\u001b[0m\u001b[1;33m:\u001b[0m\u001b[1;33m\u001b[0m\u001b[1;33m\u001b[0m\u001b[0m\n\u001b[0;32m   1271\u001b[0m                             \u001b[1;31m# work-around for merge_asof(right_index=True)\u001b[0m\u001b[1;33m\u001b[0m\u001b[1;33m\u001b[0m\u001b[0m\n\u001b[0;32m   1272\u001b[0m                             \u001b[0mright_keys\u001b[0m\u001b[1;33m.\u001b[0m\u001b[0mappend\u001b[0m\u001b[1;33m(\u001b[0m\u001b[0mright\u001b[0m\u001b[1;33m.\u001b[0m\u001b[0mindex\u001b[0m\u001b[1;33m.\u001b[0m\u001b[0m_values\u001b[0m\u001b[1;33m)\u001b[0m\u001b[1;33m\u001b[0m\u001b[1;33m\u001b[0m\u001b[0m\n",
      "\u001b[1;32mc:\\Users\\msbirjandi\\AppData\\Local\\Programs\\Python\\Python311\\Lib\\site-packages\\pandas\\core\\generic.py\u001b[0m in \u001b[0;36m?\u001b[1;34m(self, key, axis)\u001b[0m\n\u001b[0;32m   1840\u001b[0m             \u001b[0mvalues\u001b[0m \u001b[1;33m=\u001b[0m \u001b[0mself\u001b[0m\u001b[1;33m.\u001b[0m\u001b[0mxs\u001b[0m\u001b[1;33m(\u001b[0m\u001b[0mkey\u001b[0m\u001b[1;33m,\u001b[0m \u001b[0maxis\u001b[0m\u001b[1;33m=\u001b[0m\u001b[0mother_axes\u001b[0m\u001b[1;33m[\u001b[0m\u001b[1;36m0\u001b[0m\u001b[1;33m]\u001b[0m\u001b[1;33m)\u001b[0m\u001b[1;33m.\u001b[0m\u001b[0m_values\u001b[0m\u001b[1;33m\u001b[0m\u001b[1;33m\u001b[0m\u001b[0m\n\u001b[0;32m   1841\u001b[0m         \u001b[1;32melif\u001b[0m \u001b[0mself\u001b[0m\u001b[1;33m.\u001b[0m\u001b[0m_is_level_reference\u001b[0m\u001b[1;33m(\u001b[0m\u001b[0mkey\u001b[0m\u001b[1;33m,\u001b[0m \u001b[0maxis\u001b[0m\u001b[1;33m=\u001b[0m\u001b[0maxis\u001b[0m\u001b[1;33m)\u001b[0m\u001b[1;33m:\u001b[0m\u001b[1;33m\u001b[0m\u001b[1;33m\u001b[0m\u001b[0m\n\u001b[0;32m   1842\u001b[0m             \u001b[0mvalues\u001b[0m \u001b[1;33m=\u001b[0m \u001b[0mself\u001b[0m\u001b[1;33m.\u001b[0m\u001b[0maxes\u001b[0m\u001b[1;33m[\u001b[0m\u001b[0maxis\u001b[0m\u001b[1;33m]\u001b[0m\u001b[1;33m.\u001b[0m\u001b[0mget_level_values\u001b[0m\u001b[1;33m(\u001b[0m\u001b[0mkey\u001b[0m\u001b[1;33m)\u001b[0m\u001b[1;33m.\u001b[0m\u001b[0m_values\u001b[0m\u001b[1;33m\u001b[0m\u001b[1;33m\u001b[0m\u001b[0m\n\u001b[0;32m   1843\u001b[0m         \u001b[1;32melse\u001b[0m\u001b[1;33m:\u001b[0m\u001b[1;33m\u001b[0m\u001b[1;33m\u001b[0m\u001b[0m\n\u001b[1;32m-> 1844\u001b[1;33m             \u001b[1;32mraise\u001b[0m \u001b[0mKeyError\u001b[0m\u001b[1;33m(\u001b[0m\u001b[0mkey\u001b[0m\u001b[1;33m)\u001b[0m\u001b[1;33m\u001b[0m\u001b[1;33m\u001b[0m\u001b[0m\n\u001b[0m\u001b[0;32m   1845\u001b[0m \u001b[1;33m\u001b[0m\u001b[0m\n\u001b[0;32m   1846\u001b[0m         \u001b[1;31m# Check for duplicates\u001b[0m\u001b[1;33m\u001b[0m\u001b[1;33m\u001b[0m\u001b[0m\n\u001b[0;32m   1847\u001b[0m         \u001b[1;32mif\u001b[0m \u001b[0mvalues\u001b[0m\u001b[1;33m.\u001b[0m\u001b[0mndim\u001b[0m \u001b[1;33m>\u001b[0m \u001b[1;36m1\u001b[0m\u001b[1;33m:\u001b[0m\u001b[1;33m\u001b[0m\u001b[1;33m\u001b[0m\u001b[0m\n",
      "\u001b[1;31mKeyError\u001b[0m: 'HS4_Final'"
     ]
    }
   ],
   "source": [
    "Exports_Limited=Wanted_Codes.merge(Exports_Iran_HS6_Limited,on=\"HS4_Final\",how=\"left\")\n",
    "Exports_Limited"
   ]
  }
 ],
 "metadata": {
  "kernelspec": {
   "display_name": "Python 3",
   "language": "python",
   "name": "python3"
  },
  "language_info": {
   "codemirror_mode": {
    "name": "ipython",
    "version": 3
   },
   "file_extension": ".py",
   "mimetype": "text/x-python",
   "name": "python",
   "nbconvert_exporter": "python",
   "pygments_lexer": "ipython3",
   "version": "3.11.3"
  }
 },
 "nbformat": 4,
 "nbformat_minor": 2
}
