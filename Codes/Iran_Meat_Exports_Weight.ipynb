{
 "cells": [
  {
   "cell_type": "code",
   "execution_count": 1,
   "metadata": {},
   "outputs": [],
   "source": [
    "import pandas as pd\n",
    "import numpy as np\n",
    "import os\n",
    "\n",
    "\n",
    "os.chdir(\"C:\\TradeGroup\")\n",
    "my_wd = os.getcwd()\n",
    "new_directory = my_wd"
   ]
  },
  {
   "cell_type": "code",
   "execution_count": 2,
   "metadata": {},
   "outputs": [],
   "source": [
    "i=0\n",
    "year = 1397\n",
    "Export_Series = pd.DataFrame()\n",
    "for year in range(1390,1402):\n",
    "    Export = pd.read_excel(f\"{my_wd}/Data/Cleaned_Data/Y{year}Exports.xlsx\")\n",
    "    Export['HS4'] = Export['Tcode']//10000\n",
    "\n",
    "    Export_Meat = Export[Export['HS4']==104]\n",
    "\n",
    "    Export_Meat_Country = Export_Meat[(Export_Meat['Country']==\"عمان\") |(Export_Meat['Country']==\"قطر\")|(Export_Meat['Country']==\"كويت\")]\n",
    "    i=i+1\n",
    "    Export_Data = pd.DataFrame({\"Year\": year, \"Tons\": Export_Meat_Country['Weight'].sum()/1000, \"MDollars\": Export_Meat_Country['Dollars'].sum()/1000000}, index=[i])\n",
    "    Export_Series = pd.concat([Export_Series,Export_Data])\n",
    "\n",
    "\n"
   ]
  },
  {
   "cell_type": "code",
   "execution_count": 3,
   "metadata": {},
   "outputs": [],
   "source": [
    "Export_Series.to_excel(f'C:/TradeGroup/Reports/Meat_Exports_Tons_Mirror_new.xlsx')"
   ]
  },
  {
   "cell_type": "code",
   "execution_count": 20,
   "metadata": {},
   "outputs": [
    {
     "data": {
      "text/html": [
       "<div>\n",
       "<style scoped>\n",
       "    .dataframe tbody tr th:only-of-type {\n",
       "        vertical-align: middle;\n",
       "    }\n",
       "\n",
       "    .dataframe tbody tr th {\n",
       "        vertical-align: top;\n",
       "    }\n",
       "\n",
       "    .dataframe thead th {\n",
       "        text-align: right;\n",
       "    }\n",
       "</style>\n",
       "<table border=\"1\" class=\"dataframe\">\n",
       "  <thead>\n",
       "    <tr style=\"text-align: right;\">\n",
       "      <th></th>\n",
       "      <th>Year</th>\n",
       "      <th>Tons</th>\n",
       "      <th>MDollars</th>\n",
       "    </tr>\n",
       "  </thead>\n",
       "  <tbody>\n",
       "    <tr>\n",
       "      <th>1</th>\n",
       "      <td>1396</td>\n",
       "      <td>692.500</td>\n",
       "      <td>3.291250</td>\n",
       "    </tr>\n",
       "    <tr>\n",
       "      <th>2</th>\n",
       "      <td>1397</td>\n",
       "      <td>5350.445</td>\n",
       "      <td>26.687977</td>\n",
       "    </tr>\n",
       "    <tr>\n",
       "      <th>3</th>\n",
       "      <td>1398</td>\n",
       "      <td>156.000</td>\n",
       "      <td>0.352108</td>\n",
       "    </tr>\n",
       "    <tr>\n",
       "      <th>4</th>\n",
       "      <td>1399</td>\n",
       "      <td>0.000</td>\n",
       "      <td>0.000000</td>\n",
       "    </tr>\n",
       "    <tr>\n",
       "      <th>5</th>\n",
       "      <td>1400</td>\n",
       "      <td>297.410</td>\n",
       "      <td>0.831646</td>\n",
       "    </tr>\n",
       "    <tr>\n",
       "      <th>6</th>\n",
       "      <td>1401</td>\n",
       "      <td>2752.772</td>\n",
       "      <td>8.098768</td>\n",
       "    </tr>\n",
       "  </tbody>\n",
       "</table>\n",
       "</div>"
      ],
      "text/plain": [
       "   Year      Tons   MDollars\n",
       "1  1396   692.500   3.291250\n",
       "2  1397  5350.445  26.687977\n",
       "3  1398   156.000   0.352108\n",
       "4  1399     0.000   0.000000\n",
       "5  1400   297.410   0.831646\n",
       "6  1401  2752.772   8.098768"
      ]
     },
     "execution_count": 20,
     "metadata": {},
     "output_type": "execute_result"
    }
   ],
   "source": [
    "Export_Series"
   ]
  },
  {
   "cell_type": "code",
   "execution_count": 17,
   "metadata": {},
   "outputs": [],
   "source": [
    "year = 1401\n",
    "Export = pd.read_excel(f\"{my_wd}/Data/Cleaned_Data/Y{year}Exports.xlsx\")\n",
    "Export['HS4'] = Export['Tcode']//10000\n",
    "\n",
    "Export_Meat = Export[Export['HS4']==104]\n",
    "\n",
    "Export_Meat_Country = Export_Meat[(Export_Meat['Country']==\"عمان\") |(Export_Meat['Country']==\"قطر\")|(Export_Meat['Country']==\"كويت\")]\n",
    "i=i+1\n",
    "#Export_Data = pd.DataFrame({\"Year\": year, \"Tons\": Export_Meat_Country['Weight'].sum()/1000}, index=[i])\n",
    "#Export_Series = pd.concat([Export_Series,Export_Data])"
   ]
  },
  {
   "cell_type": "code",
   "execution_count": 27,
   "metadata": {},
   "outputs": [
    {
     "name": "stderr",
     "output_type": "stream",
     "text": [
      "C:\\Users\\msbirjandi\\AppData\\Local\\Temp\\ipykernel_1936\\2790818104.py:1: SettingWithCopyWarning: \n",
      "A value is trying to be set on a copy of a slice from a DataFrame.\n",
      "Try using .loc[row_indexer,col_indexer] = value instead\n",
      "\n",
      "See the caveats in the documentation: https://pandas.pydata.org/pandas-docs/stable/user_guide/indexing.html#returning-a-view-versus-a-copy\n",
      "  Export_Meat_Country['Price'] = Export_Meat_Country['Dollars']/ Export_Meat_Country['Weight']\n"
     ]
    },
    {
     "data": {
      "text/plain": [
       "2752772"
      ]
     },
     "execution_count": 27,
     "metadata": {},
     "output_type": "execute_result"
    }
   ],
   "source": [
    "Export_Meat_Country['Price'] = Export_Meat_Country['Dollars']/ Export_Meat_Country['Weight']\n",
    "\n",
    "Export_Meat_Country['Weight'].sum()"
   ]
  }
 ],
 "metadata": {
  "kernelspec": {
   "display_name": "Python 3",
   "language": "python",
   "name": "python3"
  },
  "language_info": {
   "codemirror_mode": {
    "name": "ipython",
    "version": 3
   },
   "file_extension": ".py",
   "mimetype": "text/x-python",
   "name": "python",
   "nbconvert_exporter": "python",
   "pygments_lexer": "ipython3",
   "version": "3.11.3"
  }
 },
 "nbformat": 4,
 "nbformat_minor": 2
}
