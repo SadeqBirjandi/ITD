{
 "cells": [
  {
   "cell_type": "code",
   "execution_count": 2,
   "metadata": {},
   "outputs": [],
   "source": [
    "import pandas as pd\n",
    "import numpy as np\n",
    "import os\n",
    "import openpyxl"
   ]
  },
  {
   "cell_type": "code",
   "execution_count": 3,
   "metadata": {},
   "outputs": [],
   "source": [
    "new_directory = \"C:\\TradeGroup\"\n",
    "os.chdir(new_directory)\n",
    "my_wd = new_directory"
   ]
  },
  {
   "cell_type": "code",
   "execution_count": 4,
   "metadata": {},
   "outputs": [],
   "source": [
    "def generate_HS2(tcode):\n",
    "    tcode=str(tcode)\n",
    "    if len(tcode)==7 or len(tcode)==5 or len(tcode)==9:\n",
    "        return tcode[0]\n",
    "    elif len(tcode)==8 or len(tcode)==6 or len(tcode)==10:\n",
    "        return tcode[:2]"
   ]
  },
  {
   "cell_type": "code",
   "execution_count": 21,
   "metadata": {},
   "outputs": [],
   "source": [
    "baseyear=1380\n",
    "for year in range(1380,1403):\n",
    "    exports_file_path = f\"{my_wd}/Data/Cleaned_Data/Y{year}Exports.xlsx\"\n",
    "    imports_file_path = f\"{my_wd}/Data/Cleaned_Data/Y{year}Imports.xlsx\"\n",
    "    #if year!=1394:\n",
    "    Exports = pd.read_excel(exports_file_path)\n",
    "    Imports = pd.read_excel(imports_file_path)\n",
    "\n",
    "    Imports.dropna(subset='Tcode',inplace=True)\n",
    "    Exports.dropna(subset=\"Tcode\",inplace=True)\n",
    "\n",
    "    Imports['HS2']=Imports['Tcode'].astype('int64').apply(generate_HS2)\n",
    "    Exports['HS2']=Exports['Tcode'].astype('int64').apply(generate_HS2)\n",
    "\n",
    "    Imports.replace(\"ي\",'ی',inplace=True)\n",
    "    Imp_China=Imports[Imports['Country']==\"چين\"]\n",
    "\n",
    "    Exports.replace(\"ي\",'ی',inplace=True)\n",
    "    Exp_China=Exports[Exports['Country']==\"چين\"]\n",
    "\n",
    "    Imp_China_HS2=Imp_China.groupby('HS2').agg(\n",
    "        Dollars = ('Dollars','sum')\n",
    "        ).reset_index()\n",
    "    \n",
    "\n",
    "\n",
    "    Exp_China_HS2=Exp_China.groupby('HS2').agg(\n",
    "        Dollars = ('Dollars','sum')\n",
    "        ).reset_index() \n",
    "\n",
    "    Imp_China_HS2.rename(columns={\"Dollars\": f'Imp_{year}_D'},inplace=True)\n",
    "    Exp_China_HS2.rename(columns={\"Dollars\": f'Exp_{year}_D'},inplace=True)\n",
    "\n",
    "    if year == baseyear:\n",
    "        Imp_China_HS2_Series=Imp_China_HS2\n",
    "        Exp_China_HS2_Series=Exp_China_HS2\n",
    "    else:\n",
    "        Imp_China_HS2_Series=Imp_China_HS2_Series.merge(Imp_China_HS2,on='HS2',how='outer')\n",
    "        Exp_China_HS2_Series=Exp_China_HS2_Series.merge(Exp_China_HS2,on='HS2',how='outer')       \n",
    "       \n",
    "   \n"
   ]
  },
  {
   "cell_type": "code",
   "execution_count": 26,
   "metadata": {},
   "outputs": [],
   "source": [
    "Imp_China_HS2_Series.fillna(0,inplace=True)\n",
    "Exp_China_HS2_Series.fillna(0,inplace=True)\n",
    "\n",
    "Exp_China_HS2_Series.to_excel(f'{my_wd}\\Data\\Indices\\IranExpChina.xlsx',index=False)\n",
    "Imp_China_HS2_Series.to_excel(f'{my_wd}\\Data\\Indices\\IranImpChina.xlsx',index=False)\n",
    "\n",
    "\n"
   ]
  }
 ],
 "metadata": {
  "kernelspec": {
   "display_name": "Python 3",
   "language": "python",
   "name": "python3"
  },
  "language_info": {
   "codemirror_mode": {
    "name": "ipython",
    "version": 3
   },
   "file_extension": ".py",
   "mimetype": "text/x-python",
   "name": "python",
   "nbconvert_exporter": "python",
   "pygments_lexer": "ipython3",
   "version": "3.11.3"
  }
 },
 "nbformat": 4,
 "nbformat_minor": 2
}
