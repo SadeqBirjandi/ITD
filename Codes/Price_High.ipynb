{
 "cells": [
  {
   "cell_type": "code",
   "execution_count": 1,
   "metadata": {},
   "outputs": [],
   "source": [
    "import pandas as pd\n",
    "import numpy as np\n",
    "import os"
   ]
  },
  {
   "cell_type": "code",
   "execution_count": 2,
   "metadata": {},
   "outputs": [],
   "source": [
    "os.chdir(\"C:\\TradeGroup\")\n",
    "my_wd = os.getcwd()\n",
    "new_directory = my_wd"
   ]
  },
  {
   "cell_type": "code",
   "execution_count": 10,
   "metadata": {},
   "outputs": [],
   "source": [
    "exports_file_path_1402 = f\"{my_wd}/Data/Cleaned_Data/Y1402Exports.xlsx\"\n",
    "Exports_1402 = pd.read_excel(exports_file_path_1402)\n",
    "\n",
    "Exports_1402['HS6']= Exports_1402['Tcode']//100\n",
    "\n",
    "Exports_1402_HS8 = Exports_1402.groupby('Tcode').agg(\n",
    "    Dollars_1402 = ('Dollars','sum'),\n",
    "    Weight_1402 = ('Weight','sum')\n",
    ").reset_index()\n",
    "\n",
    "Exports_1402_HS8['Price_1402']=Exports_1402_HS8['Dollars_1402']/Exports_1402_HS8['Weight_1402']\n",
    "\n",
    "\n",
    "Exports_1402_HS6 = Exports_1402.groupby('HS6').agg(\n",
    "    Dollars_1402 = ('Dollars','sum'),\n",
    "    Weight_1402 = ('Weight','sum')\n",
    ").reset_index()\n",
    "\n",
    "Exports_1402_HS6['Price_1402']=Exports_1402_HS6['Dollars_1402']/Exports_1402_HS6['Weight_1402']\n",
    "\n",
    "\n",
    "HS8_Uniques_500 = Exports_1402_HS8.loc[Exports_1402_HS8['Dollars_1402']>500000000, 'Tcode'].unique()\n",
    "HS6_Uniques_500 = Exports_1402_HS6.loc[Exports_1402_HS6['Dollars_1402']>500000000, 'HS6'].unique()\n",
    "\n",
    "\n",
    "\n",
    "HS8_Uniques_100 = Exports_1402_HS8.loc[Exports_1402_HS8['Dollars_1402'] > 100000000, 'Tcode'].unique()\n",
    "HS6_Uniques_100 = Exports_1402_HS6.loc[Exports_1402_HS6['Dollars_1402'] > 100000000, 'HS6'].unique()\n",
    "\n"
   ]
  },
  {
   "cell_type": "code",
   "execution_count": 30,
   "metadata": {},
   "outputs": [],
   "source": [
    "exports_file_path_1401 = f\"{my_wd}/Data/Cleaned_Data/Y1401Exports.xlsx\"\n",
    "Exports_1401 = pd.read_excel(exports_file_path_1401)\n",
    "\n",
    "Exports_1401['HS6']= Exports_1401['Tcode']//100\n",
    "\n",
    "Exports_1401_HS8 = Exports_1401.groupby('Tcode').agg(\n",
    "    Dollars_1401 = ('Dollars','sum'),\n",
    "    Weight_1401 = ('Weight','sum')\n",
    ").reset_index()\n",
    "\n",
    "Exports_1401_HS8['Price_1401']=Exports_1401_HS8['Dollars_1401']/Exports_1401_HS8['Weight_1401']\n",
    "\n",
    "\n",
    "Exports_1401_HS6 = Exports_1401.groupby('HS6').agg(\n",
    "    Dollars_1401 = ('Dollars','sum'),\n",
    "    Weight_1401 = ('Weight','sum')\n",
    ").reset_index()\n",
    "\n",
    "Exports_1401_HS6['Price_1401']=Exports_1401_HS6['Dollars_1401']/Exports_1401_HS6['Weight_1401']"
   ]
  },
  {
   "cell_type": "code",
   "execution_count": 31,
   "metadata": {},
   "outputs": [],
   "source": [
    "exports_file_path_1403 = f\"{my_wd}/Data/Cleaned_Data/Y1403Exports.xlsx\"\n",
    "Exports_1403 = pd.read_excel(exports_file_path_1403)\n",
    "\n",
    "Exports_1403['HS6']= Exports_1403['Tcode']//100\n",
    "\n",
    "Exports_1403_HS8 = Exports_1403.groupby('Tcode').agg(\n",
    "    Dollars_1403 = ('Dollars','sum'),\n",
    "    Weight_1403 = ('Weight','sum')\n",
    ").reset_index()\n",
    "\n",
    "Exports_1403_HS8['Price_1403']=Exports_1403_HS8['Dollars_1403']/Exports_1403_HS8['Weight_1403']\n",
    "\n",
    "\n",
    "Exports_1403_HS6 = Exports_1403.groupby('HS6').agg(\n",
    "    Dollars_1403 = ('Dollars','sum'),\n",
    "    Weight_1403 = ('Weight','sum')\n",
    ").reset_index()\n",
    "\n",
    "Exports_1403_HS6['Price_1403']=Exports_1403_HS6['Dollars_1403']/Exports_1403_HS6['Weight_1403']"
   ]
  },
  {
   "cell_type": "code",
   "execution_count": 32,
   "metadata": {},
   "outputs": [],
   "source": [
    "Exports_1402_HS8_500 = Exports_1402_HS8[Exports_1402_HS8['Tcode'].isin(HS8_Uniques_500)]\n",
    "Exports_1402_HS6_500 = Exports_1402_HS6[Exports_1402_HS6['HS6'].isin(HS6_Uniques_500)]\n",
    "\n",
    "\n",
    "Exports_1401_HS8_500 = Exports_1401_HS8[Exports_1401_HS8['Tcode'].isin(HS8_Uniques_500)]\n",
    "Exports_1401_HS6_500 = Exports_1401_HS6[Exports_1401_HS6['HS6'].isin(HS6_Uniques_500)]\n",
    "\n",
    "\n",
    "\n",
    "Exports_1403_HS8_500 = Exports_1403_HS8[Exports_1403_HS8['Tcode'].isin(HS8_Uniques_500)]\n",
    "Exports_1403_HS6_500 = Exports_1403_HS6[Exports_1403_HS6['HS6'].isin(HS6_Uniques_500)]\n",
    "\n",
    "\n"
   ]
  },
  {
   "cell_type": "code",
   "execution_count": 33,
   "metadata": {},
   "outputs": [],
   "source": [
    "Exports_1402_HS8_100 = Exports_1402_HS8[Exports_1402_HS8['Tcode'].isin(HS8_Uniques_100)]\n",
    "Exports_1402_HS6_100 = Exports_1402_HS6[Exports_1402_HS6['HS6'].isin(HS6_Uniques_100)]\n",
    "\n",
    "\n",
    "Exports_1401_HS8_100 = Exports_1401_HS8[Exports_1401_HS8['Tcode'].isin(HS8_Uniques_100)]\n",
    "Exports_1401_HS6_100 = Exports_1401_HS6[Exports_1401_HS6['HS6'].isin(HS6_Uniques_100)]\n",
    "\n",
    "\n",
    "\n",
    "Exports_1403_HS8_100 = Exports_1403_HS8[Exports_1403_HS8['Tcode'].isin(HS8_Uniques_100)]\n",
    "Exports_1403_HS6_100 = Exports_1403_HS6[Exports_1403_HS6['HS6'].isin(HS6_Uniques_100)]"
   ]
  },
  {
   "cell_type": "code",
   "execution_count": 34,
   "metadata": {},
   "outputs": [],
   "source": [
    "All_HS8_500 = Exports_1401_HS8_500.merge(Exports_1402_HS8_500,on='Tcode',how='outer')\n",
    "All_HS8_500 = All_HS8_500.merge(Exports_1403_HS8_500,on='Tcode',how='outer')\n",
    "\n",
    "All_HS6_500 = Exports_1401_HS6_500.merge(Exports_1402_HS6_500,on='HS6',how='outer')\n",
    "All_HS6_500 = All_HS6_500.merge(Exports_1403_HS6_500,on='HS6',how='outer')"
   ]
  },
  {
   "cell_type": "code",
   "execution_count": 35,
   "metadata": {},
   "outputs": [],
   "source": [
    "All_HS8_100 = Exports_1401_HS8_100.merge(Exports_1402_HS8_100,on='Tcode',how='outer')\n",
    "All_HS8_100 = All_HS8_100.merge(Exports_1403_HS8_100,on='Tcode',how='outer')\n",
    "\n",
    "All_HS6_100 = Exports_1401_HS6_100.merge(Exports_1402_HS6_100,on='HS6',how='outer')\n",
    "All_HS6_100 = All_HS6_100.merge(Exports_1403_HS6_100,on='HS6',how='outer')\n"
   ]
  },
  {
   "cell_type": "code",
   "execution_count": 36,
   "metadata": {},
   "outputs": [],
   "source": [
    "All_HS8_500.to_excel(f'C:/TradeGroup/Reports/3 ماه اول/PriceHS8_500.xlsx',index=False)\n",
    "All_HS6_500.to_excel(f'C:/TradeGroup/Reports/3 ماه اول/PriceHS6_500.xlsx',index=False)\n",
    "\n",
    "\n",
    "All_HS8_100.to_excel(f'C:/TradeGroup/Reports/3 ماه اول/PriceHS8_100.xlsx',index=False)\n",
    "All_HS6_100.to_excel(f'C:/TradeGroup/Reports/3 ماه اول/PriceHS6_100.xlsx',index=False)"
   ]
  },
  {
   "cell_type": "code",
   "execution_count": null,
   "metadata": {},
   "outputs": [],
   "source": []
  }
 ],
 "metadata": {
  "kernelspec": {
   "display_name": "Python 3",
   "language": "python",
   "name": "python3"
  },
  "language_info": {
   "codemirror_mode": {
    "name": "ipython",
    "version": 3
   },
   "file_extension": ".py",
   "mimetype": "text/x-python",
   "name": "python",
   "nbconvert_exporter": "python",
   "pygments_lexer": "ipython3",
   "version": "3.11.3"
  }
 },
 "nbformat": 4,
 "nbformat_minor": 2
}
