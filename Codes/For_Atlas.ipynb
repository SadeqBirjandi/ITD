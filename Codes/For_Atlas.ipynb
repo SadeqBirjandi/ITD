{
 "cells": [
  {
   "cell_type": "code",
   "execution_count": 45,
   "metadata": {},
   "outputs": [
    {
     "data": {
      "text/plain": [
       "'c:\\\\TradeGroup'"
      ]
     },
     "execution_count": 45,
     "metadata": {},
     "output_type": "execute_result"
    }
   ],
   "source": [
    "import numpy as np\n",
    "import pandas as pd\n",
    "import os\n",
    "os.chdir('c:/TradeGroup')\n",
    "my_wd = os.getcwd()\n",
    "new_directory = my_wd\n",
    "new_directory"
   ]
  },
  {
   "cell_type": "code",
   "execution_count": 46,
   "metadata": {},
   "outputs": [
    {
     "name": "stdout",
     "output_type": "stream",
     "text": [
      "1401\n"
     ]
    }
   ],
   "source": [
    "year=1401 \n",
    "Harvard=pd.read_excel(f'{my_wd}/HSs_Harvard.xlsx')   \n",
    "exports_path = os.path.join(my_wd, f\"Data/Cleaned_Data/Y{year}Exports.xlsx\")\n",
    "imports_path = os.path.join(my_wd, f\"Data/Cleaned_Data/Y{year}Imports.xlsx\")\n",
    "\n",
    "print(year)\n",
    "\n",
    "Exports = pd.read_excel(exports_path)\n",
    "Imports = pd.read_excel(imports_path)\n",
    "\n",
    "\n",
    "Imports['HS4']=Imports['Tcode']//10000\n",
    "Exports['HS4']=Exports['Tcode']//10000"
   ]
  },
  {
   "cell_type": "code",
   "execution_count": 47,
   "metadata": {},
   "outputs": [],
   "source": [
    "#12 month\n",
    "\n",
    "Imports_Harvard = Imports.merge(Harvard,how='outer',on=['HS4'])\n",
    "#Harvard\n",
    "#Imports\n",
    "Imports_Harvard_Agg_1401_12 = Imports_Harvard.groupby('HS4').agg(\n",
    "    Dollars=('Dollars','sum'),\n",
    "    HS2=('HS2','first'),\n",
    "    First_F=('First_F','first'),\n",
    "    First_E= ('First_E','first'),\n",
    "    Second_F= ('Second_F','first'),\n",
    "    Second_E= ('Second_E','first')\n",
    "\n",
    ").reset_index()\n",
    "\n",
    "\n",
    "Exports_Harvard = Exports.merge(Harvard,how='outer',on=['HS4'])\n",
    "#Harvard\n",
    "#Imports\n",
    "Exports_Harvard_Agg_1401_12 = Exports_Harvard.groupby('HS4').agg(\n",
    "    Dollars=('Dollars','sum'),\n",
    "    HS2=('HS2','first'),\n",
    "    First_F=('First_F','first'),\n",
    "    First_E= ('First_E','first'),\n",
    "    Second_F= ('Second_F','first'),\n",
    "    Second_E= ('Second_E','first')\n",
    "\n",
    ").reset_index()"
   ]
  },
  {
   "cell_type": "code",
   "execution_count": 48,
   "metadata": {},
   "outputs": [],
   "source": [
    "#12 month\n",
    "Imports=Imports[Imports['Month']<12]\n",
    "Imports_Harvard = Imports.merge(Harvard,how='outer',on=['HS4'])\n",
    "#Harvard\n",
    "#Imports\n",
    "Imports_Harvard_Agg_1401_11 = Imports_Harvard.groupby('HS4').agg(\n",
    "    Dollars=('Dollars','sum'),\n",
    "    HS2=('HS2','first'),\n",
    "    First_F=('First_F','first'),\n",
    "    First_E= ('First_E','first'),\n",
    "    Second_F= ('Second_F','first'),\n",
    "    Second_E= ('Second_E','first')\n",
    "\n",
    ").reset_index()\n",
    "\n",
    "Exports=Exports[Exports['Month']<12]\n",
    "Exports_Harvard = Exports.merge(Harvard,how='outer',on=['HS4'])\n",
    "#Harvard\n",
    "#Imports\n",
    "Exports_Harvard_Agg_1401_11 = Exports_Harvard.groupby('HS4').agg(\n",
    "    Dollars=('Dollars','sum'),\n",
    "    HS2=('HS2','first'),\n",
    "    First_F=('First_F','first'),\n",
    "    First_E= ('First_E','first'),\n",
    "    Second_F= ('Second_F','first'),\n",
    "    Second_E= ('Second_E','first')\n",
    "\n",
    ").reset_index()"
   ]
  },
  {
   "cell_type": "code",
   "execution_count": 49,
   "metadata": {},
   "outputs": [
    {
     "name": "stdout",
     "output_type": "stream",
     "text": [
      "1402\n"
     ]
    }
   ],
   "source": [
    "year=1402\n",
    "Harvard=pd.read_excel(f'{my_wd}/HSs_Harvard.xlsx')   \n",
    "exports_path = os.path.join(my_wd, f\"Data/Cleaned_Data/Y{year}Exports.xlsx\")\n",
    "imports_path = os.path.join(my_wd, f\"Data/Cleaned_Data/Y{year}Imports.xlsx\")\n",
    "\n",
    "print(year)\n",
    "\n",
    "Exports = pd.read_excel(exports_path)\n",
    "Imports = pd.read_excel(imports_path)\n",
    "\n",
    "\n",
    "Imports['HS4']=Imports['Tcode']//10000\n",
    "Exports['HS4']=Exports['Tcode']//10000"
   ]
  },
  {
   "cell_type": "code",
   "execution_count": 50,
   "metadata": {},
   "outputs": [],
   "source": [
    "Imports_Harvard = Imports.merge(Harvard,how='outer',on=['HS4'])\n",
    "#Harvard\n",
    "#Imports\n",
    "Imports_Harvard_Agg_1402_11 = Imports_Harvard.groupby('HS4').agg(\n",
    "    Dollars=('Dollars','sum'),\n",
    "    HS2=('HS2','first'),\n",
    "    First_F=('First_F','first'),\n",
    "    First_E= ('First_E','first'),\n",
    "    Second_F= ('Second_F','first'),\n",
    "    Second_E= ('Second_E','first')\n",
    "\n",
    ").reset_index()\n",
    "\n",
    "\n",
    "Exports_Harvard = Exports.merge(Harvard,how='outer',on=['HS4'])\n",
    "#Harvard\n",
    "#Imports\n",
    "Exports_Harvard_Agg_1402_11 = Exports_Harvard.groupby('HS4').agg(\n",
    "    Dollars=('Dollars','sum'),\n",
    "    HS2=('HS2','first'),\n",
    "    First_F=('First_F','first'),\n",
    "    First_E= ('First_E','first'),\n",
    "    Second_F= ('Second_F','first'),\n",
    "    Second_E= ('Second_E','first')\n",
    "\n",
    ").reset_index()"
   ]
  },
  {
   "cell_type": "code",
   "execution_count": 51,
   "metadata": {},
   "outputs": [],
   "source": [
    "Imports_Harvard = Imports.merge(Harvard,how='outer',on=['HS4'])\n",
    "#Harvard\n",
    "#Imports\n",
    "Imports_Harvard_Agg_1402_12 = Imports_Harvard.groupby('HS4').agg(\n",
    "    Dollars=('Dollars','sum'),\n",
    "    HS2=('HS2','first'),\n",
    "    First_F=('First_F','first'),\n",
    "    First_E= ('First_E','first'),\n",
    "    Second_F= ('Second_F','first'),\n",
    "    Second_E= ('Second_E','first')\n",
    "\n",
    ").reset_index()\n",
    "\n",
    "\n",
    "Exports_Harvard = Exports.merge(Harvard,how='outer',on=['HS4'])\n",
    "#Harvard\n",
    "#Imports\n",
    "Exports_Harvard_Agg_1402_12 = Exports_Harvard.groupby('HS4').agg(\n",
    "    Dollars=('Dollars','sum'),\n",
    "    HS2=('HS2','first'),\n",
    "    First_F=('First_F','first'),\n",
    "    First_E= ('First_E','first'),\n",
    "    Second_F= ('Second_F','first'),\n",
    "    Second_E= ('Second_E','first')\n",
    "\n",
    ").reset_index()\n",
    "\n",
    "Imports_Harvard_Agg_1402_12['Dollars'] = Imports_Harvard_Agg_1402_12['Dollars']*12/11\n",
    "Exports_Harvard_Agg_1402_12['Dollars'] = Exports_Harvard_Agg_1402_12['Dollars']*12/11\n",
    "\n"
   ]
  },
  {
   "cell_type": "code",
   "execution_count": 52,
   "metadata": {},
   "outputs": [],
   "source": [
    "Imports_Harvard_Agg_1401_11.to_excel(f'{new_directory}/Reports/Imports_Harvard_Agg_1401_11.xlsx', index=False)\n",
    "Imports_Harvard_Agg_1401_12.to_excel(f'{new_directory}/Reports/Imports_Harvard_Agg_1401_12.xlsx', index=False)\n",
    "\n",
    "Imports_Harvard_Agg_1402_11.to_excel(f'{new_directory}/Reports/Imports_Harvard_Agg_1402_11.xlsx', index=False)\n",
    "Imports_Harvard_Agg_1402_12.to_excel(f'{new_directory}/Reports/Imports_Harvard_Agg_1402_12.xlsx', index=False)\n",
    "\n",
    "\n"
   ]
  },
  {
   "cell_type": "code",
   "execution_count": 53,
   "metadata": {},
   "outputs": [],
   "source": [
    "Exports_Harvard_Agg_1401_11.to_excel(f'{new_directory}/Reports/Exports_Harvard_Agg_1401_11.xlsx', index=False)\n",
    "Exports_Harvard_Agg_1401_12.to_excel(f'{new_directory}/Reports/Exports_Harvard_Agg_1401_12.xlsx', index=False)\n",
    "\n",
    "Exports_Harvard_Agg_1402_11.to_excel(f'{new_directory}/Reports/Exports_Harvard_Agg_1402_11.xlsx', index=False)\n",
    "Exports_Harvard_Agg_1402_12.to_excel(f'{new_directory}/Reports/Exports_Harvard_Agg_1402_12.xlsx', index=False)\n"
   ]
  }
 ],
 "metadata": {
  "kernelspec": {
   "display_name": "Python 3",
   "language": "python",
   "name": "python3"
  },
  "language_info": {
   "codemirror_mode": {
    "name": "ipython",
    "version": 3
   },
   "file_extension": ".py",
   "mimetype": "text/x-python",
   "name": "python",
   "nbconvert_exporter": "python",
   "pygments_lexer": "ipython3",
   "version": "3.11.3"
  }
 },
 "nbformat": 4,
 "nbformat_minor": 2
}
