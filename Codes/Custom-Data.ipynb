{
 "cells": [
  {
   "cell_type": "code",
   "execution_count": 1,
   "metadata": {},
   "outputs": [],
   "source": [
    "import os\n",
    "import pandas as pd\n",
    "\n",
    "# Set the working directory\n",
    "os.chdir(\"C:\\TradeGroup\")\n",
    "my_wd = os.getcwd()\n",
    "new_directory = my_wd"
   ]
  },
  {
   "cell_type": "code",
   "execution_count": 2,
   "metadata": {},
   "outputs": [
    {
     "name": "stdout",
     "output_type": "stream",
     "text": [
      "Already Exists\n"
     ]
    }
   ],
   "source": [
    "def create_folder(folder_path):\n",
    "    if not os.path.exists(f'{new_directory}/{folder_path}'):\n",
    "        os.makedirs(f'{new_directory}/{folder_path}')\n",
    "    else:\n",
    "        print(f'Already Exists')\n",
    "\n",
    "create_folder('Data/Custom_Data')"
   ]
  },
  {
   "cell_type": "code",
   "execution_count": 5,
   "metadata": {},
   "outputs": [
    {
     "name": "stdout",
     "output_type": "stream",
     "text": [
      "Year: 1402\n",
      "Exports Columns: Index(['Year', 'Month', 'Custom', 'Country', 'Tcode', 'Tdesc', 'Weight',\n",
      "       'Rials', 'Dollars'],\n",
      "      dtype='object')\n",
      "Imports Columns: Index(['Year', 'Month', 'Custom', 'Country', 'Tcode', 'Tdesc', 'Weight',\n",
      "       'Rials', 'Dollars'],\n",
      "      dtype='object')\n"
     ]
    }
   ],
   "source": [
    "\n",
    "for year in range(1402, 1403):\n",
    "    # Clear existing variables\n",
    "    try:\n",
    "        del Custom_Exports\n",
    "    except NameError:\n",
    "        pass\n",
    "\n",
    "    try:\n",
    "        del Custom_Imports\n",
    "    except NameError:\n",
    "        pass\n",
    "\n",
    "    # Load data\n",
    "    exports_path = os.path.join(my_wd, f\"Data/Cleaned_Data/Y{year}Exports.xlsx\")\n",
    "    imports_path = os.path.join(my_wd, f\"Data/Cleaned_Data/Y{year}Imports.xlsx\")\n",
    "\n",
    "    Custom_Exports = pd.read_excel(exports_path)\n",
    "    Custom_Imports = pd.read_excel(imports_path)\n",
    "\n",
    "    print(f\"Year: {year}\")\n",
    "    print(\"Exports Columns:\", Custom_Exports.columns)\n",
    "    print(\"Imports Columns:\", Custom_Imports.columns)\n",
    "\n",
    "    Exp_Columns = Custom_Exports.columns\n",
    "    Imp_Columns = Custom_Imports.columns\n",
    "\n",
    "    if \"Custom\" in Exp_Columns:\n",
    "        Custom_Exports = Custom_Exports.groupby(\"Custom\").agg(\n",
    "            Weight_Exp=(\"Weight\", \"sum\"),\n",
    "            Rials_Exp=(\"Rials\", \"sum\"),\n",
    "            Dollars_Exp=(\"Dollars\", \"sum\")\n",
    "        ).reset_index()\n",
    "    else:\n",
    "        print(\"Warning: 'Custom' column not found in Custom_Exports DataFrame.\")\n",
    "        print(year)\n",
    "\n",
    "    if \"Custom\" in Imp_Columns:\n",
    "        Custom_Imports = Custom_Imports.groupby(\"Custom\").agg(\n",
    "            Weight_Imp=(\"Weight\", \"sum\"),\n",
    "            Rials_Imp=(\"Rials\", \"sum\"),\n",
    "            Dollars_Imp=(\"Dollars\", \"sum\")\n",
    "        ).reset_index()\n",
    "    else:\n",
    "        print(\"Warning: 'Custom' column not found in Custom_Imports DataFrame.\")\n",
    "        print(year)\n",
    "\n",
    "    if \"Custom_Exports\" in locals() and \"Custom_Imports\" in locals():\n",
    "        # Merge dataframes\n",
    "        try:\n",
    "            Custom_Trade = pd.merge(Custom_Exports, Custom_Imports, on=\"Custom\", how=\"outer\").fillna(0)\n",
    "            Custom_Trade[\"Year\"] = year\n",
    "\n",
    "            \n",
    "            custom_trade_path = os.path.join(my_wd, f\"Data/Custom_Data/Y{year}CustomTrade.xlsx\")\n",
    "            Custom_Trade.to_excel(custom_trade_path, index=False)\n",
    "        except KeyError:\n",
    "            print(year)\n",
    "            print(\"Error: 'Custom' column not found in either Custom_Exports or Custom_Imports DataFrames.\")"
   ]
  }
 ],
 "metadata": {
  "kernelspec": {
   "display_name": "Python 3",
   "language": "python",
   "name": "python3"
  },
  "language_info": {
   "codemirror_mode": {
    "name": "ipython",
    "version": 3
   },
   "file_extension": ".py",
   "mimetype": "text/x-python",
   "name": "python",
   "nbconvert_exporter": "python",
   "pygments_lexer": "ipython3",
   "version": "3.11.3"
  },
  "orig_nbformat": 4
 },
 "nbformat": 4,
 "nbformat_minor": 2
}
