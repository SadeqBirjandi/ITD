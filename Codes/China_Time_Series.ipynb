{
 "cells": [
  {
   "cell_type": "code",
   "execution_count": 1,
   "metadata": {},
   "outputs": [],
   "source": [
    "import pandas as pd\n",
    "import numpy as np\n",
    "import os\n",
    "import openpyxl"
   ]
  },
  {
   "cell_type": "code",
   "execution_count": 2,
   "metadata": {},
   "outputs": [],
   "source": [
    "new_directory = \"C:\\TradeGroup\"\n",
    "os.chdir(new_directory)\n",
    "my_wd = new_directory"
   ]
  },
  {
   "cell_type": "code",
   "execution_count": 3,
   "metadata": {},
   "outputs": [
    {
     "name": "stdout",
     "output_type": "stream",
     "text": [
      "Already Exists\n"
     ]
    }
   ],
   "source": [
    "def create_folder(folder_path):\n",
    "    if not os.path.exists(f'{new_directory}/{folder_path}'):\n",
    "        os.makedirs(f'{new_directory}/{folder_path}')\n",
    "    else:\n",
    "        print(f'Already Exists')\n",
    "\n",
    "create_folder('Data/Country_Data')"
   ]
  },
  {
   "cell_type": "code",
   "execution_count": 30,
   "metadata": {},
   "outputs": [
    {
     "name": "stderr",
     "output_type": "stream",
     "text": [
      "C:\\Users\\msbirjandi\\AppData\\Local\\Temp\\ipykernel_5904\\4030410836.py:7: FutureWarning: Calling float on a single element Series is deprecated and will raise a TypeError in the future. Use float(ser.iloc[0]) instead\n",
      "  China_df.loc[China_df['Trade']==\"Import\",f'Y{year}']= float(data_read[data_read['Country']==\"چين\"]['Dollars_Imp'])\n",
      "C:\\Users\\msbirjandi\\AppData\\Local\\Temp\\ipykernel_5904\\4030410836.py:8: FutureWarning: Calling float on a single element Series is deprecated and will raise a TypeError in the future. Use float(ser.iloc[0]) instead\n",
      "  China_df.loc[China_df['Trade']==\"Export\",f'Y{year}']= float(data_read[data_read['Country']==\"چين\"]['Dollars_Exp'])\n",
      "C:\\Users\\msbirjandi\\AppData\\Local\\Temp\\ipykernel_5904\\4030410836.py:9: FutureWarning: Calling float on a single element Series is deprecated and will raise a TypeError in the future. Use float(ser.iloc[0]) instead\n",
      "  China_df.loc[China_df['Trade']==\"Trade Balance\",f'Y{year}']= float(China_df.loc[China_df['Trade']==\"Export\",f'Y{year}'])-float(China_df.loc[China_df['Trade']==\"Import\",f'Y{year}'])\n",
      "C:\\Users\\msbirjandi\\AppData\\Local\\Temp\\ipykernel_5904\\4030410836.py:7: FutureWarning: Calling float on a single element Series is deprecated and will raise a TypeError in the future. Use float(ser.iloc[0]) instead\n",
      "  China_df.loc[China_df['Trade']==\"Import\",f'Y{year}']= float(data_read[data_read['Country']==\"چين\"]['Dollars_Imp'])\n",
      "C:\\Users\\msbirjandi\\AppData\\Local\\Temp\\ipykernel_5904\\4030410836.py:8: FutureWarning: Calling float on a single element Series is deprecated and will raise a TypeError in the future. Use float(ser.iloc[0]) instead\n",
      "  China_df.loc[China_df['Trade']==\"Export\",f'Y{year}']= float(data_read[data_read['Country']==\"چين\"]['Dollars_Exp'])\n",
      "C:\\Users\\msbirjandi\\AppData\\Local\\Temp\\ipykernel_5904\\4030410836.py:9: FutureWarning: Calling float on a single element Series is deprecated and will raise a TypeError in the future. Use float(ser.iloc[0]) instead\n",
      "  China_df.loc[China_df['Trade']==\"Trade Balance\",f'Y{year}']= float(China_df.loc[China_df['Trade']==\"Export\",f'Y{year}'])-float(China_df.loc[China_df['Trade']==\"Import\",f'Y{year}'])\n",
      "C:\\Users\\msbirjandi\\AppData\\Local\\Temp\\ipykernel_5904\\4030410836.py:7: FutureWarning: Calling float on a single element Series is deprecated and will raise a TypeError in the future. Use float(ser.iloc[0]) instead\n",
      "  China_df.loc[China_df['Trade']==\"Import\",f'Y{year}']= float(data_read[data_read['Country']==\"چين\"]['Dollars_Imp'])\n",
      "C:\\Users\\msbirjandi\\AppData\\Local\\Temp\\ipykernel_5904\\4030410836.py:8: FutureWarning: Calling float on a single element Series is deprecated and will raise a TypeError in the future. Use float(ser.iloc[0]) instead\n",
      "  China_df.loc[China_df['Trade']==\"Export\",f'Y{year}']= float(data_read[data_read['Country']==\"چين\"]['Dollars_Exp'])\n",
      "C:\\Users\\msbirjandi\\AppData\\Local\\Temp\\ipykernel_5904\\4030410836.py:9: FutureWarning: Calling float on a single element Series is deprecated and will raise a TypeError in the future. Use float(ser.iloc[0]) instead\n",
      "  China_df.loc[China_df['Trade']==\"Trade Balance\",f'Y{year}']= float(China_df.loc[China_df['Trade']==\"Export\",f'Y{year}'])-float(China_df.loc[China_df['Trade']==\"Import\",f'Y{year}'])\n",
      "C:\\Users\\msbirjandi\\AppData\\Local\\Temp\\ipykernel_5904\\4030410836.py:7: FutureWarning: Calling float on a single element Series is deprecated and will raise a TypeError in the future. Use float(ser.iloc[0]) instead\n",
      "  China_df.loc[China_df['Trade']==\"Import\",f'Y{year}']= float(data_read[data_read['Country']==\"چين\"]['Dollars_Imp'])\n",
      "C:\\Users\\msbirjandi\\AppData\\Local\\Temp\\ipykernel_5904\\4030410836.py:8: FutureWarning: Calling float on a single element Series is deprecated and will raise a TypeError in the future. Use float(ser.iloc[0]) instead\n",
      "  China_df.loc[China_df['Trade']==\"Export\",f'Y{year}']= float(data_read[data_read['Country']==\"چين\"]['Dollars_Exp'])\n",
      "C:\\Users\\msbirjandi\\AppData\\Local\\Temp\\ipykernel_5904\\4030410836.py:9: FutureWarning: Calling float on a single element Series is deprecated and will raise a TypeError in the future. Use float(ser.iloc[0]) instead\n",
      "  China_df.loc[China_df['Trade']==\"Trade Balance\",f'Y{year}']= float(China_df.loc[China_df['Trade']==\"Export\",f'Y{year}'])-float(China_df.loc[China_df['Trade']==\"Import\",f'Y{year}'])\n",
      "C:\\Users\\msbirjandi\\AppData\\Local\\Temp\\ipykernel_5904\\4030410836.py:7: FutureWarning: Calling float on a single element Series is deprecated and will raise a TypeError in the future. Use float(ser.iloc[0]) instead\n",
      "  China_df.loc[China_df['Trade']==\"Import\",f'Y{year}']= float(data_read[data_read['Country']==\"چين\"]['Dollars_Imp'])\n",
      "C:\\Users\\msbirjandi\\AppData\\Local\\Temp\\ipykernel_5904\\4030410836.py:8: FutureWarning: Calling float on a single element Series is deprecated and will raise a TypeError in the future. Use float(ser.iloc[0]) instead\n",
      "  China_df.loc[China_df['Trade']==\"Export\",f'Y{year}']= float(data_read[data_read['Country']==\"چين\"]['Dollars_Exp'])\n",
      "C:\\Users\\msbirjandi\\AppData\\Local\\Temp\\ipykernel_5904\\4030410836.py:9: FutureWarning: Calling float on a single element Series is deprecated and will raise a TypeError in the future. Use float(ser.iloc[0]) instead\n",
      "  China_df.loc[China_df['Trade']==\"Trade Balance\",f'Y{year}']= float(China_df.loc[China_df['Trade']==\"Export\",f'Y{year}'])-float(China_df.loc[China_df['Trade']==\"Import\",f'Y{year}'])\n",
      "C:\\Users\\msbirjandi\\AppData\\Local\\Temp\\ipykernel_5904\\4030410836.py:7: FutureWarning: Calling float on a single element Series is deprecated and will raise a TypeError in the future. Use float(ser.iloc[0]) instead\n",
      "  China_df.loc[China_df['Trade']==\"Import\",f'Y{year}']= float(data_read[data_read['Country']==\"چين\"]['Dollars_Imp'])\n",
      "C:\\Users\\msbirjandi\\AppData\\Local\\Temp\\ipykernel_5904\\4030410836.py:8: FutureWarning: Calling float on a single element Series is deprecated and will raise a TypeError in the future. Use float(ser.iloc[0]) instead\n",
      "  China_df.loc[China_df['Trade']==\"Export\",f'Y{year}']= float(data_read[data_read['Country']==\"چين\"]['Dollars_Exp'])\n",
      "C:\\Users\\msbirjandi\\AppData\\Local\\Temp\\ipykernel_5904\\4030410836.py:9: FutureWarning: Calling float on a single element Series is deprecated and will raise a TypeError in the future. Use float(ser.iloc[0]) instead\n",
      "  China_df.loc[China_df['Trade']==\"Trade Balance\",f'Y{year}']= float(China_df.loc[China_df['Trade']==\"Export\",f'Y{year}'])-float(China_df.loc[China_df['Trade']==\"Import\",f'Y{year}'])\n",
      "C:\\Users\\msbirjandi\\AppData\\Local\\Temp\\ipykernel_5904\\4030410836.py:7: FutureWarning: Calling float on a single element Series is deprecated and will raise a TypeError in the future. Use float(ser.iloc[0]) instead\n",
      "  China_df.loc[China_df['Trade']==\"Import\",f'Y{year}']= float(data_read[data_read['Country']==\"چين\"]['Dollars_Imp'])\n",
      "C:\\Users\\msbirjandi\\AppData\\Local\\Temp\\ipykernel_5904\\4030410836.py:8: FutureWarning: Calling float on a single element Series is deprecated and will raise a TypeError in the future. Use float(ser.iloc[0]) instead\n",
      "  China_df.loc[China_df['Trade']==\"Export\",f'Y{year}']= float(data_read[data_read['Country']==\"چين\"]['Dollars_Exp'])\n",
      "C:\\Users\\msbirjandi\\AppData\\Local\\Temp\\ipykernel_5904\\4030410836.py:9: FutureWarning: Calling float on a single element Series is deprecated and will raise a TypeError in the future. Use float(ser.iloc[0]) instead\n",
      "  China_df.loc[China_df['Trade']==\"Trade Balance\",f'Y{year}']= float(China_df.loc[China_df['Trade']==\"Export\",f'Y{year}'])-float(China_df.loc[China_df['Trade']==\"Import\",f'Y{year}'])\n",
      "C:\\Users\\msbirjandi\\AppData\\Local\\Temp\\ipykernel_5904\\4030410836.py:7: FutureWarning: Calling float on a single element Series is deprecated and will raise a TypeError in the future. Use float(ser.iloc[0]) instead\n",
      "  China_df.loc[China_df['Trade']==\"Import\",f'Y{year}']= float(data_read[data_read['Country']==\"چين\"]['Dollars_Imp'])\n",
      "C:\\Users\\msbirjandi\\AppData\\Local\\Temp\\ipykernel_5904\\4030410836.py:8: FutureWarning: Calling float on a single element Series is deprecated and will raise a TypeError in the future. Use float(ser.iloc[0]) instead\n",
      "  China_df.loc[China_df['Trade']==\"Export\",f'Y{year}']= float(data_read[data_read['Country']==\"چين\"]['Dollars_Exp'])\n",
      "C:\\Users\\msbirjandi\\AppData\\Local\\Temp\\ipykernel_5904\\4030410836.py:9: FutureWarning: Calling float on a single element Series is deprecated and will raise a TypeError in the future. Use float(ser.iloc[0]) instead\n",
      "  China_df.loc[China_df['Trade']==\"Trade Balance\",f'Y{year}']= float(China_df.loc[China_df['Trade']==\"Export\",f'Y{year}'])-float(China_df.loc[China_df['Trade']==\"Import\",f'Y{year}'])\n",
      "C:\\Users\\msbirjandi\\AppData\\Local\\Temp\\ipykernel_5904\\4030410836.py:7: FutureWarning: Calling float on a single element Series is deprecated and will raise a TypeError in the future. Use float(ser.iloc[0]) instead\n",
      "  China_df.loc[China_df['Trade']==\"Import\",f'Y{year}']= float(data_read[data_read['Country']==\"چين\"]['Dollars_Imp'])\n",
      "C:\\Users\\msbirjandi\\AppData\\Local\\Temp\\ipykernel_5904\\4030410836.py:8: FutureWarning: Calling float on a single element Series is deprecated and will raise a TypeError in the future. Use float(ser.iloc[0]) instead\n",
      "  China_df.loc[China_df['Trade']==\"Export\",f'Y{year}']= float(data_read[data_read['Country']==\"چين\"]['Dollars_Exp'])\n",
      "C:\\Users\\msbirjandi\\AppData\\Local\\Temp\\ipykernel_5904\\4030410836.py:9: FutureWarning: Calling float on a single element Series is deprecated and will raise a TypeError in the future. Use float(ser.iloc[0]) instead\n",
      "  China_df.loc[China_df['Trade']==\"Trade Balance\",f'Y{year}']= float(China_df.loc[China_df['Trade']==\"Export\",f'Y{year}'])-float(China_df.loc[China_df['Trade']==\"Import\",f'Y{year}'])\n",
      "C:\\Users\\msbirjandi\\AppData\\Local\\Temp\\ipykernel_5904\\4030410836.py:7: FutureWarning: Calling float on a single element Series is deprecated and will raise a TypeError in the future. Use float(ser.iloc[0]) instead\n",
      "  China_df.loc[China_df['Trade']==\"Import\",f'Y{year}']= float(data_read[data_read['Country']==\"چين\"]['Dollars_Imp'])\n",
      "C:\\Users\\msbirjandi\\AppData\\Local\\Temp\\ipykernel_5904\\4030410836.py:8: FutureWarning: Calling float on a single element Series is deprecated and will raise a TypeError in the future. Use float(ser.iloc[0]) instead\n",
      "  China_df.loc[China_df['Trade']==\"Export\",f'Y{year}']= float(data_read[data_read['Country']==\"چين\"]['Dollars_Exp'])\n",
      "C:\\Users\\msbirjandi\\AppData\\Local\\Temp\\ipykernel_5904\\4030410836.py:9: FutureWarning: Calling float on a single element Series is deprecated and will raise a TypeError in the future. Use float(ser.iloc[0]) instead\n",
      "  China_df.loc[China_df['Trade']==\"Trade Balance\",f'Y{year}']= float(China_df.loc[China_df['Trade']==\"Export\",f'Y{year}'])-float(China_df.loc[China_df['Trade']==\"Import\",f'Y{year}'])\n",
      "C:\\Users\\msbirjandi\\AppData\\Local\\Temp\\ipykernel_5904\\4030410836.py:7: FutureWarning: Calling float on a single element Series is deprecated and will raise a TypeError in the future. Use float(ser.iloc[0]) instead\n",
      "  China_df.loc[China_df['Trade']==\"Import\",f'Y{year}']= float(data_read[data_read['Country']==\"چين\"]['Dollars_Imp'])\n",
      "C:\\Users\\msbirjandi\\AppData\\Local\\Temp\\ipykernel_5904\\4030410836.py:8: FutureWarning: Calling float on a single element Series is deprecated and will raise a TypeError in the future. Use float(ser.iloc[0]) instead\n",
      "  China_df.loc[China_df['Trade']==\"Export\",f'Y{year}']= float(data_read[data_read['Country']==\"چين\"]['Dollars_Exp'])\n",
      "C:\\Users\\msbirjandi\\AppData\\Local\\Temp\\ipykernel_5904\\4030410836.py:9: FutureWarning: Calling float on a single element Series is deprecated and will raise a TypeError in the future. Use float(ser.iloc[0]) instead\n",
      "  China_df.loc[China_df['Trade']==\"Trade Balance\",f'Y{year}']= float(China_df.loc[China_df['Trade']==\"Export\",f'Y{year}'])-float(China_df.loc[China_df['Trade']==\"Import\",f'Y{year}'])\n",
      "C:\\Users\\msbirjandi\\AppData\\Local\\Temp\\ipykernel_5904\\4030410836.py:7: FutureWarning: Calling float on a single element Series is deprecated and will raise a TypeError in the future. Use float(ser.iloc[0]) instead\n",
      "  China_df.loc[China_df['Trade']==\"Import\",f'Y{year}']= float(data_read[data_read['Country']==\"چين\"]['Dollars_Imp'])\n",
      "C:\\Users\\msbirjandi\\AppData\\Local\\Temp\\ipykernel_5904\\4030410836.py:8: FutureWarning: Calling float on a single element Series is deprecated and will raise a TypeError in the future. Use float(ser.iloc[0]) instead\n",
      "  China_df.loc[China_df['Trade']==\"Export\",f'Y{year}']= float(data_read[data_read['Country']==\"چين\"]['Dollars_Exp'])\n",
      "C:\\Users\\msbirjandi\\AppData\\Local\\Temp\\ipykernel_5904\\4030410836.py:9: FutureWarning: Calling float on a single element Series is deprecated and will raise a TypeError in the future. Use float(ser.iloc[0]) instead\n",
      "  China_df.loc[China_df['Trade']==\"Trade Balance\",f'Y{year}']= float(China_df.loc[China_df['Trade']==\"Export\",f'Y{year}'])-float(China_df.loc[China_df['Trade']==\"Import\",f'Y{year}'])\n",
      "C:\\Users\\msbirjandi\\AppData\\Local\\Temp\\ipykernel_5904\\4030410836.py:7: FutureWarning: Calling float on a single element Series is deprecated and will raise a TypeError in the future. Use float(ser.iloc[0]) instead\n",
      "  China_df.loc[China_df['Trade']==\"Import\",f'Y{year}']= float(data_read[data_read['Country']==\"چين\"]['Dollars_Imp'])\n",
      "C:\\Users\\msbirjandi\\AppData\\Local\\Temp\\ipykernel_5904\\4030410836.py:8: FutureWarning: Calling float on a single element Series is deprecated and will raise a TypeError in the future. Use float(ser.iloc[0]) instead\n",
      "  China_df.loc[China_df['Trade']==\"Export\",f'Y{year}']= float(data_read[data_read['Country']==\"چين\"]['Dollars_Exp'])\n",
      "C:\\Users\\msbirjandi\\AppData\\Local\\Temp\\ipykernel_5904\\4030410836.py:9: FutureWarning: Calling float on a single element Series is deprecated and will raise a TypeError in the future. Use float(ser.iloc[0]) instead\n",
      "  China_df.loc[China_df['Trade']==\"Trade Balance\",f'Y{year}']= float(China_df.loc[China_df['Trade']==\"Export\",f'Y{year}'])-float(China_df.loc[China_df['Trade']==\"Import\",f'Y{year}'])\n",
      "C:\\Users\\msbirjandi\\AppData\\Local\\Temp\\ipykernel_5904\\4030410836.py:7: FutureWarning: Calling float on a single element Series is deprecated and will raise a TypeError in the future. Use float(ser.iloc[0]) instead\n",
      "  China_df.loc[China_df['Trade']==\"Import\",f'Y{year}']= float(data_read[data_read['Country']==\"چين\"]['Dollars_Imp'])\n",
      "C:\\Users\\msbirjandi\\AppData\\Local\\Temp\\ipykernel_5904\\4030410836.py:8: FutureWarning: Calling float on a single element Series is deprecated and will raise a TypeError in the future. Use float(ser.iloc[0]) instead\n",
      "  China_df.loc[China_df['Trade']==\"Export\",f'Y{year}']= float(data_read[data_read['Country']==\"چين\"]['Dollars_Exp'])\n",
      "C:\\Users\\msbirjandi\\AppData\\Local\\Temp\\ipykernel_5904\\4030410836.py:9: FutureWarning: Calling float on a single element Series is deprecated and will raise a TypeError in the future. Use float(ser.iloc[0]) instead\n",
      "  China_df.loc[China_df['Trade']==\"Trade Balance\",f'Y{year}']= float(China_df.loc[China_df['Trade']==\"Export\",f'Y{year}'])-float(China_df.loc[China_df['Trade']==\"Import\",f'Y{year}'])\n",
      "C:\\Users\\msbirjandi\\AppData\\Local\\Temp\\ipykernel_5904\\4030410836.py:7: FutureWarning: Calling float on a single element Series is deprecated and will raise a TypeError in the future. Use float(ser.iloc[0]) instead\n",
      "  China_df.loc[China_df['Trade']==\"Import\",f'Y{year}']= float(data_read[data_read['Country']==\"چين\"]['Dollars_Imp'])\n",
      "C:\\Users\\msbirjandi\\AppData\\Local\\Temp\\ipykernel_5904\\4030410836.py:8: FutureWarning: Calling float on a single element Series is deprecated and will raise a TypeError in the future. Use float(ser.iloc[0]) instead\n",
      "  China_df.loc[China_df['Trade']==\"Export\",f'Y{year}']= float(data_read[data_read['Country']==\"چين\"]['Dollars_Exp'])\n",
      "C:\\Users\\msbirjandi\\AppData\\Local\\Temp\\ipykernel_5904\\4030410836.py:9: FutureWarning: Calling float on a single element Series is deprecated and will raise a TypeError in the future. Use float(ser.iloc[0]) instead\n",
      "  China_df.loc[China_df['Trade']==\"Trade Balance\",f'Y{year}']= float(China_df.loc[China_df['Trade']==\"Export\",f'Y{year}'])-float(China_df.loc[China_df['Trade']==\"Import\",f'Y{year}'])\n",
      "C:\\Users\\msbirjandi\\AppData\\Local\\Temp\\ipykernel_5904\\4030410836.py:7: FutureWarning: Calling float on a single element Series is deprecated and will raise a TypeError in the future. Use float(ser.iloc[0]) instead\n",
      "  China_df.loc[China_df['Trade']==\"Import\",f'Y{year}']= float(data_read[data_read['Country']==\"چين\"]['Dollars_Imp'])\n",
      "C:\\Users\\msbirjandi\\AppData\\Local\\Temp\\ipykernel_5904\\4030410836.py:8: FutureWarning: Calling float on a single element Series is deprecated and will raise a TypeError in the future. Use float(ser.iloc[0]) instead\n",
      "  China_df.loc[China_df['Trade']==\"Export\",f'Y{year}']= float(data_read[data_read['Country']==\"چين\"]['Dollars_Exp'])\n",
      "C:\\Users\\msbirjandi\\AppData\\Local\\Temp\\ipykernel_5904\\4030410836.py:9: FutureWarning: Calling float on a single element Series is deprecated and will raise a TypeError in the future. Use float(ser.iloc[0]) instead\n",
      "  China_df.loc[China_df['Trade']==\"Trade Balance\",f'Y{year}']= float(China_df.loc[China_df['Trade']==\"Export\",f'Y{year}'])-float(China_df.loc[China_df['Trade']==\"Import\",f'Y{year}'])\n",
      "C:\\Users\\msbirjandi\\AppData\\Local\\Temp\\ipykernel_5904\\4030410836.py:7: FutureWarning: Calling float on a single element Series is deprecated and will raise a TypeError in the future. Use float(ser.iloc[0]) instead\n",
      "  China_df.loc[China_df['Trade']==\"Import\",f'Y{year}']= float(data_read[data_read['Country']==\"چين\"]['Dollars_Imp'])\n",
      "C:\\Users\\msbirjandi\\AppData\\Local\\Temp\\ipykernel_5904\\4030410836.py:8: FutureWarning: Calling float on a single element Series is deprecated and will raise a TypeError in the future. Use float(ser.iloc[0]) instead\n",
      "  China_df.loc[China_df['Trade']==\"Export\",f'Y{year}']= float(data_read[data_read['Country']==\"چين\"]['Dollars_Exp'])\n",
      "C:\\Users\\msbirjandi\\AppData\\Local\\Temp\\ipykernel_5904\\4030410836.py:9: FutureWarning: Calling float on a single element Series is deprecated and will raise a TypeError in the future. Use float(ser.iloc[0]) instead\n",
      "  China_df.loc[China_df['Trade']==\"Trade Balance\",f'Y{year}']= float(China_df.loc[China_df['Trade']==\"Export\",f'Y{year}'])-float(China_df.loc[China_df['Trade']==\"Import\",f'Y{year}'])\n",
      "C:\\Users\\msbirjandi\\AppData\\Local\\Temp\\ipykernel_5904\\4030410836.py:7: FutureWarning: Calling float on a single element Series is deprecated and will raise a TypeError in the future. Use float(ser.iloc[0]) instead\n",
      "  China_df.loc[China_df['Trade']==\"Import\",f'Y{year}']= float(data_read[data_read['Country']==\"چين\"]['Dollars_Imp'])\n",
      "C:\\Users\\msbirjandi\\AppData\\Local\\Temp\\ipykernel_5904\\4030410836.py:8: FutureWarning: Calling float on a single element Series is deprecated and will raise a TypeError in the future. Use float(ser.iloc[0]) instead\n",
      "  China_df.loc[China_df['Trade']==\"Export\",f'Y{year}']= float(data_read[data_read['Country']==\"چين\"]['Dollars_Exp'])\n",
      "C:\\Users\\msbirjandi\\AppData\\Local\\Temp\\ipykernel_5904\\4030410836.py:9: FutureWarning: Calling float on a single element Series is deprecated and will raise a TypeError in the future. Use float(ser.iloc[0]) instead\n",
      "  China_df.loc[China_df['Trade']==\"Trade Balance\",f'Y{year}']= float(China_df.loc[China_df['Trade']==\"Export\",f'Y{year}'])-float(China_df.loc[China_df['Trade']==\"Import\",f'Y{year}'])\n",
      "C:\\Users\\msbirjandi\\AppData\\Local\\Temp\\ipykernel_5904\\4030410836.py:7: FutureWarning: Calling float on a single element Series is deprecated and will raise a TypeError in the future. Use float(ser.iloc[0]) instead\n",
      "  China_df.loc[China_df['Trade']==\"Import\",f'Y{year}']= float(data_read[data_read['Country']==\"چين\"]['Dollars_Imp'])\n",
      "C:\\Users\\msbirjandi\\AppData\\Local\\Temp\\ipykernel_5904\\4030410836.py:8: FutureWarning: Calling float on a single element Series is deprecated and will raise a TypeError in the future. Use float(ser.iloc[0]) instead\n",
      "  China_df.loc[China_df['Trade']==\"Export\",f'Y{year}']= float(data_read[data_read['Country']==\"چين\"]['Dollars_Exp'])\n",
      "C:\\Users\\msbirjandi\\AppData\\Local\\Temp\\ipykernel_5904\\4030410836.py:9: FutureWarning: Calling float on a single element Series is deprecated and will raise a TypeError in the future. Use float(ser.iloc[0]) instead\n",
      "  China_df.loc[China_df['Trade']==\"Trade Balance\",f'Y{year}']= float(China_df.loc[China_df['Trade']==\"Export\",f'Y{year}'])-float(China_df.loc[China_df['Trade']==\"Import\",f'Y{year}'])\n",
      "C:\\Users\\msbirjandi\\AppData\\Local\\Temp\\ipykernel_5904\\4030410836.py:7: FutureWarning: Calling float on a single element Series is deprecated and will raise a TypeError in the future. Use float(ser.iloc[0]) instead\n",
      "  China_df.loc[China_df['Trade']==\"Import\",f'Y{year}']= float(data_read[data_read['Country']==\"چين\"]['Dollars_Imp'])\n",
      "C:\\Users\\msbirjandi\\AppData\\Local\\Temp\\ipykernel_5904\\4030410836.py:8: FutureWarning: Calling float on a single element Series is deprecated and will raise a TypeError in the future. Use float(ser.iloc[0]) instead\n",
      "  China_df.loc[China_df['Trade']==\"Export\",f'Y{year}']= float(data_read[data_read['Country']==\"چين\"]['Dollars_Exp'])\n",
      "C:\\Users\\msbirjandi\\AppData\\Local\\Temp\\ipykernel_5904\\4030410836.py:9: FutureWarning: Calling float on a single element Series is deprecated and will raise a TypeError in the future. Use float(ser.iloc[0]) instead\n",
      "  China_df.loc[China_df['Trade']==\"Trade Balance\",f'Y{year}']= float(China_df.loc[China_df['Trade']==\"Export\",f'Y{year}'])-float(China_df.loc[China_df['Trade']==\"Import\",f'Y{year}'])\n",
      "C:\\Users\\msbirjandi\\AppData\\Local\\Temp\\ipykernel_5904\\4030410836.py:7: FutureWarning: Calling float on a single element Series is deprecated and will raise a TypeError in the future. Use float(ser.iloc[0]) instead\n",
      "  China_df.loc[China_df['Trade']==\"Import\",f'Y{year}']= float(data_read[data_read['Country']==\"چين\"]['Dollars_Imp'])\n",
      "C:\\Users\\msbirjandi\\AppData\\Local\\Temp\\ipykernel_5904\\4030410836.py:8: FutureWarning: Calling float on a single element Series is deprecated and will raise a TypeError in the future. Use float(ser.iloc[0]) instead\n",
      "  China_df.loc[China_df['Trade']==\"Export\",f'Y{year}']= float(data_read[data_read['Country']==\"چين\"]['Dollars_Exp'])\n",
      "C:\\Users\\msbirjandi\\AppData\\Local\\Temp\\ipykernel_5904\\4030410836.py:9: FutureWarning: Calling float on a single element Series is deprecated and will raise a TypeError in the future. Use float(ser.iloc[0]) instead\n",
      "  China_df.loc[China_df['Trade']==\"Trade Balance\",f'Y{year}']= float(China_df.loc[China_df['Trade']==\"Export\",f'Y{year}'])-float(China_df.loc[China_df['Trade']==\"Import\",f'Y{year}'])\n",
      "C:\\Users\\msbirjandi\\AppData\\Local\\Temp\\ipykernel_5904\\4030410836.py:7: FutureWarning: Calling float on a single element Series is deprecated and will raise a TypeError in the future. Use float(ser.iloc[0]) instead\n",
      "  China_df.loc[China_df['Trade']==\"Import\",f'Y{year}']= float(data_read[data_read['Country']==\"چين\"]['Dollars_Imp'])\n",
      "C:\\Users\\msbirjandi\\AppData\\Local\\Temp\\ipykernel_5904\\4030410836.py:8: FutureWarning: Calling float on a single element Series is deprecated and will raise a TypeError in the future. Use float(ser.iloc[0]) instead\n",
      "  China_df.loc[China_df['Trade']==\"Export\",f'Y{year}']= float(data_read[data_read['Country']==\"چين\"]['Dollars_Exp'])\n",
      "C:\\Users\\msbirjandi\\AppData\\Local\\Temp\\ipykernel_5904\\4030410836.py:9: FutureWarning: Calling float on a single element Series is deprecated and will raise a TypeError in the future. Use float(ser.iloc[0]) instead\n",
      "  China_df.loc[China_df['Trade']==\"Trade Balance\",f'Y{year}']= float(China_df.loc[China_df['Trade']==\"Export\",f'Y{year}'])-float(China_df.loc[China_df['Trade']==\"Import\",f'Y{year}'])\n",
      "C:\\Users\\msbirjandi\\AppData\\Local\\Temp\\ipykernel_5904\\4030410836.py:7: FutureWarning: Calling float on a single element Series is deprecated and will raise a TypeError in the future. Use float(ser.iloc[0]) instead\n",
      "  China_df.loc[China_df['Trade']==\"Import\",f'Y{year}']= float(data_read[data_read['Country']==\"چين\"]['Dollars_Imp'])\n",
      "C:\\Users\\msbirjandi\\AppData\\Local\\Temp\\ipykernel_5904\\4030410836.py:8: FutureWarning: Calling float on a single element Series is deprecated and will raise a TypeError in the future. Use float(ser.iloc[0]) instead\n",
      "  China_df.loc[China_df['Trade']==\"Export\",f'Y{year}']= float(data_read[data_read['Country']==\"چين\"]['Dollars_Exp'])\n",
      "C:\\Users\\msbirjandi\\AppData\\Local\\Temp\\ipykernel_5904\\4030410836.py:9: FutureWarning: Calling float on a single element Series is deprecated and will raise a TypeError in the future. Use float(ser.iloc[0]) instead\n",
      "  China_df.loc[China_df['Trade']==\"Trade Balance\",f'Y{year}']= float(China_df.loc[China_df['Trade']==\"Export\",f'Y{year}'])-float(China_df.loc[China_df['Trade']==\"Import\",f'Y{year}'])\n"
     ]
    }
   ],
   "source": [
    "my_data={'Trade':['Import','Export','Trade Balance']}\n",
    "China_df=pd.DataFrame(my_data)\n",
    "for year in range(1380,1403):\n",
    "    data_read=pd.read_excel(f\"{my_wd}/Data/Country_Data/Y{year}CountryTrade.xlsx\")\n",
    "    data_read.replace(\"ي\",'ی',inplace=True)\n",
    "    China_df[f'Y{year}']=np.nan\n",
    "    China_df.loc[China_df['Trade']==\"Import\",f'Y{year}']= float(data_read[data_read['Country']==\"چين\"]['Dollars_Imp'])\n",
    "    China_df.loc[China_df['Trade']==\"Export\",f'Y{year}']= float(data_read[data_read['Country']==\"چين\"]['Dollars_Exp'])\n",
    "    China_df.loc[China_df['Trade']==\"Trade Balance\",f'Y{year}']= float(China_df.loc[China_df['Trade']==\"Export\",f'Y{year}'])-float(China_df.loc[China_df['Trade']==\"Import\",f'Y{year}'])\n"
   ]
  },
  {
   "cell_type": "code",
   "execution_count": 32,
   "metadata": {},
   "outputs": [],
   "source": [
    "China_df.to_excel(f'{my_wd}\\Data\\Indices\\China_TimeSeries.xlsx',index=False)"
   ]
  },
  {
   "cell_type": "code",
   "execution_count": 16,
   "metadata": {},
   "outputs": [
    {
     "data": {
      "text/plain": [
       "array(['(بلوروس ( روسيه سفيد', 'آذربايجان', 'آروبا', 'آرژانتين',\n",
       "       'آفريقاي جنوبي', 'آلباني', 'آلمان', 'آندورا', 'آنگوئيلا', 'آنگولا',\n",
       "       'اتريش', 'اتيوپي', 'اردن', 'ارمنستان', 'اروگوئه', 'اريتره',\n",
       "       'ازبكستان', 'استراليا', 'استوني', 'اسلواكي', 'اسلووني', 'اسپانيا',\n",
       "       'افغانستان', 'اكوادور', 'الجزاير', 'السالوادور',\n",
       "       'امارات متحده عربي', 'اندونزي', 'انگلستان', 'اوكراين', 'اوگاندا',\n",
       "       'ايالات متحده آمريكا', 'ايتاليا', 'ايرلند', 'باربادوس', 'بحرين',\n",
       "       'برزيل', 'برونئي (دارالسلام )', 'بروندي', 'بلغارستان', 'بلژيك',\n",
       "       'بنين', 'بنگلادش', 'بوتسوانا', 'بوروكينافاسو', 'بوسني وهرزگوين',\n",
       "       'بوليوي', 'تاجيكستان', 'تايلند', 'تايوان', 'تركمنستان', 'تركيه',\n",
       "       'ترينيدادوتوباگو', 'تونس', 'تونگا', 'توگو', 'جزايرانتيل هلند',\n",
       "       'جماهيرعربي ليبي', 'جمهوري آفريقاي مركزي', 'جمهوري عربي سوريه',\n",
       "       'جمهوري كره ', 'جمهوري متحده تانزانيا',\n",
       "       'جمهوري مقدونيه (يوگسلاوي )', 'جمهوري مولداوي', 'جمهوري چك',\n",
       "       'جيبوتي', 'دانمارك', 'دومينيكا', 'رواندا', 'روماني', 'رينيون',\n",
       "       'زامبيا', 'زيمبابوه', 'ساحل عاج', 'ساير كشورهاي خارجي',\n",
       "       'سري لانكا', 'سن مارينو', 'سنگال', 'سنگاپور', 'سوئد', 'سوئيس',\n",
       "       'سوازيلند', 'سودان', 'سورينام', 'سومالي', 'سيرالئون', 'شيلي',\n",
       "       'عراق', 'عربستان سعودي', 'عمان', 'غنا', 'فدراسيون روسيه', 'فرانسه',\n",
       "       'فروشگاه آزاد شاهد', 'فنلاند', 'فيليپين', 'قبرس', 'قرقيزستان',\n",
       "       'قزاقستان', 'قطر', 'كاستاريكا', 'كامرون', 'كانادا', 'كرواسي',\n",
       "       'كلمبيا', 'كنيا', 'كنگو', 'كوبا', 'كوموروس', 'كويت', 'كيپ لائوس',\n",
       "       'لبنان', 'لتوني(لاتويا)', 'لهستان', 'لوگزامبورگ', 'ليبريا',\n",
       "       'ليتواني', 'ماداگاسكار', 'مارتينيك', 'مالاوي', 'مالتا', 'مالزي',\n",
       "       'مالي', 'مجارستان', 'مراكش ', 'مصر', 'مكزيك', 'منطقه آزاد قشم',\n",
       "       'منطقه آزاد كيش', 'منطقه آزاد چابهار', 'منطقه ازاد جلفا',\n",
       "       'منطقه ازاد سلفچگان', 'منطقه ازاد سيرجان',\n",
       "       'منطقه ويژه اقتصادي انرژي پارس (عسلويه )',\n",
       "       'منطقه ويژه اقتصادي خرمشهر', 'موريتاني', 'موريس', 'موزامبيك',\n",
       "       'ميانمار', 'ناميبيا', 'نروژ', 'نيجر', 'نيجريه', 'نيوزيلند', 'نپال',\n",
       "       'هائيتي', 'هلند', 'هند', 'هندوراس', 'هنگ كنگ', 'واتيكان',\n",
       "       'ونزوئلا', 'ويتنام', 'يمن', 'يونان', 'يوگسلاوي', 'پاراگوئه',\n",
       "       'پاكستان', 'پاناما', 'پرتغال', 'پرو', 'چاد', 'چين', 'ژاپن', 'گابن',\n",
       "       'گامبيا', 'گرجستان', 'گواتمالا', 'گويان', 'گينه', 'گينه بيسائو',\n",
       "       'سيشل', 'ليختن اشتاين'], dtype=object)"
      ]
     },
     "execution_count": 16,
     "metadata": {},
     "output_type": "execute_result"
    }
   ],
   "source": [
    "data_read['Country'].unique()"
   ]
  },
  {
   "cell_type": "code",
   "execution_count": null,
   "metadata": {},
   "outputs": [],
   "source": [
    "my_data={'Trade':['Import','Export','Tot']}\n",
    "China_df=pd.DataFrame(my_data)\n",
    "for year in range(1380,1403):\n",
    "    data=pd.read_excel(f\"{my_wd}/Data/Country_Data/Y{year}CountryTrade.xlsx\")\n"
   ]
  }
 ],
 "metadata": {
  "kernelspec": {
   "display_name": "Python 3",
   "language": "python",
   "name": "python3"
  },
  "language_info": {
   "codemirror_mode": {
    "name": "ipython",
    "version": 3
   },
   "file_extension": ".py",
   "mimetype": "text/x-python",
   "name": "python",
   "nbconvert_exporter": "python",
   "pygments_lexer": "ipython3",
   "version": "3.11.3"
  }
 },
 "nbformat": 4,
 "nbformat_minor": 2
}
