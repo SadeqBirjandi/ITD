{
 "cells": [
  {
   "cell_type": "code",
   "execution_count": 1,
   "metadata": {},
   "outputs": [
    {
     "name": "stdout",
     "output_type": "stream",
     "text": [
      "Collecting requests-html\n",
      "  Downloading requests_html-0.10.0-py3-none-any.whl (13 kB)\n",
      "Requirement already satisfied: requests in c:\\users\\msbirjandi\\appdata\\local\\programs\\python\\python311\\lib\\site-packages (from requests-html) (2.31.0)\n",
      "Collecting pyquery\n",
      "  Downloading pyquery-2.0.0-py3-none-any.whl (22 kB)\n",
      "Collecting fake-useragent\n",
      "  Downloading fake_useragent-1.5.1-py3-none-any.whl (17 kB)\n",
      "Collecting parse\n",
      "  Downloading parse-1.20.2-py2.py3-none-any.whl (20 kB)\n",
      "Collecting bs4\n",
      "  Downloading bs4-0.0.2-py2.py3-none-any.whl (1.2 kB)\n",
      "Collecting w3lib\n",
      "  Downloading w3lib-2.2.1-py3-none-any.whl (21 kB)\n",
      "Collecting pyppeteer>=0.0.14\n",
      "  Downloading pyppeteer-2.0.0-py3-none-any.whl (82 kB)\n",
      "     -------------------------------------- 82.9/82.9 kB 422.4 kB/s eta 0:00:00\n",
      "Collecting appdirs<2.0.0,>=1.4.3\n",
      "  Downloading appdirs-1.4.4-py2.py3-none-any.whl (9.6 kB)\n",
      "Requirement already satisfied: certifi>=2023 in c:\\users\\msbirjandi\\appdata\\local\\programs\\python\\python311\\lib\\site-packages (from pyppeteer>=0.0.14->requests-html) (2023.11.17)\n",
      "Requirement already satisfied: importlib-metadata>=1.4 in c:\\users\\msbirjandi\\appdata\\local\\programs\\python\\python311\\lib\\site-packages (from pyppeteer>=0.0.14->requests-html) (7.0.1)\n",
      "Collecting pyee<12.0.0,>=11.0.0\n",
      "  Downloading pyee-11.1.0-py3-none-any.whl (15 kB)\n",
      "Requirement already satisfied: tqdm<5.0.0,>=4.42.1 in c:\\users\\msbirjandi\\appdata\\local\\programs\\python\\python311\\lib\\site-packages (from pyppeteer>=0.0.14->requests-html) (4.66.1)\n",
      "Collecting urllib3<2.0.0,>=1.25.8\n",
      "  Downloading urllib3-1.26.19-py2.py3-none-any.whl (143 kB)\n",
      "     -------------------------------------- 143.9/143.9 kB 4.3 MB/s eta 0:00:00\n",
      "Collecting websockets<11.0,>=10.0\n",
      "  Downloading websockets-10.4-cp311-cp311-win_amd64.whl (101 kB)\n",
      "     ------------------------------------ 101.4/101.4 kB 729.6 kB/s eta 0:00:00\n",
      "Requirement already satisfied: beautifulsoup4 in c:\\users\\msbirjandi\\appdata\\local\\programs\\python\\python311\\lib\\site-packages (from bs4->requests-html) (4.12.3)\n",
      "Collecting lxml>=2.1\n",
      "  Downloading lxml-5.2.2-cp311-cp311-win_amd64.whl (3.8 MB)\n",
      "     ---------------------------------------- 3.8/3.8 MB 215.4 kB/s eta 0:00:00\n",
      "Collecting cssselect>=1.2.0\n",
      "  Downloading cssselect-1.2.0-py2.py3-none-any.whl (18 kB)\n",
      "Requirement already satisfied: charset-normalizer<4,>=2 in c:\\users\\msbirjandi\\appdata\\local\\programs\\python\\python311\\lib\\site-packages (from requests->requests-html) (3.3.2)\n",
      "Requirement already satisfied: idna<4,>=2.5 in c:\\users\\msbirjandi\\appdata\\local\\programs\\python\\python311\\lib\\site-packages (from requests->requests-html) (3.6)\n",
      "Requirement already satisfied: zipp>=0.5 in c:\\users\\msbirjandi\\appdata\\local\\programs\\python\\python311\\lib\\site-packages (from importlib-metadata>=1.4->pyppeteer>=0.0.14->requests-html) (3.17.0)\n",
      "Requirement already satisfied: typing-extensions in c:\\users\\msbirjandi\\appdata\\local\\programs\\python\\python311\\lib\\site-packages (from pyee<12.0.0,>=11.0.0->pyppeteer>=0.0.14->requests-html) (4.9.0)\n",
      "Requirement already satisfied: colorama in c:\\users\\msbirjandi\\appdata\\roaming\\python\\python311\\site-packages (from tqdm<5.0.0,>=4.42.1->pyppeteer>=0.0.14->requests-html) (0.4.6)\n",
      "Requirement already satisfied: soupsieve>1.2 in c:\\users\\msbirjandi\\appdata\\local\\programs\\python\\python311\\lib\\site-packages (from beautifulsoup4->bs4->requests-html) (2.5)\n",
      "Installing collected packages: parse, fake-useragent, appdirs, websockets, w3lib, urllib3, pyee, lxml, cssselect, pyquery, pyppeteer, bs4, requests-html\n",
      "  Attempting uninstall: urllib3\n",
      "    Found existing installation: urllib3 2.1.0\n",
      "    Uninstalling urllib3-2.1.0:\n",
      "      Successfully uninstalled urllib3-2.1.0\n",
      "Successfully installed appdirs-1.4.4 bs4-0.0.2 cssselect-1.2.0 fake-useragent-1.5.1 lxml-5.2.2 parse-1.20.2 pyee-11.1.0 pyppeteer-2.0.0 pyquery-2.0.0 requests-html-0.10.0 urllib3-1.26.19 w3lib-2.2.1 websockets-10.4\n",
      "Note: you may need to restart the kernel to use updated packages.\n"
     ]
    },
    {
     "name": "stderr",
     "output_type": "stream",
     "text": [
      "  WARNING: The script pyppeteer-install.exe is installed in 'c:\\Users\\msbirjandi\\AppData\\Local\\Programs\\Python\\Python311\\Scripts' which is not on PATH.\n",
      "  Consider adding this directory to PATH or, if you prefer to suppress this warning, use --no-warn-script-location.\n",
      "\n",
      "[notice] A new release of pip available: 22.3.1 -> 24.1.2\n",
      "[notice] To update, run: python.exe -m pip install --upgrade pip\n"
     ]
    }
   ],
   "source": [
    "pip install requests-html\n"
   ]
  },
  {
   "cell_type": "code",
   "execution_count": 3,
   "metadata": {},
   "outputs": [
    {
     "name": "stdout",
     "output_type": "stream",
     "text": [
      "Requirement already satisfied: lxml[html_clean] in c:\\users\\msbirjandi\\appdata\\local\\programs\\python\\python311\\lib\\site-packages (5.2.2)Note: you may need to restart the kernel to use updated packages.\n",
      "\n",
      "Collecting lxml-html-clean\n",
      "  Downloading lxml_html_clean-0.1.1-py3-none-any.whl (11 kB)\n",
      "Installing collected packages: lxml-html-clean\n",
      "Successfully installed lxml-html-clean-0.1.1\n"
     ]
    },
    {
     "name": "stderr",
     "output_type": "stream",
     "text": [
      "\n",
      "[notice] A new release of pip available: 22.3.1 -> 24.1.2\n",
      "[notice] To update, run: python.exe -m pip install --upgrade pip\n"
     ]
    }
   ],
   "source": [
    "pip install lxml[html_clean]"
   ]
  },
  {
   "cell_type": "code",
   "execution_count": null,
   "metadata": {},
   "outputs": [],
   "source": [
    "678B28E5BF2D1B22E622FC0BE4519B38"
   ]
  },
  {
   "cell_type": "code",
   "execution_count": 4,
   "metadata": {},
   "outputs": [],
   "source": [
    "import requests_html\n",
    "\n",
    "session = requests_html.HTMLSession()\n",
    "\n",
    "# Define the cookies\n",
    "cookies = {\n",
    "    \"sessionid\": \"678B28E5BF2D1B22E622FC0BE4519B38\",\n",
    "}\n",
    "\n",
    "# Update with the appropriate headers\n",
    "headers = {\n",
    "    'User-Agent': 'Mozilla/5.0'\n",
    "}\n",
    "\n",
    "# Set the cookies and headers\n",
    "session.headers.update(headers)\n",
    "session.cookies.update(cookies)\n",
    "\n",
    "# Navigate to the page you want to scrape\n",
    "page = session.get(\"https://crs.ntsw.ir/ts5?tariffCode=85122010\")\n",
    "\n",
    "# Use BeautifulSoup (or any other library) to parse and extract data\n",
    "from bs4 import BeautifulSoup\n",
    "soup = BeautifulSoup(page.content, \"html.parser\")\n",
    "\n",
    "# Extract the desired data from the scraped page using BeautifulSoup methods"
   ]
  },
  {
   "cell_type": "code",
   "execution_count": null,
   "metadata": {},
   "outputs": [],
   "source": [
    "page.form.get(\"my_form\").fill(my_input=\"your_number\")"
   ]
  },
  {
   "cell_type": "code",
   "execution_count": 8,
   "metadata": {},
   "outputs": [],
   "source": [
    "html = page.html\n"
   ]
  },
  {
   "cell_type": "code",
   "execution_count": 9,
   "metadata": {},
   "outputs": [],
   "source": [
    "input_element = html.find(\"input[type='text']\", first=True)"
   ]
  },
  {
   "cell_type": "code",
   "execution_count": 11,
   "metadata": {},
   "outputs": [
    {
     "name": "stdout",
     "output_type": "stream",
     "text": [
      "Input box not found.\n"
     ]
    }
   ],
   "source": [
    "input_element = html.find(\"#lawUniqueId\", first=True)\n",
    "\n",
    "if input_element is not None:\n",
    "    # Enter text into the input element\n",
    "    input_element.set_value(\"28011000\")\n",
    "    print(\"Text entered into the input box.\")\n",
    "else:\n",
    "    print(\"Input box not found.\")"
   ]
  },
  {
   "cell_type": "code",
   "execution_count": 12,
   "metadata": {},
   "outputs": [
    {
     "name": "stdout",
     "output_type": "stream",
     "text": [
      "Webpage loaded successfully.\n"
     ]
    }
   ],
   "source": [
    "if page.status_code == 200:\n",
    "    print(\"Webpage loaded successfully.\")\n",
    "else:\n",
    "    print(\"Failed to load the webpage.\")"
   ]
  },
  {
   "cell_type": "code",
   "execution_count": 13,
   "metadata": {},
   "outputs": [
    {
     "ename": "AttributeError",
     "evalue": "'HTML' object has no attribute 'wait_for_selector'",
     "output_type": "error",
     "traceback": [
      "\u001b[1;31m---------------------------------------------------------------------------\u001b[0m",
      "\u001b[1;31mAttributeError\u001b[0m                            Traceback (most recent call last)",
      "Cell \u001b[1;32mIn[13], line 1\u001b[0m\n\u001b[1;32m----> 1\u001b[0m \u001b[43mhtml\u001b[49m\u001b[38;5;241;43m.\u001b[39;49m\u001b[43mwait_for_selector\u001b[49m(\u001b[38;5;124m\"\u001b[39m\u001b[38;5;124m#lawUniqueId\u001b[39m\u001b[38;5;124m\"\u001b[39m)\n\u001b[0;32m      3\u001b[0m \u001b[38;5;66;03m# Verify if the element is found\u001b[39;00m\n\u001b[0;32m      4\u001b[0m \u001b[38;5;28;01mif\u001b[39;00m html\u001b[38;5;241m.\u001b[39mfind(\u001b[38;5;124m\"\u001b[39m\u001b[38;5;124m#lawUniqueId\u001b[39m\u001b[38;5;124m\"\u001b[39m, first\u001b[38;5;241m=\u001b[39m\u001b[38;5;28;01mTrue\u001b[39;00m) \u001b[38;5;129;01mis\u001b[39;00m \u001b[38;5;129;01mnot\u001b[39;00m \u001b[38;5;28;01mNone\u001b[39;00m:\n",
      "\u001b[1;31mAttributeError\u001b[0m: 'HTML' object has no attribute 'wait_for_selector'"
     ]
    }
   ],
   "source": [
    "html.wait_for_selector(\"#lawUniqueId\")\n",
    "\n",
    "# Verify if the element is found\n",
    "if html.find(\"#lawUniqueId\", first=True) is not None:\n",
    "    print(\"Input box found on the webpage.\")\n",
    "else:\n",
    "    print(\"Input box not found on the webpage.\")"
   ]
  }
 ],
 "metadata": {
  "kernelspec": {
   "display_name": "Python 3",
   "language": "python",
   "name": "python3"
  },
  "language_info": {
   "codemirror_mode": {
    "name": "ipython",
    "version": 3
   },
   "file_extension": ".py",
   "mimetype": "text/x-python",
   "name": "python",
   "nbconvert_exporter": "python",
   "pygments_lexer": "ipython3",
   "version": "3.11.3"
  }
 },
 "nbformat": 4,
 "nbformat_minor": 2
}
