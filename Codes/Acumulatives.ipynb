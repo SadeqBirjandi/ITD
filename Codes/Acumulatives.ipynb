{
 "cells": [
  {
   "cell_type": "code",
   "execution_count": 1,
   "metadata": {},
   "outputs": [],
   "source": [
    "import pandas as pd\n",
    "import numpy as np\n",
    "import os"
   ]
  },
  {
   "cell_type": "code",
   "execution_count": 2,
   "metadata": {},
   "outputs": [
    {
     "name": "stdout",
     "output_type": "stream",
     "text": [
      "Already Exists\n"
     ]
    }
   ],
   "source": [
    "os.chdir(\"C:\\TradeGroup\")\n",
    "my_wd = os.getcwd()\n",
    "new_directory = my_wd\n",
    "\n",
    "def create_folder(folder_path):\n",
    "    if not os.path.exists(f'{new_directory}/{folder_path}'):\n",
    "        os.makedirs(f'{new_directory}/{folder_path}')\n",
    "    else:\n",
    "        print(f'Already Exists')\n",
    "\n",
    "create_folder('Data/Indices')"
   ]
  },
  {
   "cell_type": "code",
   "execution_count": 11,
   "metadata": {},
   "outputs": [
    {
     "name": "stdout",
     "output_type": "stream",
     "text": [
      "1383\n",
      "1384\n",
      "1385\n",
      "1386\n",
      "1387\n",
      "1388\n",
      "1389\n",
      "1390\n",
      "1391\n",
      "1392\n",
      "1393\n",
      "1394\n",
      "1395\n",
      "1396\n",
      "1397\n",
      "1398\n",
      "1399\n",
      "1400\n",
      "1401\n",
      "1402\n"
     ]
    }
   ],
   "source": [
    "year = 1383\n",
    "for year in range(1383,1403):\n",
    "    exports_path = os.path.join(my_wd, f\"Data/Country_Data/Y{year}CountryTrade.xlsx\")\n",
    "\n",
    "    print(year)\n",
    "    Exports = pd.read_excel(exports_path)\n",
    "\n",
    "\n",
    "    Exp_Share = Exports[['Country','Exp_Share']]\n",
    "    Exp_Share = Exp_Share.sort_values(by=\"Exp_Share\", ascending=False)\n",
    "    Exp_Share[\"Rank\"] = Exp_Share.reset_index().index + 1\n",
    "    Exp_Share[\"Cumulative_Share\"] = Exp_Share[\"Exp_Share\"].cumsum()\n",
    "\n",
    "    if year == 1383:\n",
    "        Exp_Share_Series = Exp_Share\n",
    "    else:\n",
    "        Exp_Share_Series = Exp_Share_Series.merge(Exp_Share,how='outer',on='Rank',suffixes = ('',f'_{year}'))  "
   ]
  },
  {
   "cell_type": "code",
   "execution_count": 13,
   "metadata": {},
   "outputs": [],
   "source": [
    "Exp_Share_Series.to_excel(f'{my_wd}\\Data\\Indices\\Cummulative_Shares.xlsx',index=False)"
   ]
  },
  {
   "cell_type": "code",
   "execution_count": 8,
   "metadata": {},
   "outputs": [
    {
     "data": {
      "text/html": [
       "<div>\n",
       "<style scoped>\n",
       "    .dataframe tbody tr th:only-of-type {\n",
       "        vertical-align: middle;\n",
       "    }\n",
       "\n",
       "    .dataframe tbody tr th {\n",
       "        vertical-align: top;\n",
       "    }\n",
       "\n",
       "    .dataframe thead th {\n",
       "        text-align: right;\n",
       "    }\n",
       "</style>\n",
       "<table border=\"1\" class=\"dataframe\">\n",
       "  <thead>\n",
       "    <tr style=\"text-align: right;\">\n",
       "      <th></th>\n",
       "      <th>Country</th>\n",
       "      <th>Exp_Share</th>\n",
       "      <th>Rank</th>\n",
       "      <th>Cumulative_Share</th>\n",
       "    </tr>\n",
       "  </thead>\n",
       "  <tbody>\n",
       "    <tr>\n",
       "      <th>23</th>\n",
       "      <td>امارات متحده عربي</td>\n",
       "      <td>18.019</td>\n",
       "      <td>1</td>\n",
       "      <td>18.019</td>\n",
       "    </tr>\n",
       "    <tr>\n",
       "      <th>136</th>\n",
       "      <td>هند</td>\n",
       "      <td>6.953</td>\n",
       "      <td>2</td>\n",
       "      <td>24.972</td>\n",
       "    </tr>\n",
       "    <tr>\n",
       "      <th>79</th>\n",
       "      <td>عراق</td>\n",
       "      <td>5.427</td>\n",
       "      <td>3</td>\n",
       "      <td>30.399</td>\n",
       "    </tr>\n",
       "    <tr>\n",
       "      <th>150</th>\n",
       "      <td>ژاپن</td>\n",
       "      <td>5.038</td>\n",
       "      <td>4</td>\n",
       "      <td>35.437</td>\n",
       "    </tr>\n",
       "    <tr>\n",
       "      <th>5</th>\n",
       "      <td>آلمان</td>\n",
       "      <td>4.791</td>\n",
       "      <td>5</td>\n",
       "      <td>40.228</td>\n",
       "    </tr>\n",
       "    <tr>\n",
       "      <th>...</th>\n",
       "      <td>...</td>\n",
       "      <td>...</td>\n",
       "      <td>...</td>\n",
       "      <td>...</td>\n",
       "    </tr>\n",
       "    <tr>\n",
       "      <th>72</th>\n",
       "      <td>سوازيلند</td>\n",
       "      <td>0.000</td>\n",
       "      <td>161</td>\n",
       "      <td>99.992</td>\n",
       "    </tr>\n",
       "    <tr>\n",
       "      <th>76</th>\n",
       "      <td>سيشل</td>\n",
       "      <td>0.000</td>\n",
       "      <td>162</td>\n",
       "      <td>99.992</td>\n",
       "    </tr>\n",
       "    <tr>\n",
       "      <th>93</th>\n",
       "      <td>كاستاريكا</td>\n",
       "      <td>0.000</td>\n",
       "      <td>163</td>\n",
       "      <td>99.992</td>\n",
       "    </tr>\n",
       "    <tr>\n",
       "      <th>118</th>\n",
       "      <td>مغولستان</td>\n",
       "      <td>0.000</td>\n",
       "      <td>164</td>\n",
       "      <td>99.992</td>\n",
       "    </tr>\n",
       "    <tr>\n",
       "      <th>164</th>\n",
       "      <td>منطقه ويژه اقتصادي خرمشهر</td>\n",
       "      <td>0.000</td>\n",
       "      <td>165</td>\n",
       "      <td>99.992</td>\n",
       "    </tr>\n",
       "  </tbody>\n",
       "</table>\n",
       "<p>165 rows × 4 columns</p>\n",
       "</div>"
      ],
      "text/plain": [
       "                       Country  Exp_Share  Rank  Cumulative_Share\n",
       "23           امارات متحده عربي     18.019     1            18.019\n",
       "136                        هند      6.953     2            24.972\n",
       "79                        عراق      5.427     3            30.399\n",
       "150                       ژاپن      5.038     4            35.437\n",
       "5                        آلمان      4.791     5            40.228\n",
       "..                         ...        ...   ...               ...\n",
       "72                    سوازيلند      0.000   161            99.992\n",
       "76                        سيشل      0.000   162            99.992\n",
       "93                   كاستاريكا      0.000   163            99.992\n",
       "118                   مغولستان      0.000   164            99.992\n",
       "164  منطقه ويژه اقتصادي خرمشهر      0.000   165            99.992\n",
       "\n",
       "[165 rows x 4 columns]"
      ]
     },
     "execution_count": 8,
     "metadata": {},
     "output_type": "execute_result"
    }
   ],
   "source": [
    "Exp_Share = Exports[['Country','Exp_Share']]\n",
    "Exp_Share = Exp_Share.sort_values(by=\"Exp_Share\", ascending=False)\n",
    "Exp_Share[\"Rank\"] = Exp_Share.reset_index().index + 1\n",
    "Exp_Share[\"Cumulative_Share\"] = Exp_Share[\"Exp_Share\"].cumsum()\n",
    "Exp_Share\n"
   ]
  }
 ],
 "metadata": {
  "kernelspec": {
   "display_name": "Python 3",
   "language": "python",
   "name": "python3"
  },
  "language_info": {
   "codemirror_mode": {
    "name": "ipython",
    "version": 3
   },
   "file_extension": ".py",
   "mimetype": "text/x-python",
   "name": "python",
   "nbconvert_exporter": "python",
   "pygments_lexer": "ipython3",
   "version": "3.11.3"
  }
 },
 "nbformat": 4,
 "nbformat_minor": 2
}
