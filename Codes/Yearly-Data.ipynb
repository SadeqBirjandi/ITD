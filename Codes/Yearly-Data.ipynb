{
 "cells": [
  {
   "cell_type": "code",
   "execution_count": 1,
   "metadata": {},
   "outputs": [
    {
     "name": "stdout",
     "output_type": "stream",
     "text": [
      "Already Exists\n"
     ]
    }
   ],
   "source": [
    "import os\n",
    "import pandas as pd\n",
    "\n",
    "# Set the working directory\n",
    "os.chdir(\"C:\\TradeGroup\")\n",
    "my_wd = os.getcwd()\n",
    "new_directory=my_wd\n",
    "def create_folder(folder_path):\n",
    "    if not os.path.exists(f'{new_directory}/{folder_path}'):\n",
    "        os.makedirs(f'{new_directory}/{folder_path}')\n",
    "    else:\n",
    "        print(f'Already Exists')\n",
    "\n",
    "create_folder('Data/Yearly_Data')"
   ]
  },
  {
   "cell_type": "code",
   "execution_count": 2,
   "metadata": {},
   "outputs": [],
   "source": [
    "for year in range(1403, 1404):\n",
    "    exports_file_path = os.path.join(my_wd, f'Data/Cleaned_Data/Y{year}Exports.xlsx')\n",
    "    imports_file_path = os.path.join(my_wd, f'Data/Cleaned_Data/Y{year}Imports.xlsx')\n",
    "\n",
    "    # Check if the Exports file exists and load it\n",
    "    if os.path.exists(exports_file_path):\n",
    "        exports = pd.read_excel(exports_file_path)\n",
    "\n",
    "        # Check if 'Custom' column exists in Exports\n",
    "        if 'Custom' in exports.columns:\n",
    "            exports_yearly = exports.groupby(['Custom', 'Country', 'Tcode']).agg(\n",
    "                Weight=('Weight', 'sum'),\n",
    "                Rials=('Rials', 'sum'),\n",
    "                Dollars=('Dollars', 'sum'),\n",
    "                Tdesc=('Tdesc', 'first')\n",
    "            ).reset_index()\n",
    "        else:\n",
    "            exports_yearly = exports.groupby(['Country', 'Tcode']).agg(\n",
    "                Weight=('Weight', 'sum'),\n",
    "                Rials=('Rials', 'sum'),\n",
    "                Dollars=('Dollars', 'sum'),\n",
    "                Tdesc=('Tdesc', 'first')\n",
    "            ).reset_index()\n",
    "            print(f\"Year {year} does not have custom data\")\n",
    "\n",
    "        exports_yearly['Year'] = year\n",
    "        exports_yearly.to_excel(os.path.join(my_wd, f'Data/Yearly_Data/Y{year}Exports_Yearly.xlsx'), index=False)\n",
    "\n",
    "    # Check if the Imports file exists and load it\n",
    "    if os.path.exists(imports_file_path):\n",
    "        imports = pd.read_excel(imports_file_path)\n",
    "\n",
    "        # Check if 'Custom' column exists in Imports\n",
    "        if 'Custom' in imports.columns:\n",
    "            imports_yearly = imports.groupby(['Custom', 'Country', 'Tcode']).agg(\n",
    "                Weight=('Weight', 'sum'),\n",
    "                Rials=('Rials', 'sum'),\n",
    "                Dollars=('Dollars', 'sum'),\n",
    "                Tdesc=('Tdesc', 'first')\n",
    "            ).reset_index()\n",
    "        else:\n",
    "            imports_yearly = imports.groupby(['Country', 'Tcode']).agg(\n",
    "                Weight=('Weight', 'sum'),\n",
    "                Rials=('Rials', 'sum'),\n",
    "                Dollars=('Dollars', 'sum'),\n",
    "                Tdesc=('Tdesc', 'first')\n",
    "            ).reset_index()\n",
    "\n",
    "        imports_yearly['Year'] = year\n",
    "        imports_yearly.to_excel(os.path.join(my_wd, f'Data/Yearly_Data/Y{year}Imports_Yearly.xlsx'), index=False)"
   ]
  }
 ],
 "metadata": {
  "kernelspec": {
   "display_name": "Python 3",
   "language": "python",
   "name": "python3"
  },
  "language_info": {
   "codemirror_mode": {
    "name": "ipython",
    "version": 3
   },
   "file_extension": ".py",
   "mimetype": "text/x-python",
   "name": "python",
   "nbconvert_exporter": "python",
   "pygments_lexer": "ipython3",
   "version": "3.11.3"
  },
  "orig_nbformat": 4
 },
 "nbformat": 4,
 "nbformat_minor": 2
}
