{
 "cells": [
  {
   "cell_type": "code",
   "execution_count": 1,
   "metadata": {},
   "outputs": [],
   "source": [
    "import pandas as pd\n",
    "import numpy as np\n",
    "import os"
   ]
  },
  {
   "cell_type": "code",
   "execution_count": 2,
   "metadata": {},
   "outputs": [],
   "source": [
    "os.chdir(\"C:\\TradeGroup\")\n",
    "my_wd = os.getcwd()\n",
    "new_directory = my_wd"
   ]
  },
  {
   "cell_type": "code",
   "execution_count": 11,
   "metadata": {},
   "outputs": [],
   "source": [
    "year = 1403  \n",
    "for year in range(1397,1403):\n",
    "    exports_file_path = f\"{my_wd}/Data/Cleaned_Data/Y{year}Exports.xlsx\"\n",
    "    imports_file_path = f\"{my_wd}/Data/Cleaned_Data/Y{year}Imports.xlsx\"\n",
    "    #if year!=1394:\n",
    "    Exports = pd.read_excel(exports_file_path)\n",
    "    Imports = pd.read_excel(imports_file_path)\n",
    "    \n",
    "    \n",
    "\n",
    "    if \"Year\" not in Exports.columns:\n",
    "        Exports['Year']= year\n",
    "    if \"Year\" not in Imports.columns:\n",
    "        Imports['Year']= year   \n",
    "\n",
    "    Exports = Exports.dropna(subset=['Month'])\n",
    "    Imports = Imports.dropna(subset=['Month']) \n",
    " \n",
    "     \n",
    "    Exports['Quarter']= ((Exports['Month']-1)/3+1).astype('int')  \n",
    "    Exports_Quartely = Exports.groupby('Quarter').agg(\n",
    "        Weight = ('Weight','sum'),\n",
    "        Dollars = ('Dollars','sum')\n",
    "        ).reset_index() \n",
    "    Exports_Quartely['Year']=year\n",
    "\n",
    "\n",
    "    Imports['Quarter']= ((Imports['Month']-1)/3+1).astype('int')  \n",
    "    Imports_Quartely = Imports.groupby('Quarter').agg(\n",
    "        Weight = ('Weight','sum'),\n",
    "        Dollars = ('Dollars','sum')\n",
    "        ).reset_index() \n",
    "    Imports_Quartely['Year']=year \n",
    "\n",
    "\n",
    "    if year == 1397:\n",
    "        Exports_Quartely_Series = Exports_Quartely\n",
    "        Imports_Quartely_Series = Imports_Quartely\n",
    "    else:\n",
    "        Exports_Quartely_Series = pd.concat([Exports_Quartely_Series,Exports_Quartely])\n",
    "        Imports_Quartely_Series = pd.concat([Imports_Quartely_Series,Imports_Quartely])    \n",
    "\n",
    "\n",
    "\n",
    "\n",
    "    \n",
    "\n"
   ]
  },
  {
   "cell_type": "code",
   "execution_count": 12,
   "metadata": {},
   "outputs": [],
   "source": [
    "Exports_Quartely_Series.to_excel(f'{my_wd}/Reports/Exports_Quarterly.xlsx',index=False)\n",
    "Imports_Quartely_Series.to_excel(f'{my_wd}/Reports/Imports_Quarterly.xlsx',index=False)"
   ]
  }
 ],
 "metadata": {
  "kernelspec": {
   "display_name": "Python 3",
   "language": "python",
   "name": "python3"
  },
  "language_info": {
   "codemirror_mode": {
    "name": "ipython",
    "version": 3
   },
   "file_extension": ".py",
   "mimetype": "text/x-python",
   "name": "python",
   "nbconvert_exporter": "python",
   "pygments_lexer": "ipython3",
   "version": "3.11.3"
  }
 },
 "nbformat": 4,
 "nbformat_minor": 2
}
