{
 "cells": [
  {
   "cell_type": "code",
   "execution_count": 1,
   "metadata": {},
   "outputs": [],
   "source": [
    "import os\n",
    "import pandas as pd\n",
    "\n",
    "# Set the working directory\n",
    "os.chdir(\"C:\\TradeGroup\")\n",
    "my_wd = os.getcwd()\n",
    "\n",
    "file_path_Imp = f\"{my_wd}/Data/RawData/Imp140208first.xlsx\"\n",
    "file_path_Exp = f\"{my_wd}/Data/RawData/Exp140208first.xlsx\"\n"
   ]
  },
  {
   "cell_type": "code",
   "execution_count": 6,
   "metadata": {},
   "outputs": [],
   "source": [
    "def create_folder(folder_path):\n",
    "    if not os.path.exists(f'{new_directory}/{folder_path}'):\n",
    "        os.makedirs(f'{new_directory}/{folder_path}')\n",
    "    else:\n",
    "        print(f'Already Exists')"
   ]
  },
  {
   "cell_type": "code",
   "execution_count": 3,
   "metadata": {},
   "outputs": [],
   "source": [
    "Imports = pd.read_excel(file_path_Imp,sheet_name=\"Stats\",skiprows=1)\n",
    "Exports = pd.read_excel(file_path_Exp,sheet_name=\"Stats\",skiprows=1)\n"
   ]
  },
  {
   "cell_type": "code",
   "execution_count": 4,
   "metadata": {},
   "outputs": [],
   "source": [
    "Imports = Imports.rename(columns={\"سال\":\"Year\",\"ماه\":\"Month\",\"نام گمرک\":\"Custom\",\n",
    "                                  \"نام کشور\":\"Country\",\"کدتعرفه\":\"Tcode\",\"شرح تعرفه\": \"Tdesc\",\n",
    "                                  \"وزن (کیلوگرم)\": \"Weight_Imp\", \"ارزش (ریال)\":\"Rials_Imp\",\"ارزش (دلار)\": \"Dollars_Imp\"})\n",
    "\n",
    "Exports = Exports.rename(columns={\"سال\":\"Year\",\"ماه\":\"Month\",\"نام گمرک\":\"Custom\",\n",
    "                                  \"نام کشور\":\"Country\",\"کدتعرفه\":\"Tcode\",\"شرح تعرفه\": \"Tdesc\",\n",
    "                                  \"وزن (کیلوگرم)\": \"Weight_Exp\", \"ارزش (ریال)\":\"Rials_Exp\",\"ارزش (دلار)\": \"Dollars_Exp\"})\n",
    "\n",
    "unique_months = Imports['Month'].unique()"
   ]
  },
  {
   "cell_type": "code",
   "execution_count": 7,
   "metadata": {},
   "outputs": [],
   "source": [
    "new_directory = my_wd\n",
    "create_folder('Data/Monthly_Data/Detailed')\n",
    "DataFrames =[]\n",
    "unique_months = unique_months[~pd.isna(unique_months)]\n",
    "for month_value in unique_months:\n",
    "    # Create a new DataFrame for each month\n",
    "    df_name_Imp = f'Imports{int(month_value):02d}'\n",
    "    df_name_Exp = f'Exports{int(month_value):02d}'\n",
    "    df_name = f'M{int(month_value):02d}'\n",
    "    \n",
    "    # Filter rows for the current month\n",
    "    globals()[df_name_Imp] = Imports[Imports['Month'] == month_value].reset_index(drop=True)\n",
    "    globals()[df_name_Exp] = Exports[Exports['Month'] == month_value].reset_index(drop=True)\n",
    "    globals()[df_name]     = pd.merge(globals()[df_name_Exp],globals()[df_name_Imp],\n",
    "                                      on=['Year','Month','Custom','Country','Tcode','Tdesc'],\n",
    "                                      how='outer')\n",
    "    globals()[df_name]=globals()[df_name].fillna(0)\n",
    "    DataFrames.append(df_name)\n",
    "    xlsx_filename = os.path.join(my_wd, f'Data/Monthly_Data/Detailed/M1402{int(month_value):02d}Detailed.xlsx')\n",
    "    globals()[df_name].to_excel(xlsx_filename, index=False)    \n",
    "    \n"
   ]
  },
  {
   "cell_type": "code",
   "execution_count": 9,
   "metadata": {},
   "outputs": [],
   "source": [
    "for df in DataFrames:\n",
    "    M_monthly= globals()[df].groupby(['Tcode','Tdesc']).agg(\n",
    "        Tcode=('Tcode','first'),\n",
    "        Tdesc=('Tdesc','first'),\n",
    "        Weight_Imp=('Weight_Imp','sum'),\n",
    "        Rials_Imp=('Rials_Imp','sum'),\n",
    "        Dollars_Imp=('Dollars_Imp','sum'),\n",
    "          Weight_Exp=('Weight_Exp','sum'),\n",
    "        Rials_Exp=('Rials_Exp','sum'),\n",
    "        Dollars_Exp=('Dollars_Exp','sum')\n",
    "    ).reset_index(drop=True)\n",
    "    xlsx_filename_Sum = os.path.join(my_wd, f'Data/Monthly_Data//M1402{df}.xlsx')\n",
    "    M_monthly.to_excel(xlsx_filename_Sum, index=False)\n",
    "\n",
    "    "
   ]
  }
 ],
 "metadata": {
  "kernelspec": {
   "display_name": "Python 3",
   "language": "python",
   "name": "python3"
  },
  "language_info": {
   "codemirror_mode": {
    "name": "ipython",
    "version": 3
   },
   "file_extension": ".py",
   "mimetype": "text/x-python",
   "name": "python",
   "nbconvert_exporter": "python",
   "pygments_lexer": "ipython3",
   "version": "3.11.3"
  },
  "orig_nbformat": 4
 },
 "nbformat": 4,
 "nbformat_minor": 2
}
